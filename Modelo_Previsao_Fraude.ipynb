{
  "nbformat": 4,
  "nbformat_minor": 0,
  "metadata": {
    "colab": {
      "provenance": [],
      "authorship_tag": "ABX9TyNqM52sR3kJ87ruJwX7XkYU",
      "include_colab_link": true
    },
    "kernelspec": {
      "name": "python3",
      "display_name": "Python 3"
    },
    "language_info": {
      "name": "python"
    }
  },
  "cells": [
    {
      "cell_type": "markdown",
      "metadata": {
        "id": "view-in-github",
        "colab_type": "text"
      },
      "source": [
        "<a href=\"https://colab.research.google.com/github/BrendoAires/Biblioteca_.NET/blob/main/Modelo_Previsao_Fraude.ipynb\" target=\"_parent\"><img src=\"https://colab.research.google.com/assets/colab-badge.svg\" alt=\"Open In Colab\"/></a>"
      ]
    },
    {
      "cell_type": "code",
      "execution_count": null,
      "metadata": {
        "id": "sqQs_wq29NJ5"
      },
      "outputs": [],
      "source": [
        "#Importando bibliotecas\n",
        "import warnings\n",
        "import pandas as pd\n",
        "import matplotlib.pyplot as plt\n",
        "import seaborn as sns\n",
        "import time\n",
        "import numpy as np\n",
        "\n",
        "from sklearn.ensemble import RandomForestClassifier\n",
        "from sklearn.svm import SVC\n",
        "from sklearn.neighbors import KNeighborsClassifier\n",
        "from sklearn.model_selection import GridSearchCV\n",
        "from sklearn.model_selection import train_test_split\n",
        "from sklearn.preprocessing import LabelEncoder\n",
        "from imblearn import under_sampling, over_sampling\n",
        "from imblearn.over_sampling import SMOTE\n",
        "from sklearn.preprocessing import MinMaxScaler\n",
        "from sklearn.preprocessing import StandardScaler\n",
        "from sklearn.metrics import r2_score\n",
        "warnings.filterwarnings(\"ignore\")\n",
        "pd.set_option('display.max_columns', None)\n",
        "pd.set_option('display.max_rows', None)\n",
        "pd.options.display.float_format = '{:.2f}'.format"
      ]
    },
    {
      "cell_type": "code",
      "source": [
        "#Importando os dados\n",
        "#df_original = pd.read_csv('dados_coletados20k.csv')\n",
        "#df_original = pd.read_csv('dados_coletados80k.csv')\n",
        "\n",
        "df_original = pd.read_csv('dados_coletados10k.csv')"
      ],
      "metadata": {
        "id": "edE4gzkB96aD"
      },
      "execution_count": null,
      "outputs": []
    },
    {
      "cell_type": "code",
      "source": [
        "df_original.shape"
      ],
      "metadata": {
        "colab": {
          "base_uri": "https://localhost:8080/"
        },
        "id": "kKcV7Jpa-2jL",
        "outputId": "bf224c1d-72ab-4f28-e151-a8109b69e89a"
      },
      "execution_count": null,
      "outputs": [
        {
          "output_type": "execute_result",
          "data": {
            "text/plain": [
              "(9517, 24)"
            ]
          },
          "metadata": {},
          "execution_count": 4
        }
      ]
    },
    {
      "cell_type": "code",
      "source": [
        "#Avaliando período das observações\n",
        "inicio = pd.to_datetime(df_original['Data_Contratacao']).dt.date.min()\n",
        "fim = pd.to_datetime(df_original['Data_Contratacao']).dt.date.max()\n",
        "print(f\"Período de datas entre: {inicio} e {fim}\")"
      ],
      "metadata": {
        "colab": {
          "base_uri": "https://localhost:8080/"
        },
        "id": "oW_-Gq2S-3qy",
        "outputId": "732900d6-79f2-401a-c5e9-ad0c2a242756"
      },
      "execution_count": null,
      "outputs": [
        {
          "output_type": "stream",
          "name": "stdout",
          "text": [
            "Período de datas entre: 2022-07-04 e 2022-12-20\n"
          ]
        }
      ]
    },
    {
      "cell_type": "code",
      "source": [
        "#Verificando dados nulos\n",
        "df_original.isnull().sum()"
      ],
      "metadata": {
        "colab": {
          "base_uri": "https://localhost:8080/"
        },
        "id": "EdaFFkI9-6qc",
        "outputId": "7248fba1-59ff-4b63-c97e-0ba98faf0539"
      },
      "execution_count": null,
      "outputs": [
        {
          "output_type": "execute_result",
          "data": {
            "text/plain": [
              "Contrato                               0\n",
              "Idade                                  0\n",
              "Sexo                                   0\n",
              "Valor_Renda                            0\n",
              "UF_Cliente                             0\n",
              "Perc_Juros                             0\n",
              "Prazo_Emprestimo                       0\n",
              "Data_Contratacao                       0\n",
              "Prazo_Restante                         0\n",
              "VL_Emprestimo                          0\n",
              "VL_Emprestimo_ComJuros                 0\n",
              "QT_Total_Parcelas_Pagas                0\n",
              "QT_Total_Parcelas_Pagas_EmDia          0\n",
              "QT_Total_Parcelas_Pagas_EmAtraso       0\n",
              "Qt_Renegociacao                        0\n",
              "Estado_Civil                           0\n",
              "Escolaridade                        7105\n",
              "Possui_Patrimonio                      0\n",
              "VL_Patrimonio                          0\n",
              "QT_Parcelas_Atraso                     0\n",
              "QT_Dias_Atraso                      3594\n",
              "Saldo_Devedor                          0\n",
              "Total_Pago                             0\n",
              "Possivel_Fraude                        0\n",
              "dtype: int64"
            ]
          },
          "metadata": {},
          "execution_count": 6
        }
      ]
    },
    {
      "cell_type": "code",
      "source": [
        "#verificando os tipos de variáveis\n",
        "df_original.info(verbose=True)"
      ],
      "metadata": {
        "colab": {
          "base_uri": "https://localhost:8080/"
        },
        "id": "qm2GX1z0--Oe",
        "outputId": "833dd46f-16bf-483f-9133-5dbb8f84b8d5"
      },
      "execution_count": null,
      "outputs": [
        {
          "output_type": "stream",
          "name": "stdout",
          "text": [
            "<class 'pandas.core.frame.DataFrame'>\n",
            "RangeIndex: 9517 entries, 0 to 9516\n",
            "Data columns (total 24 columns):\n",
            " #   Column                            Non-Null Count  Dtype  \n",
            "---  ------                            --------------  -----  \n",
            " 0   Contrato                          9517 non-null   int64  \n",
            " 1   Idade                             9517 non-null   int64  \n",
            " 2   Sexo                              9517 non-null   object \n",
            " 3   Valor_Renda                       9517 non-null   float64\n",
            " 4   UF_Cliente                        9517 non-null   object \n",
            " 5   Perc_Juros                        9517 non-null   float64\n",
            " 6   Prazo_Emprestimo                  9517 non-null   int64  \n",
            " 7   Data_Contratacao                  9517 non-null   object \n",
            " 8   Prazo_Restante                    9517 non-null   int64  \n",
            " 9   VL_Emprestimo                     9517 non-null   float64\n",
            " 10  VL_Emprestimo_ComJuros            9517 non-null   float64\n",
            " 11  QT_Total_Parcelas_Pagas           9517 non-null   int64  \n",
            " 12  QT_Total_Parcelas_Pagas_EmDia     9517 non-null   int64  \n",
            " 13  QT_Total_Parcelas_Pagas_EmAtraso  9517 non-null   int64  \n",
            " 14  Qt_Renegociacao                   9517 non-null   int64  \n",
            " 15  Estado_Civil                      9517 non-null   object \n",
            " 16  Escolaridade                      2412 non-null   object \n",
            " 17  Possui_Patrimonio                 9517 non-null   object \n",
            " 18  VL_Patrimonio                     9517 non-null   float64\n",
            " 19  QT_Parcelas_Atraso                9517 non-null   int64  \n",
            " 20  QT_Dias_Atraso                    5923 non-null   float64\n",
            " 21  Saldo_Devedor                     9517 non-null   float64\n",
            " 22  Total_Pago                        9517 non-null   float64\n",
            " 23  Possivel_Fraude                   9517 non-null   object \n",
            "dtypes: float64(8), int64(9), object(7)\n",
            "memory usage: 1.7+ MB\n"
          ]
        }
      ]
    },
    {
      "cell_type": "code",
      "source": [
        "#total de valores únicos em cada variável\n",
        "valores_unicos = []\n",
        "for i in df_original.columns[0:24].tolist():\n",
        "    print(i, ':', len(df_original[i].astype(str).value_counts()))\n",
        "    valores_unicos.append(len(df_original[i].astype(str).value_counts()))\n"
      ],
      "metadata": {
        "colab": {
          "base_uri": "https://localhost:8080/"
        },
        "id": "iDmdBxb7_A2p",
        "outputId": "684d1ca1-a876-4102-ad59-04a99941174b"
      },
      "execution_count": null,
      "outputs": [
        {
          "output_type": "stream",
          "name": "stdout",
          "text": [
            "Contrato : 9517\n",
            "Idade : 74\n",
            "Sexo : 2\n",
            "Valor_Renda : 855\n",
            "UF_Cliente : 27\n",
            "Perc_Juros : 21\n",
            "Prazo_Emprestimo : 36\n",
            "Data_Contratacao : 110\n",
            "Prazo_Restante : 79\n",
            "VL_Emprestimo : 61\n",
            "VL_Emprestimo_ComJuros : 61\n",
            "QT_Total_Parcelas_Pagas : 24\n",
            "QT_Total_Parcelas_Pagas_EmDia : 24\n",
            "QT_Total_Parcelas_Pagas_EmAtraso : 15\n",
            "Qt_Renegociacao : 10\n",
            "Estado_Civil : 6\n",
            "Escolaridade : 6\n",
            "Possui_Patrimonio : 2\n",
            "VL_Patrimonio : 3\n",
            "QT_Parcelas_Atraso : 16\n",
            "QT_Dias_Atraso : 16\n",
            "Saldo_Devedor : 7654\n",
            "Total_Pago : 7022\n",
            "Possivel_Fraude : 2\n"
          ]
        }
      ]
    },
    {
      "cell_type": "code",
      "source": [
        "#Medidas estatísticas\n",
        "df_original.describe()"
      ],
      "metadata": {
        "colab": {
          "base_uri": "https://localhost:8080/",
          "height": 320
        },
        "id": "JtJ-AKR7_D3D",
        "outputId": "05973d1d-37c1-4b51-9c97-f7c25c7a4a0b"
      },
      "execution_count": null,
      "outputs": [
        {
          "output_type": "execute_result",
          "data": {
            "text/plain": [
              "             Contrato   Idade  Valor_Renda  Perc_Juros  Prazo_Emprestimo  \\\n",
              "count         9517.00 9517.00      9517.00     9517.00           9517.00   \n",
              "mean  322078158460.93   38.74      8325.40       19.65            107.43   \n",
              "std        5434160.86   12.67    121862.06        3.82             62.49   \n",
              "min   322068935715.00    6.00       450.00        7.00             15.00   \n",
              "25%   322073331715.00   29.00      2300.00       18.00             60.00   \n",
              "50%   322078461715.00   37.00      3400.00       20.00             80.00   \n",
              "75%   322082622715.00   46.00      5000.00       22.00            190.00   \n",
              "max   322087622715.00   91.00   8000080.00       28.00            240.00   \n",
              "\n",
              "       Prazo_Restante  VL_Emprestimo  VL_Emprestimo_ComJuros  \\\n",
              "count         9517.00        9517.00                 9517.00   \n",
              "mean           104.58       81881.89                94164.17   \n",
              "std             68.57       94138.06               108258.77   \n",
              "min              0.00        3500.00                 4025.00   \n",
              "25%             51.00       20000.00                23000.00   \n",
              "50%             80.00       50000.00                57500.00   \n",
              "75%            185.00      100000.00               115000.00   \n",
              "max            227.00      500000.00               575000.00   \n",
              "\n",
              "       QT_Total_Parcelas_Pagas  QT_Total_Parcelas_Pagas_EmDia  \\\n",
              "count                  9517.00                        9517.00   \n",
              "mean                      7.89                           4.11   \n",
              "std                       5.17                           4.04   \n",
              "min                       0.00                           0.00   \n",
              "25%                       2.00                           1.00   \n",
              "50%                       9.00                           2.00   \n",
              "75%                      13.00                           6.00   \n",
              "max                      35.00                          35.00   \n",
              "\n",
              "       QT_Total_Parcelas_Pagas_EmAtraso  Qt_Renegociacao  VL_Patrimonio  \\\n",
              "count                           9517.00          9517.00        9517.00   \n",
              "mean                               1.60             1.24          10.93   \n",
              "std                                2.31             1.17        1025.26   \n",
              "min                                0.00             0.00           0.00   \n",
              "25%                                0.00             0.00           0.00   \n",
              "50%                                1.00             1.00           0.00   \n",
              "75%                                2.00             2.00           0.00   \n",
              "max                               14.00             9.00      100000.00   \n",
              "\n",
              "       QT_Parcelas_Atraso  QT_Dias_Atraso  Saldo_Devedor  Total_Pago  \n",
              "count             9517.00         5923.00        9517.00     9517.00  \n",
              "mean                 5.35          249.79       90560.27     8166.21  \n",
              "std                  5.32          123.22      111050.54    16697.76  \n",
              "min                  0.00           11.00           0.00        0.00  \n",
              "25%                  0.00          162.00       18546.85     1202.04  \n",
              "50%                  4.00          284.00       45375.30     3949.91  \n",
              "75%                 11.00          344.00      119721.25     8302.01  \n",
              "max                 15.00          435.00      625000.00   396385.00  "
            ],
            "text/html": [
              "\n",
              "  <div id=\"df-cb7b5107-631f-4eb9-8fa9-73272e39fd9a\" class=\"colab-df-container\">\n",
              "    <div>\n",
              "<style scoped>\n",
              "    .dataframe tbody tr th:only-of-type {\n",
              "        vertical-align: middle;\n",
              "    }\n",
              "\n",
              "    .dataframe tbody tr th {\n",
              "        vertical-align: top;\n",
              "    }\n",
              "\n",
              "    .dataframe thead th {\n",
              "        text-align: right;\n",
              "    }\n",
              "</style>\n",
              "<table border=\"1\" class=\"dataframe\">\n",
              "  <thead>\n",
              "    <tr style=\"text-align: right;\">\n",
              "      <th></th>\n",
              "      <th>Contrato</th>\n",
              "      <th>Idade</th>\n",
              "      <th>Valor_Renda</th>\n",
              "      <th>Perc_Juros</th>\n",
              "      <th>Prazo_Emprestimo</th>\n",
              "      <th>Prazo_Restante</th>\n",
              "      <th>VL_Emprestimo</th>\n",
              "      <th>VL_Emprestimo_ComJuros</th>\n",
              "      <th>QT_Total_Parcelas_Pagas</th>\n",
              "      <th>QT_Total_Parcelas_Pagas_EmDia</th>\n",
              "      <th>QT_Total_Parcelas_Pagas_EmAtraso</th>\n",
              "      <th>Qt_Renegociacao</th>\n",
              "      <th>VL_Patrimonio</th>\n",
              "      <th>QT_Parcelas_Atraso</th>\n",
              "      <th>QT_Dias_Atraso</th>\n",
              "      <th>Saldo_Devedor</th>\n",
              "      <th>Total_Pago</th>\n",
              "    </tr>\n",
              "  </thead>\n",
              "  <tbody>\n",
              "    <tr>\n",
              "      <th>count</th>\n",
              "      <td>9517.00</td>\n",
              "      <td>9517.00</td>\n",
              "      <td>9517.00</td>\n",
              "      <td>9517.00</td>\n",
              "      <td>9517.00</td>\n",
              "      <td>9517.00</td>\n",
              "      <td>9517.00</td>\n",
              "      <td>9517.00</td>\n",
              "      <td>9517.00</td>\n",
              "      <td>9517.00</td>\n",
              "      <td>9517.00</td>\n",
              "      <td>9517.00</td>\n",
              "      <td>9517.00</td>\n",
              "      <td>9517.00</td>\n",
              "      <td>5923.00</td>\n",
              "      <td>9517.00</td>\n",
              "      <td>9517.00</td>\n",
              "    </tr>\n",
              "    <tr>\n",
              "      <th>mean</th>\n",
              "      <td>322078158460.93</td>\n",
              "      <td>38.74</td>\n",
              "      <td>8325.40</td>\n",
              "      <td>19.65</td>\n",
              "      <td>107.43</td>\n",
              "      <td>104.58</td>\n",
              "      <td>81881.89</td>\n",
              "      <td>94164.17</td>\n",
              "      <td>7.89</td>\n",
              "      <td>4.11</td>\n",
              "      <td>1.60</td>\n",
              "      <td>1.24</td>\n",
              "      <td>10.93</td>\n",
              "      <td>5.35</td>\n",
              "      <td>249.79</td>\n",
              "      <td>90560.27</td>\n",
              "      <td>8166.21</td>\n",
              "    </tr>\n",
              "    <tr>\n",
              "      <th>std</th>\n",
              "      <td>5434160.86</td>\n",
              "      <td>12.67</td>\n",
              "      <td>121862.06</td>\n",
              "      <td>3.82</td>\n",
              "      <td>62.49</td>\n",
              "      <td>68.57</td>\n",
              "      <td>94138.06</td>\n",
              "      <td>108258.77</td>\n",
              "      <td>5.17</td>\n",
              "      <td>4.04</td>\n",
              "      <td>2.31</td>\n",
              "      <td>1.17</td>\n",
              "      <td>1025.26</td>\n",
              "      <td>5.32</td>\n",
              "      <td>123.22</td>\n",
              "      <td>111050.54</td>\n",
              "      <td>16697.76</td>\n",
              "    </tr>\n",
              "    <tr>\n",
              "      <th>min</th>\n",
              "      <td>322068935715.00</td>\n",
              "      <td>6.00</td>\n",
              "      <td>450.00</td>\n",
              "      <td>7.00</td>\n",
              "      <td>15.00</td>\n",
              "      <td>0.00</td>\n",
              "      <td>3500.00</td>\n",
              "      <td>4025.00</td>\n",
              "      <td>0.00</td>\n",
              "      <td>0.00</td>\n",
              "      <td>0.00</td>\n",
              "      <td>0.00</td>\n",
              "      <td>0.00</td>\n",
              "      <td>0.00</td>\n",
              "      <td>11.00</td>\n",
              "      <td>0.00</td>\n",
              "      <td>0.00</td>\n",
              "    </tr>\n",
              "    <tr>\n",
              "      <th>25%</th>\n",
              "      <td>322073331715.00</td>\n",
              "      <td>29.00</td>\n",
              "      <td>2300.00</td>\n",
              "      <td>18.00</td>\n",
              "      <td>60.00</td>\n",
              "      <td>51.00</td>\n",
              "      <td>20000.00</td>\n",
              "      <td>23000.00</td>\n",
              "      <td>2.00</td>\n",
              "      <td>1.00</td>\n",
              "      <td>0.00</td>\n",
              "      <td>0.00</td>\n",
              "      <td>0.00</td>\n",
              "      <td>0.00</td>\n",
              "      <td>162.00</td>\n",
              "      <td>18546.85</td>\n",
              "      <td>1202.04</td>\n",
              "    </tr>\n",
              "    <tr>\n",
              "      <th>50%</th>\n",
              "      <td>322078461715.00</td>\n",
              "      <td>37.00</td>\n",
              "      <td>3400.00</td>\n",
              "      <td>20.00</td>\n",
              "      <td>80.00</td>\n",
              "      <td>80.00</td>\n",
              "      <td>50000.00</td>\n",
              "      <td>57500.00</td>\n",
              "      <td>9.00</td>\n",
              "      <td>2.00</td>\n",
              "      <td>1.00</td>\n",
              "      <td>1.00</td>\n",
              "      <td>0.00</td>\n",
              "      <td>4.00</td>\n",
              "      <td>284.00</td>\n",
              "      <td>45375.30</td>\n",
              "      <td>3949.91</td>\n",
              "    </tr>\n",
              "    <tr>\n",
              "      <th>75%</th>\n",
              "      <td>322082622715.00</td>\n",
              "      <td>46.00</td>\n",
              "      <td>5000.00</td>\n",
              "      <td>22.00</td>\n",
              "      <td>190.00</td>\n",
              "      <td>185.00</td>\n",
              "      <td>100000.00</td>\n",
              "      <td>115000.00</td>\n",
              "      <td>13.00</td>\n",
              "      <td>6.00</td>\n",
              "      <td>2.00</td>\n",
              "      <td>2.00</td>\n",
              "      <td>0.00</td>\n",
              "      <td>11.00</td>\n",
              "      <td>344.00</td>\n",
              "      <td>119721.25</td>\n",
              "      <td>8302.01</td>\n",
              "    </tr>\n",
              "    <tr>\n",
              "      <th>max</th>\n",
              "      <td>322087622715.00</td>\n",
              "      <td>91.00</td>\n",
              "      <td>8000080.00</td>\n",
              "      <td>28.00</td>\n",
              "      <td>240.00</td>\n",
              "      <td>227.00</td>\n",
              "      <td>500000.00</td>\n",
              "      <td>575000.00</td>\n",
              "      <td>35.00</td>\n",
              "      <td>35.00</td>\n",
              "      <td>14.00</td>\n",
              "      <td>9.00</td>\n",
              "      <td>100000.00</td>\n",
              "      <td>15.00</td>\n",
              "      <td>435.00</td>\n",
              "      <td>625000.00</td>\n",
              "      <td>396385.00</td>\n",
              "    </tr>\n",
              "  </tbody>\n",
              "</table>\n",
              "</div>\n",
              "    <div class=\"colab-df-buttons\">\n",
              "\n",
              "  <div class=\"colab-df-container\">\n",
              "    <button class=\"colab-df-convert\" onclick=\"convertToInteractive('df-cb7b5107-631f-4eb9-8fa9-73272e39fd9a')\"\n",
              "            title=\"Convert this dataframe to an interactive table.\"\n",
              "            style=\"display:none;\">\n",
              "\n",
              "  <svg xmlns=\"http://www.w3.org/2000/svg\" height=\"24px\" viewBox=\"0 -960 960 960\">\n",
              "    <path d=\"M120-120v-720h720v720H120Zm60-500h600v-160H180v160Zm220 220h160v-160H400v160Zm0 220h160v-160H400v160ZM180-400h160v-160H180v160Zm440 0h160v-160H620v160ZM180-180h160v-160H180v160Zm440 0h160v-160H620v160Z\"/>\n",
              "  </svg>\n",
              "    </button>\n",
              "\n",
              "  <style>\n",
              "    .colab-df-container {\n",
              "      display:flex;\n",
              "      gap: 12px;\n",
              "    }\n",
              "\n",
              "    .colab-df-convert {\n",
              "      background-color: #E8F0FE;\n",
              "      border: none;\n",
              "      border-radius: 50%;\n",
              "      cursor: pointer;\n",
              "      display: none;\n",
              "      fill: #1967D2;\n",
              "      height: 32px;\n",
              "      padding: 0 0 0 0;\n",
              "      width: 32px;\n",
              "    }\n",
              "\n",
              "    .colab-df-convert:hover {\n",
              "      background-color: #E2EBFA;\n",
              "      box-shadow: 0px 1px 2px rgba(60, 64, 67, 0.3), 0px 1px 3px 1px rgba(60, 64, 67, 0.15);\n",
              "      fill: #174EA6;\n",
              "    }\n",
              "\n",
              "    .colab-df-buttons div {\n",
              "      margin-bottom: 4px;\n",
              "    }\n",
              "\n",
              "    [theme=dark] .colab-df-convert {\n",
              "      background-color: #3B4455;\n",
              "      fill: #D2E3FC;\n",
              "    }\n",
              "\n",
              "    [theme=dark] .colab-df-convert:hover {\n",
              "      background-color: #434B5C;\n",
              "      box-shadow: 0px 1px 3px 1px rgba(0, 0, 0, 0.15);\n",
              "      filter: drop-shadow(0px 1px 2px rgba(0, 0, 0, 0.3));\n",
              "      fill: #FFFFFF;\n",
              "    }\n",
              "  </style>\n",
              "\n",
              "    <script>\n",
              "      const buttonEl =\n",
              "        document.querySelector('#df-cb7b5107-631f-4eb9-8fa9-73272e39fd9a button.colab-df-convert');\n",
              "      buttonEl.style.display =\n",
              "        google.colab.kernel.accessAllowed ? 'block' : 'none';\n",
              "\n",
              "      async function convertToInteractive(key) {\n",
              "        const element = document.querySelector('#df-cb7b5107-631f-4eb9-8fa9-73272e39fd9a');\n",
              "        const dataTable =\n",
              "          await google.colab.kernel.invokeFunction('convertToInteractive',\n",
              "                                                    [key], {});\n",
              "        if (!dataTable) return;\n",
              "\n",
              "        const docLinkHtml = 'Like what you see? Visit the ' +\n",
              "          '<a target=\"_blank\" href=https://colab.research.google.com/notebooks/data_table.ipynb>data table notebook</a>'\n",
              "          + ' to learn more about interactive tables.';\n",
              "        element.innerHTML = '';\n",
              "        dataTable['output_type'] = 'display_data';\n",
              "        await google.colab.output.renderOutput(dataTable, element);\n",
              "        const docLink = document.createElement('div');\n",
              "        docLink.innerHTML = docLinkHtml;\n",
              "        element.appendChild(docLink);\n",
              "      }\n",
              "    </script>\n",
              "  </div>\n",
              "\n",
              "\n",
              "<div id=\"df-42baad0d-c61e-4890-9fcb-88e71292fe77\">\n",
              "  <button class=\"colab-df-quickchart\" onclick=\"quickchart('df-42baad0d-c61e-4890-9fcb-88e71292fe77')\"\n",
              "            title=\"Suggest charts\"\n",
              "            style=\"display:none;\">\n",
              "\n",
              "<svg xmlns=\"http://www.w3.org/2000/svg\" height=\"24px\"viewBox=\"0 0 24 24\"\n",
              "     width=\"24px\">\n",
              "    <g>\n",
              "        <path d=\"M19 3H5c-1.1 0-2 .9-2 2v14c0 1.1.9 2 2 2h14c1.1 0 2-.9 2-2V5c0-1.1-.9-2-2-2zM9 17H7v-7h2v7zm4 0h-2V7h2v10zm4 0h-2v-4h2v4z\"/>\n",
              "    </g>\n",
              "</svg>\n",
              "  </button>\n",
              "\n",
              "<style>\n",
              "  .colab-df-quickchart {\n",
              "      --bg-color: #E8F0FE;\n",
              "      --fill-color: #1967D2;\n",
              "      --hover-bg-color: #E2EBFA;\n",
              "      --hover-fill-color: #174EA6;\n",
              "      --disabled-fill-color: #AAA;\n",
              "      --disabled-bg-color: #DDD;\n",
              "  }\n",
              "\n",
              "  [theme=dark] .colab-df-quickchart {\n",
              "      --bg-color: #3B4455;\n",
              "      --fill-color: #D2E3FC;\n",
              "      --hover-bg-color: #434B5C;\n",
              "      --hover-fill-color: #FFFFFF;\n",
              "      --disabled-bg-color: #3B4455;\n",
              "      --disabled-fill-color: #666;\n",
              "  }\n",
              "\n",
              "  .colab-df-quickchart {\n",
              "    background-color: var(--bg-color);\n",
              "    border: none;\n",
              "    border-radius: 50%;\n",
              "    cursor: pointer;\n",
              "    display: none;\n",
              "    fill: var(--fill-color);\n",
              "    height: 32px;\n",
              "    padding: 0;\n",
              "    width: 32px;\n",
              "  }\n",
              "\n",
              "  .colab-df-quickchart:hover {\n",
              "    background-color: var(--hover-bg-color);\n",
              "    box-shadow: 0 1px 2px rgba(60, 64, 67, 0.3), 0 1px 3px 1px rgba(60, 64, 67, 0.15);\n",
              "    fill: var(--button-hover-fill-color);\n",
              "  }\n",
              "\n",
              "  .colab-df-quickchart-complete:disabled,\n",
              "  .colab-df-quickchart-complete:disabled:hover {\n",
              "    background-color: var(--disabled-bg-color);\n",
              "    fill: var(--disabled-fill-color);\n",
              "    box-shadow: none;\n",
              "  }\n",
              "\n",
              "  .colab-df-spinner {\n",
              "    border: 2px solid var(--fill-color);\n",
              "    border-color: transparent;\n",
              "    border-bottom-color: var(--fill-color);\n",
              "    animation:\n",
              "      spin 1s steps(1) infinite;\n",
              "  }\n",
              "\n",
              "  @keyframes spin {\n",
              "    0% {\n",
              "      border-color: transparent;\n",
              "      border-bottom-color: var(--fill-color);\n",
              "      border-left-color: var(--fill-color);\n",
              "    }\n",
              "    20% {\n",
              "      border-color: transparent;\n",
              "      border-left-color: var(--fill-color);\n",
              "      border-top-color: var(--fill-color);\n",
              "    }\n",
              "    30% {\n",
              "      border-color: transparent;\n",
              "      border-left-color: var(--fill-color);\n",
              "      border-top-color: var(--fill-color);\n",
              "      border-right-color: var(--fill-color);\n",
              "    }\n",
              "    40% {\n",
              "      border-color: transparent;\n",
              "      border-right-color: var(--fill-color);\n",
              "      border-top-color: var(--fill-color);\n",
              "    }\n",
              "    60% {\n",
              "      border-color: transparent;\n",
              "      border-right-color: var(--fill-color);\n",
              "    }\n",
              "    80% {\n",
              "      border-color: transparent;\n",
              "      border-right-color: var(--fill-color);\n",
              "      border-bottom-color: var(--fill-color);\n",
              "    }\n",
              "    90% {\n",
              "      border-color: transparent;\n",
              "      border-bottom-color: var(--fill-color);\n",
              "    }\n",
              "  }\n",
              "</style>\n",
              "\n",
              "  <script>\n",
              "    async function quickchart(key) {\n",
              "      const quickchartButtonEl =\n",
              "        document.querySelector('#' + key + ' button');\n",
              "      quickchartButtonEl.disabled = true;  // To prevent multiple clicks.\n",
              "      quickchartButtonEl.classList.add('colab-df-spinner');\n",
              "      try {\n",
              "        const charts = await google.colab.kernel.invokeFunction(\n",
              "            'suggestCharts', [key], {});\n",
              "      } catch (error) {\n",
              "        console.error('Error during call to suggestCharts:', error);\n",
              "      }\n",
              "      quickchartButtonEl.classList.remove('colab-df-spinner');\n",
              "      quickchartButtonEl.classList.add('colab-df-quickchart-complete');\n",
              "    }\n",
              "    (() => {\n",
              "      let quickchartButtonEl =\n",
              "        document.querySelector('#df-42baad0d-c61e-4890-9fcb-88e71292fe77 button');\n",
              "      quickchartButtonEl.style.display =\n",
              "        google.colab.kernel.accessAllowed ? 'block' : 'none';\n",
              "    })();\n",
              "  </script>\n",
              "</div>\n",
              "\n",
              "    </div>\n",
              "  </div>\n"
            ],
            "application/vnd.google.colaboratory.intrinsic+json": {
              "type": "dataframe",
              "summary": "{\n  \"name\": \"df_original\",\n  \"rows\": 8,\n  \"fields\": [\n    {\n      \"column\": \"Contrato\",\n      \"properties\": {\n        \"dtype\": \"number\",\n        \"std\": 149091970607.76184,\n        \"min\": 9517.0,\n        \"max\": 322087622715.0,\n        \"num_unique_values\": 8,\n        \"samples\": [\n          322078158460.92834,\n          322078461715.0,\n          9517.0\n        ],\n        \"semantic_type\": \"\",\n        \"description\": \"\"\n      }\n    },\n    {\n      \"column\": \"Idade\",\n      \"properties\": {\n        \"dtype\": \"number\",\n        \"std\": 3351.7131342743446,\n        \"min\": 6.0,\n        \"max\": 9517.0,\n        \"num_unique_values\": 8,\n        \"samples\": [\n          38.73867815488074,\n          37.0,\n          9517.0\n        ],\n        \"semantic_type\": \"\",\n        \"description\": \"\"\n      }\n    },\n    {\n      \"column\": \"Valor_Renda\",\n      \"properties\": {\n        \"dtype\": \"number\",\n        \"std\": 2821134.9215997844,\n        \"min\": 450.0,\n        \"max\": 8000080.0,\n        \"num_unique_values\": 8,\n        \"samples\": [\n          8325.403920353052,\n          3400.0,\n          9517.0\n        ],\n        \"semantic_type\": \"\",\n        \"description\": \"\"\n      }\n    },\n    {\n      \"column\": \"Perc_Juros\",\n      \"properties\": {\n        \"dtype\": \"number\",\n        \"std\": 3358.793448465582,\n        \"min\": 3.8206516502179673,\n        \"max\": 9517.0,\n        \"num_unique_values\": 8,\n        \"samples\": [\n          19.645728696017656,\n          20.0,\n          9517.0\n        ],\n        \"semantic_type\": \"\",\n        \"description\": \"\"\n      }\n    },\n    {\n      \"column\": \"Prazo_Emprestimo\",\n      \"properties\": {\n        \"dtype\": \"number\",\n        \"std\": 3327.453585094407,\n        \"min\": 15.0,\n        \"max\": 9517.0,\n        \"num_unique_values\": 8,\n        \"samples\": [\n          107.42534412104655,\n          80.0,\n          9517.0\n        ],\n        \"semantic_type\": \"\",\n        \"description\": \"\"\n      }\n    },\n    {\n      \"column\": \"Prazo_Restante\",\n      \"properties\": {\n        \"dtype\": \"number\",\n        \"std\": 3329.393104540695,\n        \"min\": 0.0,\n        \"max\": 9517.0,\n        \"num_unique_values\": 8,\n        \"samples\": [\n          104.58348218976569,\n          80.0,\n          9517.0\n        ],\n        \"semantic_type\": \"\",\n        \"description\": \"\"\n      }\n    },\n    {\n      \"column\": \"VL_Emprestimo\",\n      \"properties\": {\n        \"dtype\": \"number\",\n        \"std\": 163150.40458720623,\n        \"min\": 3500.0,\n        \"max\": 500000.0,\n        \"num_unique_values\": 8,\n        \"samples\": [\n          81881.88504780918,\n          50000.0,\n          9517.0\n        ],\n        \"semantic_type\": \"\",\n        \"description\": \"\"\n      }\n    },\n    {\n      \"column\": \"VL_Emprestimo_ComJuros\",\n      \"properties\": {\n        \"dtype\": \"number\",\n        \"std\": 187745.93073295892,\n        \"min\": 4025.0,\n        \"max\": 575000.0,\n        \"num_unique_values\": 8,\n        \"samples\": [\n          94164.16780498056,\n          57500.0,\n          9517.0\n        ],\n        \"semantic_type\": \"\",\n        \"description\": \"\"\n      }\n    },\n    {\n      \"column\": \"QT_Total_Parcelas_Pagas\",\n      \"properties\": {\n        \"dtype\": \"number\",\n        \"std\": 3361.145652635686,\n        \"min\": 0.0,\n        \"max\": 9517.0,\n        \"num_unique_values\": 8,\n        \"samples\": [\n          7.893138594094777,\n          9.0,\n          9517.0\n        ],\n        \"semantic_type\": \"\",\n        \"description\": \"\"\n      }\n    },\n    {\n      \"column\": \"QT_Total_Parcelas_Pagas_EmDia\",\n      \"properties\": {\n        \"dtype\": \"number\",\n        \"std\": 3362.15307026939,\n        \"min\": 0.0,\n        \"max\": 9517.0,\n        \"num_unique_values\": 8,\n        \"samples\": [\n          4.108122307449826,\n          2.0,\n          9517.0\n        ],\n        \"semantic_type\": \"\",\n        \"description\": \"\"\n      }\n    },\n    {\n      \"column\": \"QT_Total_Parcelas_Pagas_EmAtraso\",\n      \"properties\": {\n        \"dtype\": \"number\",\n        \"std\": 3363.7145998591745,\n        \"min\": 0.0,\n        \"max\": 9517.0,\n        \"num_unique_values\": 7,\n        \"samples\": [\n          9517.0,\n          1.5972470316276137,\n          2.0\n        ],\n        \"semantic_type\": \"\",\n        \"description\": \"\"\n      }\n    },\n    {\n      \"column\": \"Qt_Renegociacao\",\n      \"properties\": {\n        \"dtype\": \"number\",\n        \"std\": 3364.041178879714,\n        \"min\": 0.0,\n        \"max\": 9517.0,\n        \"num_unique_values\": 7,\n        \"samples\": [\n          9517.0,\n          1.2420930965640433,\n          2.0\n        ],\n        \"semantic_type\": \"\",\n        \"description\": \"\"\n      }\n    },\n    {\n      \"column\": \"VL_Patrimonio\",\n      \"properties\": {\n        \"dtype\": \"number\",\n        \"std\": 34977.28567573491,\n        \"min\": 0.0,\n        \"max\": 100000.0,\n        \"num_unique_values\": 5,\n        \"samples\": [\n          10.9278133865714,\n          100000.0,\n          1025.262220911096\n        ],\n        \"semantic_type\": \"\",\n        \"description\": \"\"\n      }\n    },\n    {\n      \"column\": \"QT_Parcelas_Atraso\",\n      \"properties\": {\n        \"dtype\": \"number\",\n        \"std\": 3362.717155965598,\n        \"min\": 0.0,\n        \"max\": 9517.0,\n        \"num_unique_values\": 7,\n        \"samples\": [\n          9517.0,\n          5.3537879583902495,\n          11.0\n        ],\n        \"semantic_type\": \"\",\n        \"description\": \"\"\n      }\n    },\n    {\n      \"column\": \"QT_Dias_Atraso\",\n      \"properties\": {\n        \"dtype\": \"number\",\n        \"std\": 2017.1652493545062,\n        \"min\": 11.0,\n        \"max\": 5923.0,\n        \"num_unique_values\": 8,\n        \"samples\": [\n          249.78980246496707,\n          284.0,\n          5923.0\n        ],\n        \"semantic_type\": \"\",\n        \"description\": \"\"\n      }\n    },\n    {\n      \"column\": \"Saldo_Devedor\",\n      \"properties\": {\n        \"dtype\": \"number\",\n        \"std\": 206326.15457997256,\n        \"min\": 0.0,\n        \"max\": 625000.0,\n        \"num_unique_values\": 8,\n        \"samples\": [\n          90560.26786592415,\n          45375.3,\n          9517.0\n        ],\n        \"semantic_type\": \"\",\n        \"description\": \"\"\n      }\n    },\n    {\n      \"column\": \"Total_Pago\",\n      \"properties\": {\n        \"dtype\": \"number\",\n        \"std\": 137828.41085453343,\n        \"min\": 0.0,\n        \"max\": 396385.0,\n        \"num_unique_values\": 8,\n        \"samples\": [\n          8166.206714300724,\n          3949.91,\n          9517.0\n        ],\n        \"semantic_type\": \"\",\n        \"description\": \"\"\n      }\n    }\n  ]\n}"
            }
          },
          "metadata": {},
          "execution_count": 9
        }
      ]
    },
    {
      "cell_type": "code",
      "source": [
        "#Quantidade de dias em atraso\n",
        "df_original.groupby(['QT_Dias_Atraso']).size()"
      ],
      "metadata": {
        "colab": {
          "base_uri": "https://localhost:8080/"
        },
        "id": "dkR_EcpH_G-G",
        "outputId": "5a3100bd-3a3a-4f0b-ed38-36d4295ccd64"
      },
      "execution_count": null,
      "outputs": [
        {
          "output_type": "execute_result",
          "data": {
            "text/plain": [
              "QT_Dias_Atraso\n",
              "11.00     532\n",
              "41.00     255\n",
              "71.00     190\n",
              "103.00    205\n",
              "133.00    176\n",
              "162.00    206\n",
              "194.00    241\n",
              "225.00    352\n",
              "251.00    471\n",
              "284.00    546\n",
              "315.00    718\n",
              "344.00    930\n",
              "376.00    686\n",
              "406.00    413\n",
              "435.00      2\n",
              "dtype: int64"
            ]
          },
          "metadata": {},
          "execution_count": 10
        }
      ]
    },
    {
      "cell_type": "code",
      "source": [
        "#Agrupando informações\n",
        "df_original.groupby(['Sexo']).size()"
      ],
      "metadata": {
        "colab": {
          "base_uri": "https://localhost:8080/"
        },
        "id": "LXCuJAcU_MNz",
        "outputId": "662ebb56-466a-44a7-e0db-a40f87d30a59"
      },
      "execution_count": null,
      "outputs": [
        {
          "output_type": "execute_result",
          "data": {
            "text/plain": [
              "Sexo\n",
              "F    3811\n",
              "M    5706\n",
              "dtype: int64"
            ]
          },
          "metadata": {},
          "execution_count": 11
        }
      ]
    },
    {
      "cell_type": "code",
      "source": [
        "df_original.groupby(['Idade']).size()"
      ],
      "metadata": {
        "colab": {
          "base_uri": "https://localhost:8080/"
        },
        "id": "XjITXJiw_OgA",
        "outputId": "d9ab52ec-3f1b-484b-cc75-b6b16d0ee0c1"
      },
      "execution_count": null,
      "outputs": [
        {
          "output_type": "execute_result",
          "data": {
            "text/plain": [
              "Idade\n",
              "6       1\n",
              "17      4\n",
              "18      6\n",
              "19    109\n",
              "20    207\n",
              "21    193\n",
              "22    173\n",
              "23    234\n",
              "24    251\n",
              "25    253\n",
              "26    296\n",
              "27    277\n",
              "28    280\n",
              "29    298\n",
              "30    284\n",
              "31    281\n",
              "32    288\n",
              "33    273\n",
              "34    310\n",
              "35    336\n",
              "36    280\n",
              "37    262\n",
              "38    271\n",
              "39    270\n",
              "40    264\n",
              "41    270\n",
              "42    243\n",
              "43    233\n",
              "44    285\n",
              "45    229\n",
              "46    208\n",
              "47    177\n",
              "48    167\n",
              "49    172\n",
              "50    148\n",
              "51    143\n",
              "52    118\n",
              "53    122\n",
              "54    124\n",
              "55    124\n",
              "56     96\n",
              "57     76\n",
              "58     90\n",
              "59     79\n",
              "60     99\n",
              "61     71\n",
              "62     56\n",
              "63     49\n",
              "64     54\n",
              "65     37\n",
              "66     65\n",
              "67     39\n",
              "68     48\n",
              "69     33\n",
              "70     27\n",
              "71     16\n",
              "72     19\n",
              "73     16\n",
              "74     16\n",
              "75      7\n",
              "76     12\n",
              "77      5\n",
              "78      5\n",
              "79      3\n",
              "80      9\n",
              "81      5\n",
              "82      3\n",
              "83      4\n",
              "84      2\n",
              "85      5\n",
              "87      2\n",
              "88      2\n",
              "90      2\n",
              "91      1\n",
              "dtype: int64"
            ]
          },
          "metadata": {},
          "execution_count": 12
        }
      ]
    },
    {
      "cell_type": "code",
      "source": [
        "df_original.groupby('Possivel_Fraude').size()"
      ],
      "metadata": {
        "colab": {
          "base_uri": "https://localhost:8080/"
        },
        "id": "kGBzT2eP_RZL",
        "outputId": "765c0f7d-a9e8-4b8a-946b-864f4e7d1d94"
      },
      "execution_count": null,
      "outputs": [
        {
          "output_type": "execute_result",
          "data": {
            "text/plain": [
              "Possivel_Fraude\n",
              "Nao    5035\n",
              "Sim    4482\n",
              "dtype: int64"
            ]
          },
          "metadata": {},
          "execution_count": 13
        }
      ]
    },
    {
      "cell_type": "code",
      "source": [
        "#Ajuste estado civil\n",
        "df_original['Estado_Civil'] = df_original['Estado_Civil'].replace(['NENHUM'], 'OUTRO')\n",
        "df_original['Estado_Civil'] = df_original['Estado_Civil'].replace(['UNIÃO ESTAVEL'], 'CASADO (A)')\n",
        "df_original.groupby('Estado_Civil').size()"
      ],
      "metadata": {
        "colab": {
          "base_uri": "https://localhost:8080/"
        },
        "id": "XeWefDaI_TOz",
        "outputId": "01842e6a-b0db-4f8b-b6c3-8fec491896a3"
      },
      "execution_count": null,
      "outputs": [
        {
          "output_type": "execute_result",
          "data": {
            "text/plain": [
              "Estado_Civil\n",
              "CASADO (A)     3157\n",
              "DIVORCIADO      481\n",
              "OUTRO           652\n",
              "SOLTEIRO(A)    5087\n",
              "VIÚVO(A)        140\n",
              "dtype: int64"
            ]
          },
          "metadata": {},
          "execution_count": 14
        }
      ]
    },
    {
      "cell_type": "code",
      "source": [
        "#Criando faixa etária para modelo preditivo\n",
        "faixa = [0, 21, 30, 40, 50, 60, 100]\n",
        "labels = ['Até 21 anos', 'De 22 até 30 anos', 'De 31 até 40 anos', 'De 41 até 50 anos', 'De 51 anos até 60 anos', 'Acima de 60 anos']\n",
        "df_original['Faixa_Etaria'] = pd.cut(df_original['Idade'], bins=faixa, labels=labels)\n",
        "df_original.groupby('Faixa_Etaria').size()"
      ],
      "metadata": {
        "colab": {
          "base_uri": "https://localhost:8080/"
        },
        "id": "lXmzByAc_WKp",
        "outputId": "c1e4b105-c8ff-4742-eab5-8e13c06a2320"
      },
      "execution_count": null,
      "outputs": [
        {
          "output_type": "execute_result",
          "data": {
            "text/plain": [
              "Faixa_Etaria\n",
              "Até 21 anos                520\n",
              "De 22 até 30 anos         2346\n",
              "De 31 até 40 anos         2835\n",
              "De 41 até 50 anos         2132\n",
              "De 51 anos até 60 anos    1071\n",
              "Acima de 60 anos           613\n",
              "dtype: int64"
            ]
          },
          "metadata": {},
          "execution_count": 15
        }
      ]
    },
    {
      "cell_type": "code",
      "source": [
        "#Criando faixa salarial para modelo preditivo\n",
        "faixa = [-100, 1000, 2000, 3000, 5000, 10000, 20000,30000,99999999999999999]\n",
        "labels = ['Até 1k', 'De 1k até 2k', 'De 2k até 3k', 'De 3k até 5k', 'De 5k até 10k', 'De 10k até 20k', 'De 20k até 30k','Acima de 30k']\n",
        "df_original['Faixa_Salarial'] = pd.cut(df_original['Valor_Renda'], bins=faixa, labels=labels)\n",
        "df_original.groupby(['Faixa_Salarial']).size()"
      ],
      "metadata": {
        "colab": {
          "base_uri": "https://localhost:8080/"
        },
        "id": "JUkh6JY3_ZPF",
        "outputId": "f8c2cfa0-0c1a-4821-8b08-bd06498453ba"
      },
      "execution_count": null,
      "outputs": [
        {
          "output_type": "execute_result",
          "data": {
            "text/plain": [
              "Faixa_Salarial\n",
              "Até 1k              19\n",
              "De 1k até 2k      2012\n",
              "De 2k até 3k      2522\n",
              "De 3k até 5k      2646\n",
              "De 5k até 10k     1574\n",
              "De 10k até 20k     488\n",
              "De 20k até 30k     137\n",
              "Acima de 30k       119\n",
              "dtype: int64"
            ]
          },
          "metadata": {},
          "execution_count": 16
        }
      ]
    },
    {
      "cell_type": "code",
      "source": [
        "#Tratando valores nulos\n",
        "\n",
        "df_original['QT_Dias_Atraso'] = df_original['QT_Dias_Atraso'].fillna(df_original['QT_Dias_Atraso'].median())"
      ],
      "metadata": {
        "id": "JOiYwjso_ab6"
      },
      "execution_count": null,
      "outputs": []
    },
    {
      "cell_type": "code",
      "source": [
        "df_original.info()"
      ],
      "metadata": {
        "colab": {
          "base_uri": "https://localhost:8080/"
        },
        "id": "XlRmdaPo_dVd",
        "outputId": "1a99f1f6-94ae-4c1d-8601-c8e15a4d80b4"
      },
      "execution_count": null,
      "outputs": [
        {
          "output_type": "stream",
          "name": "stdout",
          "text": [
            "<class 'pandas.core.frame.DataFrame'>\n",
            "RangeIndex: 9517 entries, 0 to 9516\n",
            "Data columns (total 26 columns):\n",
            " #   Column                            Non-Null Count  Dtype   \n",
            "---  ------                            --------------  -----   \n",
            " 0   Contrato                          9517 non-null   int64   \n",
            " 1   Idade                             9517 non-null   int64   \n",
            " 2   Sexo                              9517 non-null   object  \n",
            " 3   Valor_Renda                       9517 non-null   float64 \n",
            " 4   UF_Cliente                        9517 non-null   object  \n",
            " 5   Perc_Juros                        9517 non-null   float64 \n",
            " 6   Prazo_Emprestimo                  9517 non-null   int64   \n",
            " 7   Data_Contratacao                  9517 non-null   object  \n",
            " 8   Prazo_Restante                    9517 non-null   int64   \n",
            " 9   VL_Emprestimo                     9517 non-null   float64 \n",
            " 10  VL_Emprestimo_ComJuros            9517 non-null   float64 \n",
            " 11  QT_Total_Parcelas_Pagas           9517 non-null   int64   \n",
            " 12  QT_Total_Parcelas_Pagas_EmDia     9517 non-null   int64   \n",
            " 13  QT_Total_Parcelas_Pagas_EmAtraso  9517 non-null   int64   \n",
            " 14  Qt_Renegociacao                   9517 non-null   int64   \n",
            " 15  Estado_Civil                      9517 non-null   object  \n",
            " 16  Escolaridade                      2412 non-null   object  \n",
            " 17  Possui_Patrimonio                 9517 non-null   object  \n",
            " 18  VL_Patrimonio                     9517 non-null   float64 \n",
            " 19  QT_Parcelas_Atraso                9517 non-null   int64   \n",
            " 20  QT_Dias_Atraso                    9517 non-null   float64 \n",
            " 21  Saldo_Devedor                     9517 non-null   float64 \n",
            " 22  Total_Pago                        9517 non-null   float64 \n",
            " 23  Possivel_Fraude                   9517 non-null   object  \n",
            " 24  Faixa_Etaria                      9517 non-null   category\n",
            " 25  Faixa_Salarial                    9517 non-null   category\n",
            "dtypes: category(2), float64(8), int64(9), object(7)\n",
            "memory usage: 1.8+ MB\n"
          ]
        }
      ]
    },
    {
      "cell_type": "code",
      "source": [
        "#Faixa de dias de atraso\n",
        "faixa = [-100, 30, 60, 90, 180, 240, 360, 500]\n",
        "labels = ['Até 30 dias', 'De 31 até 60 dias', 'De 61 até 90 dias', 'De 91 até 180 dias', 'De 181 até 240 dias', 'De 241 até 360 dias', 'Acima de 360']\n",
        "df_original['Faixa_Dias_Atraso'] = pd.cut(df_original['QT_Dias_Atraso'], bins=faixa, labels=labels)\n",
        "df_original.groupby(['Faixa_Dias_Atraso']).size()"
      ],
      "metadata": {
        "colab": {
          "base_uri": "https://localhost:8080/"
        },
        "id": "X-WLSxsa_hn2",
        "outputId": "9c5fe25a-b61f-47f1-f20b-6182a5a4c26d"
      },
      "execution_count": null,
      "outputs": [
        {
          "output_type": "execute_result",
          "data": {
            "text/plain": [
              "Faixa_Dias_Atraso\n",
              "Até 30 dias             532\n",
              "De 31 até 60 dias       255\n",
              "De 61 até 90 dias       190\n",
              "De 91 até 180 dias      587\n",
              "De 181 até 240 dias     593\n",
              "De 241 até 360 dias    6259\n",
              "Acima de 360           1101\n",
              "dtype: int64"
            ]
          },
          "metadata": {},
          "execution_count": 19
        }
      ]
    },
    {
      "cell_type": "code",
      "source": [
        "#Criando faixas de prazo de pagamento\n",
        "faixa = [0, 60, 120, 200, 720]\n",
        "labels = ['Até 60 meses', 'De 61 até 120 meses', 'De 121 até 200 meses', 'Acima de 200 meses']\n",
        "df_original['Faixa_Prazo_Emprestimo'] = pd.cut(df_original['Prazo_Emprestimo'], bins=faixa, labels=labels)\n",
        "df_original.groupby(['Faixa_Prazo_Emprestimo']).size()"
      ],
      "metadata": {
        "colab": {
          "base_uri": "https://localhost:8080/"
        },
        "id": "ro5W8EZn_ifk",
        "outputId": "10f15bac-ebf4-4bc0-b981-ef4edb0b1f18"
      },
      "execution_count": null,
      "outputs": [
        {
          "output_type": "execute_result",
          "data": {
            "text/plain": [
              "Faixa_Prazo_Emprestimo\n",
              "Até 60 meses            2955\n",
              "De 61 até 120 meses     3567\n",
              "De 121 até 200 meses    2814\n",
              "Acima de 200 meses       181\n",
              "dtype: int64"
            ]
          },
          "metadata": {},
          "execution_count": 20
        }
      ]
    },
    {
      "cell_type": "code",
      "source": [
        "#Criando faixas de prazo de pagamento\n",
        "faixa = [0, 60, 120, 200, 720]\n",
        "labels = ['Até 60 meses', 'De 61 até 120 meses', 'De 121 até 200 meses', 'Acima de 200 meses']\n",
        "df_original['Faixa_Prazo_Restante'] = pd.cut(df_original['Prazo_Emprestimo'], bins=faixa, labels=labels)\n",
        "df_original.groupby(['Faixa_Prazo_Emprestimo']).size()"
      ],
      "metadata": {
        "colab": {
          "base_uri": "https://localhost:8080/"
        },
        "id": "it8QffFN_lIV",
        "outputId": "71a39bae-31df-4446-de6d-f75cb8cfa6f6"
      },
      "execution_count": null,
      "outputs": [
        {
          "output_type": "execute_result",
          "data": {
            "text/plain": [
              "Faixa_Prazo_Emprestimo\n",
              "Até 60 meses            2955\n",
              "De 61 até 120 meses     3567\n",
              "De 121 até 200 meses    2814\n",
              "Acima de 200 meses       181\n",
              "dtype: int64"
            ]
          },
          "metadata": {},
          "execution_count": 21
        }
      ]
    },
    {
      "cell_type": "code",
      "source": [
        "df_original.Sexo.value_counts().plot(kind='bar',title='Sexo', color=['#1F77B4', '#FF7F0E'], rot=0);"
      ],
      "metadata": {
        "colab": {
          "base_uri": "https://localhost:8080/",
          "height": 472
        },
        "id": "ZHhqUbrQ_nTp",
        "outputId": "9d3c1298-431c-4534-dc9d-0fb6be4cb1c0"
      },
      "execution_count": null,
      "outputs": [
        {
          "output_type": "display_data",
          "data": {
            "text/plain": [
              "<Figure size 640x480 with 1 Axes>"
            ],
            "image/png": "[encoded data removed]"
          },
          "metadata": {}
        }
      ]
    },
    {
      "cell_type": "code",
      "source": [
        "df_original.UF_Cliente.value_counts().plot(kind='bar',title='UF', color=['#1F77B4', '#FF7F0E']);"
      ],
      "metadata": {
        "colab": {
          "base_uri": "https://localhost:8080/",
          "height": 481
        },
        "id": "UyELCdAL_sA5",
        "outputId": "619d2217-796c-4910-91f4-a3ae33dd27be"
      },
      "execution_count": null,
      "outputs": [
        {
          "output_type": "display_data",
          "data": {
            "text/plain": [
              "<Figure size 640x480 with 1 Axes>"
            ],
            "image/png": "[encoded data removed]"
          },
          "metadata": {}
        }
      ]
    },
    {
      "cell_type": "code",
      "source": [
        "df_original.Faixa_Prazo_Emprestimo.value_counts().plot(kind='bar',title='Faixas de prazos de empréstimo', color=['#1F77B4', '#FF7F0E']);"
      ],
      "metadata": {
        "colab": {
          "base_uri": "https://localhost:8080/",
          "height": 615
        },
        "id": "1BEDwOC3_vNL",
        "outputId": "38ce5386-f152-4945-af46-7c9da3158886"
      },
      "execution_count": null,
      "outputs": [
        {
          "output_type": "display_data",
          "data": {
            "text/plain": [
              "<Figure size 640x480 with 1 Axes>"
            ],
            "image/png": "[encoded data removed]"
          },
          "metadata": {}
        }
      ]
    },
    {
      "cell_type": "code",
      "source": [
        "df_original.Faixa_Prazo_Restante.value_counts().plot(kind='bar', title='Faixas de prazo restante', color=['#1F77B4', '#FF7F0E']);"
      ],
      "metadata": {
        "colab": {
          "base_uri": "https://localhost:8080/",
          "height": 615
        },
        "id": "seDwO63a_xbf",
        "outputId": "3ad552a5-4896-4352-b99f-d113af11ebcf"
      },
      "execution_count": null,
      "outputs": [
        {
          "output_type": "display_data",
          "data": {
            "text/plain": [
              "<Figure size 640x480 with 1 Axes>"
            ],
            "image/png": "[encoded data removed]"
          },
          "metadata": {}
        }
      ]
    },
    {
      "cell_type": "code",
      "source": [
        "df_original.Estado_Civil.value_counts().plot(kind='bar', title='Estado Civil', color=['#1F77B4', '#FF7F0E']);"
      ],
      "metadata": {
        "colab": {
          "base_uri": "https://localhost:8080/",
          "height": 546
        },
        "id": "5QjWClSq_yKV",
        "outputId": "cbfd0aa8-e378-40d6-a678-f0211c1dd560"
      },
      "execution_count": null,
      "outputs": [
        {
          "output_type": "display_data",
          "data": {
            "text/plain": [
              "<Figure size 640x480 with 1 Axes>"
            ],
            "image/png": "[encoded data removed]"
          },
          "metadata": {}
        }
      ]
    },
    {
      "cell_type": "code",
      "source": [
        "df_original.Escolaridade.value_counts().plot(kind='bar', title='Escolaridade', color=['#1F77B4', '#FF7F0E']);"
      ],
      "metadata": {
        "colab": {
          "base_uri": "https://localhost:8080/",
          "height": 727
        },
        "id": "rxz6M_tV_0m5",
        "outputId": "b41f3433-c9fd-451f-a4e9-50d7b96d7be8"
      },
      "execution_count": null,
      "outputs": [
        {
          "output_type": "display_data",
          "data": {
            "text/plain": [
              "<Figure size 640x480 with 1 Axes>"
            ],
            "image/png": "[encoded data removed]"
          },
          "metadata": {}
        }
      ]
    },
    {
      "cell_type": "code",
      "source": [
        "df_original.Faixa_Dias_Atraso.value_counts().plot(kind='bar', title='Faixas dias de atraso', color=['#1F77B4', '#FF7F0E']);"
      ],
      "metadata": {
        "colab": {
          "base_uri": "https://localhost:8080/",
          "height": 599
        },
        "id": "w257tsN3_2t0",
        "outputId": "709d7928-8007-480a-9866-3ce0399b91c0"
      },
      "execution_count": null,
      "outputs": [
        {
          "output_type": "display_data",
          "data": {
            "text/plain": [
              "<Figure size 640x480 with 1 Axes>"
            ],
            "image/png": "[encoded data removed]"
          },
          "metadata": {}
        }
      ]
    },
    {
      "cell_type": "code",
      "source": [
        "df_original.Faixa_Salarial.value_counts().plot(kind='bar', title='Faixa Salarial', color=['#1F77B4', '#FF7F0E']);"
      ],
      "metadata": {
        "colab": {
          "base_uri": "https://localhost:8080/",
          "height": 564
        },
        "id": "kpKldAG2_4_5",
        "outputId": "69810cd8-859f-481e-c85c-c6a009dc810b"
      },
      "execution_count": null,
      "outputs": [
        {
          "output_type": "display_data",
          "data": {
            "text/plain": [
              "<Figure size 640x480 with 1 Axes>"
            ],
            "image/png": "[encoded data removed]"
          },
          "metadata": {}
        }
      ]
    },
    {
      "cell_type": "code",
      "source": [
        "df_original.Possui_Patrimonio.value_counts().plot(kind='bar', title='Possui Patrimônio', color=['#1F77B4', '#FF7F0E'], rot=0);"
      ],
      "metadata": {
        "colab": {
          "base_uri": "https://localhost:8080/",
          "height": 472
        },
        "id": "1NYwYy5T_7W9",
        "outputId": "c189b744-e27d-431e-b443-11b49f3a5a73"
      },
      "execution_count": null,
      "outputs": [
        {
          "output_type": "display_data",
          "data": {
            "text/plain": [
              "<Figure size 640x480 with 1 Axes>"
            ],
            "image/png": "[encoded data removed]"
          },
          "metadata": {}
        }
      ]
    },
    {
      "cell_type": "code",
      "source": [
        "df_original.Possivel_Fraude.value_counts().plot(kind='bar', title='Possível Fraude', color=['#1F77B4', '#FF7F0E'], rot=0);"
      ],
      "metadata": {
        "colab": {
          "base_uri": "https://localhost:8080/",
          "height": 472
        },
        "id": "OhloXuug_96Z",
        "outputId": "568e4931-cbc9-410d-f4fe-cf54dd4bee83"
      },
      "execution_count": null,
      "outputs": [
        {
          "output_type": "display_data",
          "data": {
            "text/plain": [
              "<Figure size 640x480 with 1 Axes>"
            ],
            "image/png": "[encoded data removed]"
          },
          "metadata": {}
        }
      ]
    },
    {
      "cell_type": "code",
      "source": [
        "#Após a análise exploratória, algumas colunas serão excluídas do modelo:\n",
        "#Data_Contratacao,VL_Patrimonio, Escolaridade, Idade, Possui_Patrimonio\n",
        "#Valor_Renda, Prazo_Emprestimo, QT_Dias_Atraso, Prazo_Restante\n",
        "\n",
        "columns = ['Sexo','UF_Cliente', 'Perc_Juros',\n",
        "       'VL_Emprestimo', 'VL_Emprestimo_ComJuros', 'QT_Total_Parcelas_Pagas',\n",
        "       'QT_Total_Parcelas_Pagas_EmDia', 'QT_Total_Parcelas_Pagas_EmAtraso',\n",
        "       'Qt_Renegociacao', 'Estado_Civil', 'Faixa_Etaria',\n",
        "       'QT_Parcelas_Atraso',\n",
        "       'Saldo_Devedor', 'Total_Pago', 'Faixa_Dias_Atraso',\n",
        "       'Faixa_Prazo_Emprestimo', 'Faixa_Prazo_Restante', 'Faixa_Salarial','Possivel_Fraude',]\n",
        "\n",
        "df_dados = pd.DataFrame(df_original, columns=columns)\n",
        "df_dados.head()"
      ],
      "metadata": {
        "colab": {
          "base_uri": "https://localhost:8080/",
          "height": 295
        },
        "id": "VZt0DTfUABCN",
        "outputId": "726f7004-884c-4fdb-f246-981818a9f58e"
      },
      "execution_count": null,
      "outputs": [
        {
          "output_type": "execute_result",
          "data": {
            "text/plain": [
              "  Sexo UF_Cliente  Perc_Juros  VL_Emprestimo  VL_Emprestimo_ComJuros  \\\n",
              "0    M         SP       23.00       80000.00                92000.00   \n",
              "1    M         MG       20.00       50000.00                57500.00   \n",
              "2    M         BA       18.00      100000.00               115000.00   \n",
              "3    M         MG       20.00       30000.00                34500.00   \n",
              "4    M         MG       20.00       60000.00                69000.00   \n",
              "\n",
              "   QT_Total_Parcelas_Pagas  QT_Total_Parcelas_Pagas_EmDia  \\\n",
              "0                       15                              9   \n",
              "1                       10                             10   \n",
              "2                       15                              5   \n",
              "3                        1                              1   \n",
              "4                       16                             16   \n",
              "\n",
              "   QT_Total_Parcelas_Pagas_EmAtraso  Qt_Renegociacao Estado_Civil  \\\n",
              "0                                 1                0   DIVORCIADO   \n",
              "1                                 0                0  SOLTEIRO(A)   \n",
              "2                                 1                0   CASADO (A)   \n",
              "3                                 0                0  SOLTEIRO(A)   \n",
              "4                                 0                0   CASADO (A)   \n",
              "\n",
              "             Faixa_Etaria  QT_Parcelas_Atraso  Saldo_Devedor  Total_Pago  \\\n",
              "0       De 41 até 50 anos                   0       91759.97     7717.08   \n",
              "1       De 22 até 30 anos                   4       53981.18     6756.59   \n",
              "2       De 31 até 40 anos                   0      101150.02    17929.06   \n",
              "3             Até 21 anos                  13       36208.10      369.10   \n",
              "4  De 51 anos até 60 anos                   0       60984.00    11845.24   \n",
              "\n",
              "     Faixa_Dias_Atraso Faixa_Prazo_Emprestimo  Faixa_Prazo_Restante  \\\n",
              "0  De 241 até 360 dias   De 121 até 200 meses  De 121 até 200 meses   \n",
              "1   De 91 até 180 dias    De 61 até 120 meses   De 61 até 120 meses   \n",
              "2  De 241 até 360 dias    De 61 até 120 meses   De 61 até 120 meses   \n",
              "3         Acima de 360    De 61 até 120 meses   De 61 até 120 meses   \n",
              "4  De 241 até 360 dias    De 61 até 120 meses   De 61 até 120 meses   \n",
              "\n",
              "  Faixa_Salarial Possivel_Fraude  \n",
              "0  De 5k até 10k             Nao  \n",
              "1   De 1k até 2k             Nao  \n",
              "2   De 3k até 5k             Nao  \n",
              "3   De 1k até 2k             Sim  \n",
              "4   De 2k até 3k             Nao  "
            ],
            "text/html": [
              "\n",
              "  <div id=\"df-f042d701-0b7e-41a6-9ad4-3abbc3ab9719\" class=\"colab-df-container\">\n",
              "    <div>\n",
              "<style scoped>\n",
              "    .dataframe tbody tr th:only-of-type {\n",
              "        vertical-align: middle;\n",
              "    }\n",
              "\n",
              "    .dataframe tbody tr th {\n",
              "        vertical-align: top;\n",
              "    }\n",
              "\n",
              "    .dataframe thead th {\n",
              "        text-align: right;\n",
              "    }\n",
              "</style>\n",
              "<table border=\"1\" class=\"dataframe\">\n",
              "  <thead>\n",
              "    <tr style=\"text-align: right;\">\n",
              "      <th></th>\n",
              "      <th>Sexo</th>\n",
              "      <th>UF_Cliente</th>\n",
              "      <th>Perc_Juros</th>\n",
              "      <th>VL_Emprestimo</th>\n",
              "      <th>VL_Emprestimo_ComJuros</th>\n",
              "      <th>QT_Total_Parcelas_Pagas</th>\n",
              "      <th>QT_Total_Parcelas_Pagas_EmDia</th>\n",
              "      <th>QT_Total_Parcelas_Pagas_EmAtraso</th>\n",
              "      <th>Qt_Renegociacao</th>\n",
              "      <th>Estado_Civil</th>\n",
              "      <th>Faixa_Etaria</th>\n",
              "      <th>QT_Parcelas_Atraso</th>\n",
              "      <th>Saldo_Devedor</th>\n",
              "      <th>Total_Pago</th>\n",
              "      <th>Faixa_Dias_Atraso</th>\n",
              "      <th>Faixa_Prazo_Emprestimo</th>\n",
              "      <th>Faixa_Prazo_Restante</th>\n",
              "      <th>Faixa_Salarial</th>\n",
              "      <th>Possivel_Fraude</th>\n",
              "    </tr>\n",
              "  </thead>\n",
              "  <tbody>\n",
              "    <tr>\n",
              "      <th>0</th>\n",
              "      <td>M</td>\n",
              "      <td>SP</td>\n",
              "      <td>23.00</td>\n",
              "      <td>80000.00</td>\n",
              "      <td>92000.00</td>\n",
              "      <td>15</td>\n",
              "      <td>9</td>\n",
              "      <td>1</td>\n",
              "      <td>0</td>\n",
              "      <td>DIVORCIADO</td>\n",
              "      <td>De 41 até 50 anos</td>\n",
              "      <td>0</td>\n",
              "      <td>91759.97</td>\n",
              "      <td>7717.08</td>\n",
              "      <td>De 241 até 360 dias</td>\n",
              "      <td>De 121 até 200 meses</td>\n",
              "      <td>De 121 até 200 meses</td>\n",
              "      <td>De 5k até 10k</td>\n",
              "      <td>Nao</td>\n",
              "    </tr>\n",
              "    <tr>\n",
              "      <th>1</th>\n",
              "      <td>M</td>\n",
              "      <td>MG</td>\n",
              "      <td>20.00</td>\n",
              "      <td>50000.00</td>\n",
              "      <td>57500.00</td>\n",
              "      <td>10</td>\n",
              "      <td>10</td>\n",
              "      <td>0</td>\n",
              "      <td>0</td>\n",
              "      <td>SOLTEIRO(A)</td>\n",
              "      <td>De 22 até 30 anos</td>\n",
              "      <td>4</td>\n",
              "      <td>53981.18</td>\n",
              "      <td>6756.59</td>\n",
              "      <td>De 91 até 180 dias</td>\n",
              "      <td>De 61 até 120 meses</td>\n",
              "      <td>De 61 até 120 meses</td>\n",
              "      <td>De 1k até 2k</td>\n",
              "      <td>Nao</td>\n",
              "    </tr>\n",
              "    <tr>\n",
              "      <th>2</th>\n",
              "      <td>M</td>\n",
              "      <td>BA</td>\n",
              "      <td>18.00</td>\n",
              "      <td>100000.00</td>\n",
              "      <td>115000.00</td>\n",
              "      <td>15</td>\n",
              "      <td>5</td>\n",
              "      <td>1</td>\n",
              "      <td>0</td>\n",
              "      <td>CASADO (A)</td>\n",
              "      <td>De 31 até 40 anos</td>\n",
              "      <td>0</td>\n",
              "      <td>101150.02</td>\n",
              "      <td>17929.06</td>\n",
              "      <td>De 241 até 360 dias</td>\n",
              "      <td>De 61 até 120 meses</td>\n",
              "      <td>De 61 até 120 meses</td>\n",
              "      <td>De 3k até 5k</td>\n",
              "      <td>Nao</td>\n",
              "    </tr>\n",
              "    <tr>\n",
              "      <th>3</th>\n",
              "      <td>M</td>\n",
              "      <td>MG</td>\n",
              "      <td>20.00</td>\n",
              "      <td>30000.00</td>\n",
              "      <td>34500.00</td>\n",
              "      <td>1</td>\n",
              "      <td>1</td>\n",
              "      <td>0</td>\n",
              "      <td>0</td>\n",
              "      <td>SOLTEIRO(A)</td>\n",
              "      <td>Até 21 anos</td>\n",
              "      <td>13</td>\n",
              "      <td>36208.10</td>\n",
              "      <td>369.10</td>\n",
              "      <td>Acima de 360</td>\n",
              "      <td>De 61 até 120 meses</td>\n",
              "      <td>De 61 até 120 meses</td>\n",
              "      <td>De 1k até 2k</td>\n",
              "      <td>Sim</td>\n",
              "    </tr>\n",
              "    <tr>\n",
              "      <th>4</th>\n",
              "      <td>M</td>\n",
              "      <td>MG</td>\n",
              "      <td>20.00</td>\n",
              "      <td>60000.00</td>\n",
              "      <td>69000.00</td>\n",
              "      <td>16</td>\n",
              "      <td>16</td>\n",
              "      <td>0</td>\n",
              "      <td>0</td>\n",
              "      <td>CASADO (A)</td>\n",
              "      <td>De 51 anos até 60 anos</td>\n",
              "      <td>0</td>\n",
              "      <td>60984.00</td>\n",
              "      <td>11845.24</td>\n",
              "      <td>De 241 até 360 dias</td>\n",
              "      <td>De 61 até 120 meses</td>\n",
              "      <td>De 61 até 120 meses</td>\n",
              "      <td>De 2k até 3k</td>\n",
              "      <td>Nao</td>\n",
              "    </tr>\n",
              "  </tbody>\n",
              "</table>\n",
              "</div>\n",
              "    <div class=\"colab-df-buttons\">\n",
              "\n",
              "  <div class=\"colab-df-container\">\n",
              "    <button class=\"colab-df-convert\" onclick=\"convertToInteractive('df-f042d701-0b7e-41a6-9ad4-3abbc3ab9719')\"\n",
              "            title=\"Convert this dataframe to an interactive table.\"\n",
              "            style=\"display:none;\">\n",
              "\n",
              "  <svg xmlns=\"http://www.w3.org/2000/svg\" height=\"24px\" viewBox=\"0 -960 960 960\">\n",
              "    <path d=\"M120-120v-720h720v720H120Zm60-500h600v-160H180v160Zm220 220h160v-160H400v160Zm0 220h160v-160H400v160ZM180-400h160v-160H180v160Zm440 0h160v-160H620v160ZM180-180h160v-160H180v160Zm440 0h160v-160H620v160Z\"/>\n",
              "  </svg>\n",
              "    </button>\n",
              "\n",
              "  <style>\n",
              "    .colab-df-container {\n",
              "      display:flex;\n",
              "      gap: 12px;\n",
              "    }\n",
              "\n",
              "    .colab-df-convert {\n",
              "      background-color: #E8F0FE;\n",
              "      border: none;\n",
              "      border-radius: 50%;\n",
              "      cursor: pointer;\n",
              "      display: none;\n",
              "      fill: #1967D2;\n",
              "      height: 32px;\n",
              "      padding: 0 0 0 0;\n",
              "      width: 32px;\n",
              "    }\n",
              "\n",
              "    .colab-df-convert:hover {\n",
              "      background-color: #E2EBFA;\n",
              "      box-shadow: 0px 1px 2px rgba(60, 64, 67, 0.3), 0px 1px 3px 1px rgba(60, 64, 67, 0.15);\n",
              "      fill: #174EA6;\n",
              "    }\n",
              "\n",
              "    .colab-df-buttons div {\n",
              "      margin-bottom: 4px;\n",
              "    }\n",
              "\n",
              "    [theme=dark] .colab-df-convert {\n",
              "      background-color: #3B4455;\n",
              "      fill: #D2E3FC;\n",
              "    }\n",
              "\n",
              "    [theme=dark] .colab-df-convert:hover {\n",
              "      background-color: #434B5C;\n",
              "      box-shadow: 0px 1px 3px 1px rgba(0, 0, 0, 0.15);\n",
              "      filter: drop-shadow(0px 1px 2px rgba(0, 0, 0, 0.3));\n",
              "      fill: #FFFFFF;\n",
              "    }\n",
              "  </style>\n",
              "\n",
              "    <script>\n",
              "      const buttonEl =\n",
              "        document.querySelector('#df-f042d701-0b7e-41a6-9ad4-3abbc3ab9719 button.colab-df-convert');\n",
              "      buttonEl.style.display =\n",
              "        google.colab.kernel.accessAllowed ? 'block' : 'none';\n",
              "\n",
              "      async function convertToInteractive(key) {\n",
              "        const element = document.querySelector('#df-f042d701-0b7e-41a6-9ad4-3abbc3ab9719');\n",
              "        const dataTable =\n",
              "          await google.colab.kernel.invokeFunction('convertToInteractive',\n",
              "                                                    [key], {});\n",
              "        if (!dataTable) return;\n",
              "\n",
              "        const docLinkHtml = 'Like what you see? Visit the ' +\n",
              "          '<a target=\"_blank\" href=https://colab.research.google.com/notebooks/data_table.ipynb>data table notebook</a>'\n",
              "          + ' to learn more about interactive tables.';\n",
              "        element.innerHTML = '';\n",
              "        dataTable['output_type'] = 'display_data';\n",
              "        await google.colab.output.renderOutput(dataTable, element);\n",
              "        const docLink = document.createElement('div');\n",
              "        docLink.innerHTML = docLinkHtml;\n",
              "        element.appendChild(docLink);\n",
              "      }\n",
              "    </script>\n",
              "  </div>\n",
              "\n",
              "\n",
              "<div id=\"df-14b5acb4-2d55-4f2d-92d7-0a7565251e8f\">\n",
              "  <button class=\"colab-df-quickchart\" onclick=\"quickchart('df-14b5acb4-2d55-4f2d-92d7-0a7565251e8f')\"\n",
              "            title=\"Suggest charts\"\n",
              "            style=\"display:none;\">\n",
              "\n",
              "<svg xmlns=\"http://www.w3.org/2000/svg\" height=\"24px\"viewBox=\"0 0 24 24\"\n",
              "     width=\"24px\">\n",
              "    <g>\n",
              "        <path d=\"M19 3H5c-1.1 0-2 .9-2 2v14c0 1.1.9 2 2 2h14c1.1 0 2-.9 2-2V5c0-1.1-.9-2-2-2zM9 17H7v-7h2v7zm4 0h-2V7h2v10zm4 0h-2v-4h2v4z\"/>\n",
              "    </g>\n",
              "</svg>\n",
              "  </button>\n",
              "\n",
              "<style>\n",
              "  .colab-df-quickchart {\n",
              "      --bg-color: #E8F0FE;\n",
              "      --fill-color: #1967D2;\n",
              "      --hover-bg-color: #E2EBFA;\n",
              "      --hover-fill-color: #174EA6;\n",
              "      --disabled-fill-color: #AAA;\n",
              "      --disabled-bg-color: #DDD;\n",
              "  }\n",
              "\n",
              "  [theme=dark] .colab-df-quickchart {\n",
              "      --bg-color: #3B4455;\n",
              "      --fill-color: #D2E3FC;\n",
              "      --hover-bg-color: #434B5C;\n",
              "      --hover-fill-color: #FFFFFF;\n",
              "      --disabled-bg-color: #3B4455;\n",
              "      --disabled-fill-color: #666;\n",
              "  }\n",
              "\n",
              "  .colab-df-quickchart {\n",
              "    background-color: var(--bg-color);\n",
              "    border: none;\n",
              "    border-radius: 50%;\n",
              "    cursor: pointer;\n",
              "    display: none;\n",
              "    fill: var(--fill-color);\n",
              "    height: 32px;\n",
              "    padding: 0;\n",
              "    width: 32px;\n",
              "  }\n",
              "\n",
              "  .colab-df-quickchart:hover {\n",
              "    background-color: var(--hover-bg-color);\n",
              "    box-shadow: 0 1px 2px rgba(60, 64, 67, 0.3), 0 1px 3px 1px rgba(60, 64, 67, 0.15);\n",
              "    fill: var(--button-hover-fill-color);\n",
              "  }\n",
              "\n",
              "  .colab-df-quickchart-complete:disabled,\n",
              "  .colab-df-quickchart-complete:disabled:hover {\n",
              "    background-color: var(--disabled-bg-color);\n",
              "    fill: var(--disabled-fill-color);\n",
              "    box-shadow: none;\n",
              "  }\n",
              "\n",
              "  .colab-df-spinner {\n",
              "    border: 2px solid var(--fill-color);\n",
              "    border-color: transparent;\n",
              "    border-bottom-color: var(--fill-color);\n",
              "    animation:\n",
              "      spin 1s steps(1) infinite;\n",
              "  }\n",
              "\n",
              "  @keyframes spin {\n",
              "    0% {\n",
              "      border-color: transparent;\n",
              "      border-bottom-color: var(--fill-color);\n",
              "      border-left-color: var(--fill-color);\n",
              "    }\n",
              "    20% {\n",
              "      border-color: transparent;\n",
              "      border-left-color: var(--fill-color);\n",
              "      border-top-color: var(--fill-color);\n",
              "    }\n",
              "    30% {\n",
              "      border-color: transparent;\n",
              "      border-left-color: var(--fill-color);\n",
              "      border-top-color: var(--fill-color);\n",
              "      border-right-color: var(--fill-color);\n",
              "    }\n",
              "    40% {\n",
              "      border-color: transparent;\n",
              "      border-right-color: var(--fill-color);\n",
              "      border-top-color: var(--fill-color);\n",
              "    }\n",
              "    60% {\n",
              "      border-color: transparent;\n",
              "      border-right-color: var(--fill-color);\n",
              "    }\n",
              "    80% {\n",
              "      border-color: transparent;\n",
              "      border-right-color: var(--fill-color);\n",
              "      border-bottom-color: var(--fill-color);\n",
              "    }\n",
              "    90% {\n",
              "      border-color: transparent;\n",
              "      border-bottom-color: var(--fill-color);\n",
              "    }\n",
              "  }\n",
              "</style>\n",
              "\n",
              "  <script>\n",
              "    async function quickchart(key) {\n",
              "      const quickchartButtonEl =\n",
              "        document.querySelector('#' + key + ' button');\n",
              "      quickchartButtonEl.disabled = true;  // To prevent multiple clicks.\n",
              "      quickchartButtonEl.classList.add('colab-df-spinner');\n",
              "      try {\n",
              "        const charts = await google.colab.kernel.invokeFunction(\n",
              "            'suggestCharts', [key], {});\n",
              "      } catch (error) {\n",
              "        console.error('Error during call to suggestCharts:', error);\n",
              "      }\n",
              "      quickchartButtonEl.classList.remove('colab-df-spinner');\n",
              "      quickchartButtonEl.classList.add('colab-df-quickchart-complete');\n",
              "    }\n",
              "    (() => {\n",
              "      let quickchartButtonEl =\n",
              "        document.querySelector('#df-14b5acb4-2d55-4f2d-92d7-0a7565251e8f button');\n",
              "      quickchartButtonEl.style.display =\n",
              "        google.colab.kernel.accessAllowed ? 'block' : 'none';\n",
              "    })();\n",
              "  </script>\n",
              "</div>\n",
              "\n",
              "    </div>\n",
              "  </div>\n"
            ],
            "application/vnd.google.colaboratory.intrinsic+json": {
              "type": "dataframe",
              "variable_name": "df_dados",
              "summary": "{\n  \"name\": \"df_dados\",\n  \"rows\": 9517,\n  \"fields\": [\n    {\n      \"column\": \"Sexo\",\n      \"properties\": {\n        \"dtype\": \"category\",\n        \"num_unique_values\": 2,\n        \"samples\": [\n          \"F\",\n          \"M\"\n        ],\n        \"semantic_type\": \"\",\n        \"description\": \"\"\n      }\n    },\n    {\n      \"column\": \"UF_Cliente\",\n      \"properties\": {\n        \"dtype\": \"category\",\n        \"num_unique_values\": 27,\n        \"samples\": [\n          \"PB\",\n          \"PI\"\n        ],\n        \"semantic_type\": \"\",\n        \"description\": \"\"\n      }\n    },\n    {\n      \"column\": \"Perc_Juros\",\n      \"properties\": {\n        \"dtype\": \"number\",\n        \"std\": 3.8206516502179673,\n        \"min\": 7.0,\n        \"max\": 28.0,\n        \"num_unique_values\": 21,\n        \"samples\": [\n          23.0,\n          16.8\n        ],\n        \"semantic_type\": \"\",\n        \"description\": \"\"\n      }\n    },\n    {\n      \"column\": \"VL_Emprestimo\",\n      \"properties\": {\n        \"dtype\": \"number\",\n        \"std\": 94138.05962725624,\n        \"min\": 3500.0,\n        \"max\": 500000.0,\n        \"num_unique_values\": 61,\n        \"samples\": [\n          80000.0,\n          16000.0\n        ],\n        \"semantic_type\": \"\",\n        \"description\": \"\"\n      }\n    },\n    {\n      \"column\": \"VL_Emprestimo_ComJuros\",\n      \"properties\": {\n        \"dtype\": \"number\",\n        \"std\": 108258.76857134468,\n        \"min\": 4025.0,\n        \"max\": 575000.0,\n        \"num_unique_values\": 61,\n        \"samples\": [\n          92000.0,\n          18400.0\n        ],\n        \"semantic_type\": \"\",\n        \"description\": \"\"\n      }\n    },\n    {\n      \"column\": \"QT_Total_Parcelas_Pagas\",\n      \"properties\": {\n        \"dtype\": \"number\",\n        \"std\": 5,\n        \"min\": 0,\n        \"max\": 35,\n        \"num_unique_values\": 24,\n        \"samples\": [\n          2,\n          0\n        ],\n        \"semantic_type\": \"\",\n        \"description\": \"\"\n      }\n    },\n    {\n      \"column\": \"QT_Total_Parcelas_Pagas_EmDia\",\n      \"properties\": {\n        \"dtype\": \"number\",\n        \"std\": 4,\n        \"min\": 0,\n        \"max\": 35,\n        \"num_unique_values\": 24,\n        \"samples\": [\n          15,\n          11\n        ],\n        \"semantic_type\": \"\",\n        \"description\": \"\"\n      }\n    },\n    {\n      \"column\": \"QT_Total_Parcelas_Pagas_EmAtraso\",\n      \"properties\": {\n        \"dtype\": \"number\",\n        \"std\": 2,\n        \"min\": 0,\n        \"max\": 14,\n        \"num_unique_values\": 15,\n        \"samples\": [\n          9,\n          12\n        ],\n        \"semantic_type\": \"\",\n        \"description\": \"\"\n      }\n    },\n    {\n      \"column\": \"Qt_Renegociacao\",\n      \"properties\": {\n        \"dtype\": \"number\",\n        \"std\": 1,\n        \"min\": 0,\n        \"max\": 9,\n        \"num_unique_values\": 10,\n        \"samples\": [\n          9,\n          1\n        ],\n        \"semantic_type\": \"\",\n        \"description\": \"\"\n      }\n    },\n    {\n      \"column\": \"Estado_Civil\",\n      \"properties\": {\n        \"dtype\": \"category\",\n        \"num_unique_values\": 5,\n        \"samples\": [\n          \"SOLTEIRO(A)\",\n          \"OUTRO\"\n        ],\n        \"semantic_type\": \"\",\n        \"description\": \"\"\n      }\n    },\n    {\n      \"column\": \"Faixa_Etaria\",\n      \"properties\": {\n        \"dtype\": \"category\",\n        \"num_unique_values\": 6,\n        \"samples\": [\n          \"De 41 at\\u00e9 50 anos\",\n          \"De 22 at\\u00e9 30 anos\"\n        ],\n        \"semantic_type\": \"\",\n        \"description\": \"\"\n      }\n    },\n    {\n      \"column\": \"QT_Parcelas_Atraso\",\n      \"properties\": {\n        \"dtype\": \"number\",\n        \"std\": 5,\n        \"min\": 0,\n        \"max\": 15,\n        \"num_unique_values\": 16,\n        \"samples\": [\n          0,\n          4\n        ],\n        \"semantic_type\": \"\",\n        \"description\": \"\"\n      }\n    },\n    {\n      \"column\": \"Saldo_Devedor\",\n      \"properties\": {\n        \"dtype\": \"number\",\n        \"std\": 111050.54123204997,\n        \"min\": 0.0,\n        \"max\": 625000.0,\n        \"num_unique_values\": 7654,\n        \"samples\": [\n          34985.12,\n          23802.39\n        ],\n        \"semantic_type\": \"\",\n        \"description\": \"\"\n      }\n    },\n    {\n      \"column\": \"Total_Pago\",\n      \"properties\": {\n        \"dtype\": \"number\",\n        \"std\": 16697.758870301903,\n        \"min\": 0.0,\n        \"max\": 396385.0,\n        \"num_unique_values\": 7022,\n        \"samples\": [\n          5017.04,\n          218887.38\n        ],\n        \"semantic_type\": \"\",\n        \"description\": \"\"\n      }\n    },\n    {\n      \"column\": \"Faixa_Dias_Atraso\",\n      \"properties\": {\n        \"dtype\": \"category\",\n        \"num_unique_values\": 7,\n        \"samples\": [\n          \"De 241 at\\u00e9 360 dias\",\n          \"De 91 at\\u00e9 180 dias\"\n        ],\n        \"semantic_type\": \"\",\n        \"description\": \"\"\n      }\n    },\n    {\n      \"column\": \"Faixa_Prazo_Emprestimo\",\n      \"properties\": {\n        \"dtype\": \"category\",\n        \"num_unique_values\": 4,\n        \"samples\": [\n          \"De 61 at\\u00e9 120 meses\",\n          \"Acima de 200 meses\"\n        ],\n        \"semantic_type\": \"\",\n        \"description\": \"\"\n      }\n    },\n    {\n      \"column\": \"Faixa_Prazo_Restante\",\n      \"properties\": {\n        \"dtype\": \"category\",\n        \"num_unique_values\": 4,\n        \"samples\": [\n          \"De 61 at\\u00e9 120 meses\",\n          \"Acima de 200 meses\"\n        ],\n        \"semantic_type\": \"\",\n        \"description\": \"\"\n      }\n    },\n    {\n      \"column\": \"Faixa_Salarial\",\n      \"properties\": {\n        \"dtype\": \"category\",\n        \"num_unique_values\": 8,\n        \"samples\": [\n          \"De 1k at\\u00e9 2k\",\n          \"De 20k at\\u00e9 30k\"\n        ],\n        \"semantic_type\": \"\",\n        \"description\": \"\"\n      }\n    },\n    {\n      \"column\": \"Possivel_Fraude\",\n      \"properties\": {\n        \"dtype\": \"category\",\n        \"num_unique_values\": 2,\n        \"samples\": [\n          \"Sim\",\n          \"Nao\"\n        ],\n        \"semantic_type\": \"\",\n        \"description\": \"\"\n      }\n    }\n  ]\n}"
            }
          },
          "metadata": {},
          "execution_count": 32
        }
      ]
    },
    {
      "cell_type": "code",
      "source": [
        "df_dados.shape"
      ],
      "metadata": {
        "colab": {
          "base_uri": "https://localhost:8080/"
        },
        "id": "EYGytDYYADvW",
        "outputId": "09f43542-ccc8-4ca6-e545-998f7454ba09"
      },
      "execution_count": null,
      "outputs": [
        {
          "output_type": "execute_result",
          "data": {
            "text/plain": [
              "(9517, 19)"
            ]
          },
          "metadata": {},
          "execution_count": 33
        }
      ]
    },
    {
      "cell_type": "code",
      "source": [
        "df_dados.info(verbose=True)"
      ],
      "metadata": {
        "colab": {
          "base_uri": "https://localhost:8080/"
        },
        "id": "O-WVJ50sAHq_",
        "outputId": "48b12923-7341-4a78-d5d4-322ce1db8790"
      },
      "execution_count": null,
      "outputs": [
        {
          "output_type": "stream",
          "name": "stdout",
          "text": [
            "<class 'pandas.core.frame.DataFrame'>\n",
            "RangeIndex: 9517 entries, 0 to 9516\n",
            "Data columns (total 19 columns):\n",
            " #   Column                            Non-Null Count  Dtype   \n",
            "---  ------                            --------------  -----   \n",
            " 0   Sexo                              9517 non-null   object  \n",
            " 1   UF_Cliente                        9517 non-null   object  \n",
            " 2   Perc_Juros                        9517 non-null   float64 \n",
            " 3   VL_Emprestimo                     9517 non-null   float64 \n",
            " 4   VL_Emprestimo_ComJuros            9517 non-null   float64 \n",
            " 5   QT_Total_Parcelas_Pagas           9517 non-null   int64   \n",
            " 6   QT_Total_Parcelas_Pagas_EmDia     9517 non-null   int64   \n",
            " 7   QT_Total_Parcelas_Pagas_EmAtraso  9517 non-null   int64   \n",
            " 8   Qt_Renegociacao                   9517 non-null   int64   \n",
            " 9   Estado_Civil                      9517 non-null   object  \n",
            " 10  Faixa_Etaria                      9517 non-null   category\n",
            " 11  QT_Parcelas_Atraso                9517 non-null   int64   \n",
            " 12  Saldo_Devedor                     9517 non-null   float64 \n",
            " 13  Total_Pago                        9517 non-null   float64 \n",
            " 14  Faixa_Dias_Atraso                 9517 non-null   category\n",
            " 15  Faixa_Prazo_Emprestimo            9517 non-null   category\n",
            " 16  Faixa_Prazo_Restante              9517 non-null   category\n",
            " 17  Faixa_Salarial                    9517 non-null   category\n",
            " 18  Possivel_Fraude                   9517 non-null   object  \n",
            "dtypes: category(5), float64(5), int64(5), object(4)\n",
            "memory usage: 1.1+ MB\n"
          ]
        }
      ]
    },
    {
      "cell_type": "code",
      "source": [
        "#Conferindo se há ainda algum valor nulo\n",
        "df_dados.isnull().sum()"
      ],
      "metadata": {
        "colab": {
          "base_uri": "https://localhost:8080/"
        },
        "id": "ofWgajrpAKbJ",
        "outputId": "e392cf92-0105-49cd-e4fa-9ad19c6a16ac"
      },
      "execution_count": null,
      "outputs": [
        {
          "output_type": "execute_result",
          "data": {
            "text/plain": [
              "Sexo                                0\n",
              "UF_Cliente                          0\n",
              "Perc_Juros                          0\n",
              "VL_Emprestimo                       0\n",
              "VL_Emprestimo_ComJuros              0\n",
              "QT_Total_Parcelas_Pagas             0\n",
              "QT_Total_Parcelas_Pagas_EmDia       0\n",
              "QT_Total_Parcelas_Pagas_EmAtraso    0\n",
              "Qt_Renegociacao                     0\n",
              "Estado_Civil                        0\n",
              "Faixa_Etaria                        0\n",
              "QT_Parcelas_Atraso                  0\n",
              "Saldo_Devedor                       0\n",
              "Total_Pago                          0\n",
              "Faixa_Dias_Atraso                   0\n",
              "Faixa_Prazo_Emprestimo              0\n",
              "Faixa_Prazo_Restante                0\n",
              "Faixa_Salarial                      0\n",
              "Possivel_Fraude                     0\n",
              "dtype: int64"
            ]
          },
          "metadata": {},
          "execution_count": 35
        }
      ]
    },
    {
      "cell_type": "markdown",
      "source": [
        "#Análise Exploratória de Variáveis Categóricas"
      ],
      "metadata": {
        "id": "y0hZ7WmpAOs5"
      }
    },
    {
      "cell_type": "code",
      "source": [
        "#Ajuste nos tamanhos dos gráficos\n",
        "plt.rcParams['figure.figsize'] = [10.00, 4.00]\n",
        "plt.rcParams['figure.autolayout'] = True"
      ],
      "metadata": {
        "id": "-bt_bmC5ANJt"
      },
      "execution_count": null,
      "outputs": []
    },
    {
      "cell_type": "code",
      "source": [
        "#Verificando que não ha discrepancias nas variáveis\n",
        "sns.countplot(data = df_dados, x='UF_Cliente', hue='Possivel_Fraude')\n",
        "plt.show()"
      ],
      "metadata": {
        "colab": {
          "base_uri": "https://localhost:8080/",
          "height": 407
        },
        "id": "tMEeQwJ7A9hi",
        "outputId": "420305f9-c08e-46e0-a367-ac21ec678e35"
      },
      "execution_count": null,
      "outputs": [
        {
          "output_type": "display_data",
          "data": {
            "text/plain": [
              "<Figure size 1000x400 with 1 Axes>"
            ],
            "image/png": "[encoded data removed]"
          },
          "metadata": {}
        }
      ]
    },
    {
      "cell_type": "code",
      "source": [
        "#Verificando que não ha discrepancias nas variáveis\n",
        "sns.countplot(data = df_dados, x='Sexo', hue='Possivel_Fraude')\n",
        "plt.show()"
      ],
      "metadata": {
        "colab": {
          "base_uri": "https://localhost:8080/",
          "height": 407
        },
        "id": "Ed_dY17BBm1H",
        "outputId": "09b994e7-2613-47a1-b255-b00fd24ef4ea"
      },
      "execution_count": null,
      "outputs": [
        {
          "output_type": "display_data",
          "data": {
            "text/plain": [
              "<Figure size 1000x400 with 1 Axes>"
            ],
            "image/png": "[encoded data removed]"
          },
          "metadata": {}
        }
      ]
    },
    {
      "cell_type": "code",
      "source": [
        "#Verificando que não ha discrepancias nas variáveis\n",
        "sns.countplot(data=df_dados, x='Faixa_Etaria', hue='Possivel_Fraude')\n",
        "plt.show()"
      ],
      "metadata": {
        "colab": {
          "base_uri": "https://localhost:8080/",
          "height": 407
        },
        "id": "dHAGd7VNB3TZ",
        "outputId": "8dc6d051-130e-4dec-842c-4dc5094a480b"
      },
      "execution_count": null,
      "outputs": [
        {
          "output_type": "display_data",
          "data": {
            "text/plain": [
              "<Figure size 1000x400 with 1 Axes>"
            ],
            "image/png": "[encoded data removed]"
          },
          "metadata": {}
        }
      ]
    },
    {
      "cell_type": "code",
      "source": [
        "#Verificando que não ha discrepancias nas variáveis\n",
        "sns.countplot(data=df_dados, x='Faixa_Salarial', hue='Possivel_Fraude')\n",
        "plt.show()"
      ],
      "metadata": {
        "colab": {
          "base_uri": "https://localhost:8080/",
          "height": 407
        },
        "id": "9J6hUdKvCAGA",
        "outputId": "25036964-a5c1-4ad7-8f7e-a13460c3d000"
      },
      "execution_count": null,
      "outputs": [
        {
          "output_type": "display_data",
          "data": {
            "text/plain": [
              "<Figure size 1000x400 with 1 Axes>"
            ],
            "image/png": "[encoded data removed]"
          },
          "metadata": {}
        }
      ]
    },
    {
      "cell_type": "code",
      "source": [
        "#Verificando que não ha discrepancias nas variáveis\n",
        "sns.countplot(data=df_dados, x='Estado_Civil', hue='Possivel_Fraude')\n",
        "plt.show()"
      ],
      "metadata": {
        "colab": {
          "base_uri": "https://localhost:8080/",
          "height": 407
        },
        "id": "J48N4cTdC48f",
        "outputId": "6d4cf27f-9a1b-4da9-9ae9-ff03df54f9a8"
      },
      "execution_count": null,
      "outputs": [
        {
          "output_type": "display_data",
          "data": {
            "text/plain": [
              "<Figure size 1000x400 with 1 Axes>"
            ],
            "image/png": "[encoded data removed]"
          },
          "metadata": {}
        }
      ]
    },
    {
      "cell_type": "code",
      "source": [
        "sns.countplot(data=df_dados, x='Faixa_Prazo_Emprestimo', hue='Possivel_Fraude')\n",
        "plt.show()"
      ],
      "metadata": {
        "colab": {
          "base_uri": "https://localhost:8080/",
          "height": 407
        },
        "id": "s63_4aliC-nW",
        "outputId": "e79b7d58-877e-4401-a8b8-63e3a8aab501"
      },
      "execution_count": null,
      "outputs": [
        {
          "output_type": "display_data",
          "data": {
            "text/plain": [
              "<Figure size 1000x400 with 1 Axes>"
            ],
            "image/png": "[encoded data removed]"
          },
          "metadata": {}
        }
      ]
    },
    {
      "cell_type": "code",
      "source": [
        "sns.countplot(data=df_dados, x='Faixa_Prazo_Restante', hue='Possivel_Fraude')\n",
        "plt.show()"
      ],
      "metadata": {
        "colab": {
          "base_uri": "https://localhost:8080/",
          "height": 407
        },
        "id": "mAyZXjEaDGEf",
        "outputId": "d0af18cc-71b6-4df5-d034-496a6efbb145"
      },
      "execution_count": null,
      "outputs": [
        {
          "output_type": "display_data",
          "data": {
            "text/plain": [
              "<Figure size 1000x400 with 1 Axes>"
            ],
            "image/png": "[encoded data removed]"
          },
          "metadata": {}
        }
      ]
    },
    {
      "cell_type": "code",
      "source": [
        "sns.countplot(data=df_dados, x='Faixa_Dias_Atraso', hue='Possivel_Fraude')\n",
        "plt.show()"
      ],
      "metadata": {
        "colab": {
          "base_uri": "https://localhost:8080/",
          "height": 407
        },
        "id": "tl8ANvU6DIma",
        "outputId": "080b0c84-c394-4ae5-a95f-95519c1a3017"
      },
      "execution_count": null,
      "outputs": [
        {
          "output_type": "display_data",
          "data": {
            "text/plain": [
              "<Figure size 1000x400 with 1 Axes>"
            ],
            "image/png": "[encoded data removed]"
          },
          "metadata": {}
        }
      ]
    },
    {
      "cell_type": "code",
      "source": [
        "df_dados.describe()"
      ],
      "metadata": {
        "colab": {
          "base_uri": "https://localhost:8080/",
          "height": 320
        },
        "id": "9-1o0m0cDoCC",
        "outputId": "fb09b984-1069-4f58-b67a-b9702fa416fa"
      },
      "execution_count": null,
      "outputs": [
        {
          "output_type": "execute_result",
          "data": {
            "text/plain": [
              "       Perc_Juros  VL_Emprestimo  VL_Emprestimo_ComJuros  \\\n",
              "count     9517.00        9517.00                 9517.00   \n",
              "mean        19.65       81881.89                94164.17   \n",
              "std          3.82       94138.06               108258.77   \n",
              "min          7.00        3500.00                 4025.00   \n",
              "25%         18.00       20000.00                23000.00   \n",
              "50%         20.00       50000.00                57500.00   \n",
              "75%         22.00      100000.00               115000.00   \n",
              "max         28.00      500000.00               575000.00   \n",
              "\n",
              "       QT_Total_Parcelas_Pagas  QT_Total_Parcelas_Pagas_EmDia  \\\n",
              "count                  9517.00                        9517.00   \n",
              "mean                      7.89                           4.11   \n",
              "std                       5.17                           4.04   \n",
              "min                       0.00                           0.00   \n",
              "25%                       2.00                           1.00   \n",
              "50%                       9.00                           2.00   \n",
              "75%                      13.00                           6.00   \n",
              "max                      35.00                          35.00   \n",
              "\n",
              "       QT_Total_Parcelas_Pagas_EmAtraso  Qt_Renegociacao  QT_Parcelas_Atraso  \\\n",
              "count                           9517.00          9517.00             9517.00   \n",
              "mean                               1.60             1.24                5.35   \n",
              "std                                2.31             1.17                5.32   \n",
              "min                                0.00             0.00                0.00   \n",
              "25%                                0.00             0.00                0.00   \n",
              "50%                                1.00             1.00                4.00   \n",
              "75%                                2.00             2.00               11.00   \n",
              "max                               14.00             9.00               15.00   \n",
              "\n",
              "       Saldo_Devedor  Total_Pago  \n",
              "count        9517.00     9517.00  \n",
              "mean        90560.27     8166.21  \n",
              "std        111050.54    16697.76  \n",
              "min             0.00        0.00  \n",
              "25%         18546.85     1202.04  \n",
              "50%         45375.30     3949.91  \n",
              "75%        119721.25     8302.01  \n",
              "max        625000.00   396385.00  "
            ],
            "text/html": [
              "\n",
              "  <div id=\"df-fe4711bb-2784-4519-83bd-08c97dace264\" class=\"colab-df-container\">\n",
              "    <div>\n",
              "<style scoped>\n",
              "    .dataframe tbody tr th:only-of-type {\n",
              "        vertical-align: middle;\n",
              "    }\n",
              "\n",
              "    .dataframe tbody tr th {\n",
              "        vertical-align: top;\n",
              "    }\n",
              "\n",
              "    .dataframe thead th {\n",
              "        text-align: right;\n",
              "    }\n",
              "</style>\n",
              "<table border=\"1\" class=\"dataframe\">\n",
              "  <thead>\n",
              "    <tr style=\"text-align: right;\">\n",
              "      <th></th>\n",
              "      <th>Perc_Juros</th>\n",
              "      <th>VL_Emprestimo</th>\n",
              "      <th>VL_Emprestimo_ComJuros</th>\n",
              "      <th>QT_Total_Parcelas_Pagas</th>\n",
              "      <th>QT_Total_Parcelas_Pagas_EmDia</th>\n",
              "      <th>QT_Total_Parcelas_Pagas_EmAtraso</th>\n",
              "      <th>Qt_Renegociacao</th>\n",
              "      <th>QT_Parcelas_Atraso</th>\n",
              "      <th>Saldo_Devedor</th>\n",
              "      <th>Total_Pago</th>\n",
              "    </tr>\n",
              "  </thead>\n",
              "  <tbody>\n",
              "    <tr>\n",
              "      <th>count</th>\n",
              "      <td>9517.00</td>\n",
              "      <td>9517.00</td>\n",
              "      <td>9517.00</td>\n",
              "      <td>9517.00</td>\n",
              "      <td>9517.00</td>\n",
              "      <td>9517.00</td>\n",
              "      <td>9517.00</td>\n",
              "      <td>9517.00</td>\n",
              "      <td>9517.00</td>\n",
              "      <td>9517.00</td>\n",
              "    </tr>\n",
              "    <tr>\n",
              "      <th>mean</th>\n",
              "      <td>19.65</td>\n",
              "      <td>81881.89</td>\n",
              "      <td>94164.17</td>\n",
              "      <td>7.89</td>\n",
              "      <td>4.11</td>\n",
              "      <td>1.60</td>\n",
              "      <td>1.24</td>\n",
              "      <td>5.35</td>\n",
              "      <td>90560.27</td>\n",
              "      <td>8166.21</td>\n",
              "    </tr>\n",
              "    <tr>\n",
              "      <th>std</th>\n",
              "      <td>3.82</td>\n",
              "      <td>94138.06</td>\n",
              "      <td>108258.77</td>\n",
              "      <td>5.17</td>\n",
              "      <td>4.04</td>\n",
              "      <td>2.31</td>\n",
              "      <td>1.17</td>\n",
              "      <td>5.32</td>\n",
              "      <td>111050.54</td>\n",
              "      <td>16697.76</td>\n",
              "    </tr>\n",
              "    <tr>\n",
              "      <th>min</th>\n",
              "      <td>7.00</td>\n",
              "      <td>3500.00</td>\n",
              "      <td>4025.00</td>\n",
              "      <td>0.00</td>\n",
              "      <td>0.00</td>\n",
              "      <td>0.00</td>\n",
              "      <td>0.00</td>\n",
              "      <td>0.00</td>\n",
              "      <td>0.00</td>\n",
              "      <td>0.00</td>\n",
              "    </tr>\n",
              "    <tr>\n",
              "      <th>25%</th>\n",
              "      <td>18.00</td>\n",
              "      <td>20000.00</td>\n",
              "      <td>23000.00</td>\n",
              "      <td>2.00</td>\n",
              "      <td>1.00</td>\n",
              "      <td>0.00</td>\n",
              "      <td>0.00</td>\n",
              "      <td>0.00</td>\n",
              "      <td>18546.85</td>\n",
              "      <td>1202.04</td>\n",
              "    </tr>\n",
              "    <tr>\n",
              "      <th>50%</th>\n",
              "      <td>20.00</td>\n",
              "      <td>50000.00</td>\n",
              "      <td>57500.00</td>\n",
              "      <td>9.00</td>\n",
              "      <td>2.00</td>\n",
              "      <td>1.00</td>\n",
              "      <td>1.00</td>\n",
              "      <td>4.00</td>\n",
              "      <td>45375.30</td>\n",
              "      <td>3949.91</td>\n",
              "    </tr>\n",
              "    <tr>\n",
              "      <th>75%</th>\n",
              "      <td>22.00</td>\n",
              "      <td>100000.00</td>\n",
              "      <td>115000.00</td>\n",
              "      <td>13.00</td>\n",
              "      <td>6.00</td>\n",
              "      <td>2.00</td>\n",
              "      <td>2.00</td>\n",
              "      <td>11.00</td>\n",
              "      <td>119721.25</td>\n",
              "      <td>8302.01</td>\n",
              "    </tr>\n",
              "    <tr>\n",
              "      <th>max</th>\n",
              "      <td>28.00</td>\n",
              "      <td>500000.00</td>\n",
              "      <td>575000.00</td>\n",
              "      <td>35.00</td>\n",
              "      <td>35.00</td>\n",
              "      <td>14.00</td>\n",
              "      <td>9.00</td>\n",
              "      <td>15.00</td>\n",
              "      <td>625000.00</td>\n",
              "      <td>396385.00</td>\n",
              "    </tr>\n",
              "  </tbody>\n",
              "</table>\n",
              "</div>\n",
              "    <div class=\"colab-df-buttons\">\n",
              "\n",
              "  <div class=\"colab-df-container\">\n",
              "    <button class=\"colab-df-convert\" onclick=\"convertToInteractive('df-fe4711bb-2784-4519-83bd-08c97dace264')\"\n",
              "            title=\"Convert this dataframe to an interactive table.\"\n",
              "            style=\"display:none;\">\n",
              "\n",
              "  <svg xmlns=\"http://www.w3.org/2000/svg\" height=\"24px\" viewBox=\"0 -960 960 960\">\n",
              "    <path d=\"M120-120v-720h720v720H120Zm60-500h600v-160H180v160Zm220 220h160v-160H400v160Zm0 220h160v-160H400v160ZM180-400h160v-160H180v160Zm440 0h160v-160H620v160ZM180-180h160v-160H180v160Zm440 0h160v-160H620v160Z\"/>\n",
              "  </svg>\n",
              "    </button>\n",
              "\n",
              "  <style>\n",
              "    .colab-df-container {\n",
              "      display:flex;\n",
              "      gap: 12px;\n",
              "    }\n",
              "\n",
              "    .colab-df-convert {\n",
              "      background-color: #E8F0FE;\n",
              "      border: none;\n",
              "      border-radius: 50%;\n",
              "      cursor: pointer;\n",
              "      display: none;\n",
              "      fill: #1967D2;\n",
              "      height: 32px;\n",
              "      padding: 0 0 0 0;\n",
              "      width: 32px;\n",
              "    }\n",
              "\n",
              "    .colab-df-convert:hover {\n",
              "      background-color: #E2EBFA;\n",
              "      box-shadow: 0px 1px 2px rgba(60, 64, 67, 0.3), 0px 1px 3px 1px rgba(60, 64, 67, 0.15);\n",
              "      fill: #174EA6;\n",
              "    }\n",
              "\n",
              "    .colab-df-buttons div {\n",
              "      margin-bottom: 4px;\n",
              "    }\n",
              "\n",
              "    [theme=dark] .colab-df-convert {\n",
              "      background-color: #3B4455;\n",
              "      fill: #D2E3FC;\n",
              "    }\n",
              "\n",
              "    [theme=dark] .colab-df-convert:hover {\n",
              "      background-color: #434B5C;\n",
              "      box-shadow: 0px 1px 3px 1px rgba(0, 0, 0, 0.15);\n",
              "      filter: drop-shadow(0px 1px 2px rgba(0, 0, 0, 0.3));\n",
              "      fill: #FFFFFF;\n",
              "    }\n",
              "  </style>\n",
              "\n",
              "    <script>\n",
              "      const buttonEl =\n",
              "        document.querySelector('#df-fe4711bb-2784-4519-83bd-08c97dace264 button.colab-df-convert');\n",
              "      buttonEl.style.display =\n",
              "        google.colab.kernel.accessAllowed ? 'block' : 'none';\n",
              "\n",
              "      async function convertToInteractive(key) {\n",
              "        const element = document.querySelector('#df-fe4711bb-2784-4519-83bd-08c97dace264');\n",
              "        const dataTable =\n",
              "          await google.colab.kernel.invokeFunction('convertToInteractive',\n",
              "                                                    [key], {});\n",
              "        if (!dataTable) return;\n",
              "\n",
              "        const docLinkHtml = 'Like what you see? Visit the ' +\n",
              "          '<a target=\"_blank\" href=https://colab.research.google.com/notebooks/data_table.ipynb>data table notebook</a>'\n",
              "          + ' to learn more about interactive tables.';\n",
              "        element.innerHTML = '';\n",
              "        dataTable['output_type'] = 'display_data';\n",
              "        await google.colab.output.renderOutput(dataTable, element);\n",
              "        const docLink = document.createElement('div');\n",
              "        docLink.innerHTML = docLinkHtml;\n",
              "        element.appendChild(docLink);\n",
              "      }\n",
              "    </script>\n",
              "  </div>\n",
              "\n",
              "\n",
              "<div id=\"df-1b426657-49cb-4563-afb4-00a9a55ffd40\">\n",
              "  <button class=\"colab-df-quickchart\" onclick=\"quickchart('df-1b426657-49cb-4563-afb4-00a9a55ffd40')\"\n",
              "            title=\"Suggest charts\"\n",
              "            style=\"display:none;\">\n",
              "\n",
              "<svg xmlns=\"http://www.w3.org/2000/svg\" height=\"24px\"viewBox=\"0 0 24 24\"\n",
              "     width=\"24px\">\n",
              "    <g>\n",
              "        <path d=\"M19 3H5c-1.1 0-2 .9-2 2v14c0 1.1.9 2 2 2h14c1.1 0 2-.9 2-2V5c0-1.1-.9-2-2-2zM9 17H7v-7h2v7zm4 0h-2V7h2v10zm4 0h-2v-4h2v4z\"/>\n",
              "    </g>\n",
              "</svg>\n",
              "  </button>\n",
              "\n",
              "<style>\n",
              "  .colab-df-quickchart {\n",
              "      --bg-color: #E8F0FE;\n",
              "      --fill-color: #1967D2;\n",
              "      --hover-bg-color: #E2EBFA;\n",
              "      --hover-fill-color: #174EA6;\n",
              "      --disabled-fill-color: #AAA;\n",
              "      --disabled-bg-color: #DDD;\n",
              "  }\n",
              "\n",
              "  [theme=dark] .colab-df-quickchart {\n",
              "      --bg-color: #3B4455;\n",
              "      --fill-color: #D2E3FC;\n",
              "      --hover-bg-color: #434B5C;\n",
              "      --hover-fill-color: #FFFFFF;\n",
              "      --disabled-bg-color: #3B4455;\n",
              "      --disabled-fill-color: #666;\n",
              "  }\n",
              "\n",
              "  .colab-df-quickchart {\n",
              "    background-color: var(--bg-color);\n",
              "    border: none;\n",
              "    border-radius: 50%;\n",
              "    cursor: pointer;\n",
              "    display: none;\n",
              "    fill: var(--fill-color);\n",
              "    height: 32px;\n",
              "    padding: 0;\n",
              "    width: 32px;\n",
              "  }\n",
              "\n",
              "  .colab-df-quickchart:hover {\n",
              "    background-color: var(--hover-bg-color);\n",
              "    box-shadow: 0 1px 2px rgba(60, 64, 67, 0.3), 0 1px 3px 1px rgba(60, 64, 67, 0.15);\n",
              "    fill: var(--button-hover-fill-color);\n",
              "  }\n",
              "\n",
              "  .colab-df-quickchart-complete:disabled,\n",
              "  .colab-df-quickchart-complete:disabled:hover {\n",
              "    background-color: var(--disabled-bg-color);\n",
              "    fill: var(--disabled-fill-color);\n",
              "    box-shadow: none;\n",
              "  }\n",
              "\n",
              "  .colab-df-spinner {\n",
              "    border: 2px solid var(--fill-color);\n",
              "    border-color: transparent;\n",
              "    border-bottom-color: var(--fill-color);\n",
              "    animation:\n",
              "      spin 1s steps(1) infinite;\n",
              "  }\n",
              "\n",
              "  @keyframes spin {\n",
              "    0% {\n",
              "      border-color: transparent;\n",
              "      border-bottom-color: var(--fill-color);\n",
              "      border-left-color: var(--fill-color);\n",
              "    }\n",
              "    20% {\n",
              "      border-color: transparent;\n",
              "      border-left-color: var(--fill-color);\n",
              "      border-top-color: var(--fill-color);\n",
              "    }\n",
              "    30% {\n",
              "      border-color: transparent;\n",
              "      border-left-color: var(--fill-color);\n",
              "      border-top-color: var(--fill-color);\n",
              "      border-right-color: var(--fill-color);\n",
              "    }\n",
              "    40% {\n",
              "      border-color: transparent;\n",
              "      border-right-color: var(--fill-color);\n",
              "      border-top-color: var(--fill-color);\n",
              "    }\n",
              "    60% {\n",
              "      border-color: transparent;\n",
              "      border-right-color: var(--fill-color);\n",
              "    }\n",
              "    80% {\n",
              "      border-color: transparent;\n",
              "      border-right-color: var(--fill-color);\n",
              "      border-bottom-color: var(--fill-color);\n",
              "    }\n",
              "    90% {\n",
              "      border-color: transparent;\n",
              "      border-bottom-color: var(--fill-color);\n",
              "    }\n",
              "  }\n",
              "</style>\n",
              "\n",
              "  <script>\n",
              "    async function quickchart(key) {\n",
              "      const quickchartButtonEl =\n",
              "        document.querySelector('#' + key + ' button');\n",
              "      quickchartButtonEl.disabled = true;  // To prevent multiple clicks.\n",
              "      quickchartButtonEl.classList.add('colab-df-spinner');\n",
              "      try {\n",
              "        const charts = await google.colab.kernel.invokeFunction(\n",
              "            'suggestCharts', [key], {});\n",
              "      } catch (error) {\n",
              "        console.error('Error during call to suggestCharts:', error);\n",
              "      }\n",
              "      quickchartButtonEl.classList.remove('colab-df-spinner');\n",
              "      quickchartButtonEl.classList.add('colab-df-quickchart-complete');\n",
              "    }\n",
              "    (() => {\n",
              "      let quickchartButtonEl =\n",
              "        document.querySelector('#df-1b426657-49cb-4563-afb4-00a9a55ffd40 button');\n",
              "      quickchartButtonEl.style.display =\n",
              "        google.colab.kernel.accessAllowed ? 'block' : 'none';\n",
              "    })();\n",
              "  </script>\n",
              "</div>\n",
              "\n",
              "    </div>\n",
              "  </div>\n"
            ],
            "application/vnd.google.colaboratory.intrinsic+json": {
              "type": "dataframe",
              "summary": "{\n  \"name\": \"df_dados\",\n  \"rows\": 8,\n  \"fields\": [\n    {\n      \"column\": \"Perc_Juros\",\n      \"properties\": {\n        \"dtype\": \"number\",\n        \"std\": 3358.793448465582,\n        \"min\": 3.8206516502179673,\n        \"max\": 9517.0,\n        \"num_unique_values\": 8,\n        \"samples\": [\n          19.645728696017656,\n          20.0,\n          9517.0\n        ],\n        \"semantic_type\": \"\",\n        \"description\": \"\"\n      }\n    },\n    {\n      \"column\": \"VL_Emprestimo\",\n      \"properties\": {\n        \"dtype\": \"number\",\n        \"std\": 163150.40458720623,\n        \"min\": 3500.0,\n        \"max\": 500000.0,\n        \"num_unique_values\": 8,\n        \"samples\": [\n          81881.88504780918,\n          50000.0,\n          9517.0\n        ],\n        \"semantic_type\": \"\",\n        \"description\": \"\"\n      }\n    },\n    {\n      \"column\": \"VL_Emprestimo_ComJuros\",\n      \"properties\": {\n        \"dtype\": \"number\",\n        \"std\": 187745.93073295892,\n        \"min\": 4025.0,\n        \"max\": 575000.0,\n        \"num_unique_values\": 8,\n        \"samples\": [\n          94164.16780498056,\n          57500.0,\n          9517.0\n        ],\n        \"semantic_type\": \"\",\n        \"description\": \"\"\n      }\n    },\n    {\n      \"column\": \"QT_Total_Parcelas_Pagas\",\n      \"properties\": {\n        \"dtype\": \"number\",\n        \"std\": 3361.145652635686,\n        \"min\": 0.0,\n        \"max\": 9517.0,\n        \"num_unique_values\": 8,\n        \"samples\": [\n          7.893138594094777,\n          9.0,\n          9517.0\n        ],\n        \"semantic_type\": \"\",\n        \"description\": \"\"\n      }\n    },\n    {\n      \"column\": \"QT_Total_Parcelas_Pagas_EmDia\",\n      \"properties\": {\n        \"dtype\": \"number\",\n        \"std\": 3362.15307026939,\n        \"min\": 0.0,\n        \"max\": 9517.0,\n        \"num_unique_values\": 8,\n        \"samples\": [\n          4.108122307449826,\n          2.0,\n          9517.0\n        ],\n        \"semantic_type\": \"\",\n        \"description\": \"\"\n      }\n    },\n    {\n      \"column\": \"QT_Total_Parcelas_Pagas_EmAtraso\",\n      \"properties\": {\n        \"dtype\": \"number\",\n        \"std\": 3363.7145998591745,\n        \"min\": 0.0,\n        \"max\": 9517.0,\n        \"num_unique_values\": 7,\n        \"samples\": [\n          9517.0,\n          1.5972470316276137,\n          2.0\n        ],\n        \"semantic_type\": \"\",\n        \"description\": \"\"\n      }\n    },\n    {\n      \"column\": \"Qt_Renegociacao\",\n      \"properties\": {\n        \"dtype\": \"number\",\n        \"std\": 3364.041178879714,\n        \"min\": 0.0,\n        \"max\": 9517.0,\n        \"num_unique_values\": 7,\n        \"samples\": [\n          9517.0,\n          1.2420930965640433,\n          2.0\n        ],\n        \"semantic_type\": \"\",\n        \"description\": \"\"\n      }\n    },\n    {\n      \"column\": \"QT_Parcelas_Atraso\",\n      \"properties\": {\n        \"dtype\": \"number\",\n        \"std\": 3362.717155965598,\n        \"min\": 0.0,\n        \"max\": 9517.0,\n        \"num_unique_values\": 7,\n        \"samples\": [\n          9517.0,\n          5.3537879583902495,\n          11.0\n        ],\n        \"semantic_type\": \"\",\n        \"description\": \"\"\n      }\n    },\n    {\n      \"column\": \"Saldo_Devedor\",\n      \"properties\": {\n        \"dtype\": \"number\",\n        \"std\": 206326.15457997256,\n        \"min\": 0.0,\n        \"max\": 625000.0,\n        \"num_unique_values\": 8,\n        \"samples\": [\n          90560.26786592415,\n          45375.3,\n          9517.0\n        ],\n        \"semantic_type\": \"\",\n        \"description\": \"\"\n      }\n    },\n    {\n      \"column\": \"Total_Pago\",\n      \"properties\": {\n        \"dtype\": \"number\",\n        \"std\": 137828.41085453343,\n        \"min\": 0.0,\n        \"max\": 396385.0,\n        \"num_unique_values\": 8,\n        \"samples\": [\n          8166.206714300724,\n          3949.91,\n          9517.0\n        ],\n        \"semantic_type\": \"\",\n        \"description\": \"\"\n      }\n    }\n  ]\n}"
            }
          },
          "metadata": {},
          "execution_count": 45
        }
      ]
    },
    {
      "cell_type": "code",
      "source": [
        "valores_unicos = []\n",
        "for i in df_dados.columns[0:19].tolist():\n",
        "  print(i, ':', len(df_dados[i].astype(str).value_counts()))\n",
        "  valores_unicos.append(len(df_dados[i].astype(str).value_counts()))"
      ],
      "metadata": {
        "colab": {
          "base_uri": "https://localhost:8080/"
        },
        "id": "VTvB7EWsDyJ2",
        "outputId": "cedd8785-ec00-46fd-8da6-a6f566d0dc4a"
      },
      "execution_count": null,
      "outputs": [
        {
          "output_type": "stream",
          "name": "stdout",
          "text": [
            "Sexo : 2\n",
            "UF_Cliente : 27\n",
            "Perc_Juros : 21\n",
            "VL_Emprestimo : 61\n",
            "VL_Emprestimo_ComJuros : 61\n",
            "QT_Total_Parcelas_Pagas : 24\n",
            "QT_Total_Parcelas_Pagas_EmDia : 24\n",
            "QT_Total_Parcelas_Pagas_EmAtraso : 15\n",
            "Qt_Renegociacao : 10\n",
            "Estado_Civil : 5\n",
            "Faixa_Etaria : 6\n",
            "QT_Parcelas_Atraso : 16\n",
            "Saldo_Devedor : 7654\n",
            "Total_Pago : 7022\n",
            "Faixa_Dias_Atraso : 7\n",
            "Faixa_Prazo_Emprestimo : 4\n",
            "Faixa_Prazo_Restante : 4\n",
            "Faixa_Salarial : 8\n",
            "Possivel_Fraude : 2\n"
          ]
        }
      ]
    },
    {
      "cell_type": "markdown",
      "source": [
        "#Análise Exploratória Variáveis Numéricas\n"
      ],
      "metadata": {
        "id": "2_InNjYLETOS"
      }
    },
    {
      "cell_type": "code",
      "source": [
        "#carregar variáveis numéricas\n",
        "variaveis_numericas = []\n",
        "for i in df_dados.columns[0:19].tolist():\n",
        "  if df_dados.dtypes[i] == 'int64' or df_dados.dtypes[i] == 'float64':\n",
        "    variaveis_numericas.append(i)"
      ],
      "metadata": {
        "id": "J1001ehrEajj"
      },
      "execution_count": null,
      "outputs": []
    },
    {
      "cell_type": "code",
      "source": [
        "variaveis_numericas"
      ],
      "metadata": {
        "colab": {
          "base_uri": "https://localhost:8080/"
        },
        "id": "NoL49aNkE4rL",
        "outputId": "edaadd10-acb4-4d79-9c9f-c460c5f54a0c"
      },
      "execution_count": null,
      "outputs": [
        {
          "output_type": "execute_result",
          "data": {
            "text/plain": [
              "['Perc_Juros',\n",
              " 'VL_Emprestimo',\n",
              " 'VL_Emprestimo_ComJuros',\n",
              " 'QT_Total_Parcelas_Pagas',\n",
              " 'QT_Total_Parcelas_Pagas_EmDia',\n",
              " 'QT_Total_Parcelas_Pagas_EmAtraso',\n",
              " 'Qt_Renegociacao',\n",
              " 'QT_Parcelas_Atraso',\n",
              " 'Saldo_Devedor',\n",
              " 'Total_Pago']"
            ]
          },
          "metadata": {},
          "execution_count": 48
        }
      ]
    },
    {
      "cell_type": "code",
      "source": [
        "len(variaveis_numericas)"
      ],
      "metadata": {
        "colab": {
          "base_uri": "https://localhost:8080/"
        },
        "id": "axgCTBzZFFFF",
        "outputId": "8f5cde9c-120a-4f46-8743-bbdf081ed101"
      },
      "execution_count": null,
      "outputs": [
        {
          "output_type": "execute_result",
          "data": {
            "text/plain": [
              "10"
            ]
          },
          "metadata": {},
          "execution_count": 49
        }
      ]
    },
    {
      "cell_type": "code",
      "source": [
        "#Automatizando visualização de possíveis outliers\n",
        "plt.rcParams['figure.figsize'] = [14.00, 64.00]\n",
        "plt.rcParams['figure.autolayout'] = True\n",
        "f, axes = plt.subplots(10, 2) #10 linhas, 2 colunas\n",
        "\n",
        "linha = 0\n",
        "coluna = 0\n",
        "for i in variaveis_numericas:\n",
        "  sns.boxplot(data=df_dados, y=i, ax=axes[linha][coluna])\n",
        "  coluna +=1\n",
        "  if coluna ==2:\n",
        "    linha +=1\n",
        "    coluna = 0\n",
        "  plt.show()"
      ],
      "metadata": {
        "colab": {
          "base_uri": "https://localhost:8080/",
          "height": 1000
        },
        "id": "uJbgvfmLFnu1",
        "outputId": "855c3f1f-d5d8-4b52-e20f-19e91a518452"
      },
      "execution_count": null,
      "outputs": [
        {
          "output_type": "display_data",
          "data": {
            "text/plain": [
              "<Figure size 1400x6400 with 20 Axes>"
            ],
            "image/png": "[encoded data removed]"
          },
          "metadata": {}
        }
      ]
    },
    {
      "cell_type": "code",
      "source": [
        "#Criando lista das variáveis categóricas\n",
        "variaveis_categoricas = []\n",
        "for i in df_dados.columns[0:18].tolist():\n",
        "  if df_dados.dtypes[i] == 'object' or df_dados.dtypes[i] == 'category':\n",
        "    variaveis_categoricas.append(i)"
      ],
      "metadata": {
        "id": "bcXaLgKBIQod"
      },
      "execution_count": null,
      "outputs": []
    },
    {
      "cell_type": "code",
      "source": [
        "variaveis_categoricas"
      ],
      "metadata": {
        "colab": {
          "base_uri": "https://localhost:8080/"
        },
        "id": "te4xAg29Ipgv",
        "outputId": "da1078a5-e60c-4a44-9fbd-e7798bbb1f5e"
      },
      "execution_count": null,
      "outputs": [
        {
          "output_type": "execute_result",
          "data": {
            "text/plain": [
              "['Sexo',\n",
              " 'UF_Cliente',\n",
              " 'Estado_Civil',\n",
              " 'Faixa_Etaria',\n",
              " 'Faixa_Dias_Atraso',\n",
              " 'Faixa_Prazo_Emprestimo',\n",
              " 'Faixa_Prazo_Restante',\n",
              " 'Faixa_Salarial']"
            ]
          },
          "metadata": {},
          "execution_count": 52
        }
      ]
    },
    {
      "cell_type": "code",
      "source": [
        "#Aplicando One Hot Encoder\n",
        "lb = LabelEncoder()\n",
        "\n",
        "for var in variaveis_categoricas:\n",
        "  df_dados[var] = lb.fit_transform(df_dados[var])"
      ],
      "metadata": {
        "id": "C407vBcbIpej"
      },
      "execution_count": null,
      "outputs": []
    },
    {
      "cell_type": "code",
      "source": [
        "df_dados.isnull().sum()"
      ],
      "metadata": {
        "colab": {
          "base_uri": "https://localhost:8080/"
        },
        "id": "i6Z_El1TJKVL",
        "outputId": "8c07653b-04dc-4e8c-9088-087c6cb88a52"
      },
      "execution_count": null,
      "outputs": [
        {
          "output_type": "execute_result",
          "data": {
            "text/plain": [
              "Sexo                                0\n",
              "UF_Cliente                          0\n",
              "Perc_Juros                          0\n",
              "VL_Emprestimo                       0\n",
              "VL_Emprestimo_ComJuros              0\n",
              "QT_Total_Parcelas_Pagas             0\n",
              "QT_Total_Parcelas_Pagas_EmDia       0\n",
              "QT_Total_Parcelas_Pagas_EmAtraso    0\n",
              "Qt_Renegociacao                     0\n",
              "Estado_Civil                        0\n",
              "Faixa_Etaria                        0\n",
              "QT_Parcelas_Atraso                  0\n",
              "Saldo_Devedor                       0\n",
              "Total_Pago                          0\n",
              "Faixa_Dias_Atraso                   0\n",
              "Faixa_Prazo_Emprestimo              0\n",
              "Faixa_Prazo_Restante                0\n",
              "Faixa_Salarial                      0\n",
              "Possivel_Fraude                     0\n",
              "dtype: int64"
            ]
          },
          "metadata": {},
          "execution_count": 54
        }
      ]
    },
    {
      "cell_type": "code",
      "source": [
        "df_dados.head()"
      ],
      "metadata": {
        "colab": {
          "base_uri": "https://localhost:8080/",
          "height": 226
        },
        "id": "2N-wexIBJQHh",
        "outputId": "e6c31db2-0d25-4ff9-c94a-82406c42d954"
      },
      "execution_count": null,
      "outputs": [
        {
          "output_type": "execute_result",
          "data": {
            "text/plain": [
              "   Sexo  UF_Cliente  Perc_Juros  VL_Emprestimo  VL_Emprestimo_ComJuros  \\\n",
              "0     1          25       23.00       80000.00                92000.00   \n",
              "1     1          10       20.00       50000.00                57500.00   \n",
              "2     1           4       18.00      100000.00               115000.00   \n",
              "3     1          10       20.00       30000.00                34500.00   \n",
              "4     1          10       20.00       60000.00                69000.00   \n",
              "\n",
              "   QT_Total_Parcelas_Pagas  QT_Total_Parcelas_Pagas_EmDia  \\\n",
              "0                       15                              9   \n",
              "1                       10                             10   \n",
              "2                       15                              5   \n",
              "3                        1                              1   \n",
              "4                       16                             16   \n",
              "\n",
              "   QT_Total_Parcelas_Pagas_EmAtraso  Qt_Renegociacao  Estado_Civil  \\\n",
              "0                                 1                0             1   \n",
              "1                                 0                0             3   \n",
              "2                                 1                0             0   \n",
              "3                                 0                0             3   \n",
              "4                                 0                0             0   \n",
              "\n",
              "   Faixa_Etaria  QT_Parcelas_Atraso  Saldo_Devedor  Total_Pago  \\\n",
              "0             4                   0       91759.97     7717.08   \n",
              "1             2                   4       53981.18     6756.59   \n",
              "2             3                   0      101150.02    17929.06   \n",
              "3             1                  13       36208.10      369.10   \n",
              "4             5                   0       60984.00    11845.24   \n",
              "\n",
              "   Faixa_Dias_Atraso  Faixa_Prazo_Emprestimo  Faixa_Prazo_Restante  \\\n",
              "0                  3                       2                     2   \n",
              "1                  6                       3                     3   \n",
              "2                  3                       3                     3   \n",
              "3                  0                       3                     3   \n",
              "4                  3                       3                     3   \n",
              "\n",
              "   Faixa_Salarial Possivel_Fraude  \n",
              "0               7             Nao  \n",
              "1               3             Nao  \n",
              "2               6             Nao  \n",
              "3               3             Sim  \n",
              "4               5             Nao  "
            ],
            "text/html": [
              "\n",
              "  <div id=\"df-29bf8b51-6114-44af-b7b5-b0753770c7d0\" class=\"colab-df-container\">\n",
              "    <div>\n",
              "<style scoped>\n",
              "    .dataframe tbody tr th:only-of-type {\n",
              "        vertical-align: middle;\n",
              "    }\n",
              "\n",
              "    .dataframe tbody tr th {\n",
              "        vertical-align: top;\n",
              "    }\n",
              "\n",
              "    .dataframe thead th {\n",
              "        text-align: right;\n",
              "    }\n",
              "</style>\n",
              "<table border=\"1\" class=\"dataframe\">\n",
              "  <thead>\n",
              "    <tr style=\"text-align: right;\">\n",
              "      <th></th>\n",
              "      <th>Sexo</th>\n",
              "      <th>UF_Cliente</th>\n",
              "      <th>Perc_Juros</th>\n",
              "      <th>VL_Emprestimo</th>\n",
              "      <th>VL_Emprestimo_ComJuros</th>\n",
              "      <th>QT_Total_Parcelas_Pagas</th>\n",
              "      <th>QT_Total_Parcelas_Pagas_EmDia</th>\n",
              "      <th>QT_Total_Parcelas_Pagas_EmAtraso</th>\n",
              "      <th>Qt_Renegociacao</th>\n",
              "      <th>Estado_Civil</th>\n",
              "      <th>Faixa_Etaria</th>\n",
              "      <th>QT_Parcelas_Atraso</th>\n",
              "      <th>Saldo_Devedor</th>\n",
              "      <th>Total_Pago</th>\n",
              "      <th>Faixa_Dias_Atraso</th>\n",
              "      <th>Faixa_Prazo_Emprestimo</th>\n",
              "      <th>Faixa_Prazo_Restante</th>\n",
              "      <th>Faixa_Salarial</th>\n",
              "      <th>Possivel_Fraude</th>\n",
              "    </tr>\n",
              "  </thead>\n",
              "  <tbody>\n",
              "    <tr>\n",
              "      <th>0</th>\n",
              "      <td>1</td>\n",
              "      <td>25</td>\n",
              "      <td>23.00</td>\n",
              "      <td>80000.00</td>\n",
              "      <td>92000.00</td>\n",
              "      <td>15</td>\n",
              "      <td>9</td>\n",
              "      <td>1</td>\n",
              "      <td>0</td>\n",
              "      <td>1</td>\n",
              "      <td>4</td>\n",
              "      <td>0</td>\n",
              "      <td>91759.97</td>\n",
              "      <td>7717.08</td>\n",
              "      <td>3</td>\n",
              "      <td>2</td>\n",
              "      <td>2</td>\n",
              "      <td>7</td>\n",
              "      <td>Nao</td>\n",
              "    </tr>\n",
              "    <tr>\n",
              "      <th>1</th>\n",
              "      <td>1</td>\n",
              "      <td>10</td>\n",
              "      <td>20.00</td>\n",
              "      <td>50000.00</td>\n",
              "      <td>57500.00</td>\n",
              "      <td>10</td>\n",
              "      <td>10</td>\n",
              "      <td>0</td>\n",
              "      <td>0</td>\n",
              "      <td>3</td>\n",
              "      <td>2</td>\n",
              "      <td>4</td>\n",
              "      <td>53981.18</td>\n",
              "      <td>6756.59</td>\n",
              "      <td>6</td>\n",
              "      <td>3</td>\n",
              "      <td>3</td>\n",
              "      <td>3</td>\n",
              "      <td>Nao</td>\n",
              "    </tr>\n",
              "    <tr>\n",
              "      <th>2</th>\n",
              "      <td>1</td>\n",
              "      <td>4</td>\n",
              "      <td>18.00</td>\n",
              "      <td>100000.00</td>\n",
              "      <td>115000.00</td>\n",
              "      <td>15</td>\n",
              "      <td>5</td>\n",
              "      <td>1</td>\n",
              "      <td>0</td>\n",
              "      <td>0</td>\n",
              "      <td>3</td>\n",
              "      <td>0</td>\n",
              "      <td>101150.02</td>\n",
              "      <td>17929.06</td>\n",
              "      <td>3</td>\n",
              "      <td>3</td>\n",
              "      <td>3</td>\n",
              "      <td>6</td>\n",
              "      <td>Nao</td>\n",
              "    </tr>\n",
              "    <tr>\n",
              "      <th>3</th>\n",
              "      <td>1</td>\n",
              "      <td>10</td>\n",
              "      <td>20.00</td>\n",
              "      <td>30000.00</td>\n",
              "      <td>34500.00</td>\n",
              "      <td>1</td>\n",
              "      <td>1</td>\n",
              "      <td>0</td>\n",
              "      <td>0</td>\n",
              "      <td>3</td>\n",
              "      <td>1</td>\n",
              "      <td>13</td>\n",
              "      <td>36208.10</td>\n",
              "      <td>369.10</td>\n",
              "      <td>0</td>\n",
              "      <td>3</td>\n",
              "      <td>3</td>\n",
              "      <td>3</td>\n",
              "      <td>Sim</td>\n",
              "    </tr>\n",
              "    <tr>\n",
              "      <th>4</th>\n",
              "      <td>1</td>\n",
              "      <td>10</td>\n",
              "      <td>20.00</td>\n",
              "      <td>60000.00</td>\n",
              "      <td>69000.00</td>\n",
              "      <td>16</td>\n",
              "      <td>16</td>\n",
              "      <td>0</td>\n",
              "      <td>0</td>\n",
              "      <td>0</td>\n",
              "      <td>5</td>\n",
              "      <td>0</td>\n",
              "      <td>60984.00</td>\n",
              "      <td>11845.24</td>\n",
              "      <td>3</td>\n",
              "      <td>3</td>\n",
              "      <td>3</td>\n",
              "      <td>5</td>\n",
              "      <td>Nao</td>\n",
              "    </tr>\n",
              "  </tbody>\n",
              "</table>\n",
              "</div>\n",
              "    <div class=\"colab-df-buttons\">\n",
              "\n",
              "  <div class=\"colab-df-container\">\n",
              "    <button class=\"colab-df-convert\" onclick=\"convertToInteractive('df-29bf8b51-6114-44af-b7b5-b0753770c7d0')\"\n",
              "            title=\"Convert this dataframe to an interactive table.\"\n",
              "            style=\"display:none;\">\n",
              "\n",
              "  <svg xmlns=\"http://www.w3.org/2000/svg\" height=\"24px\" viewBox=\"0 -960 960 960\">\n",
              "    <path d=\"M120-120v-720h720v720H120Zm60-500h600v-160H180v160Zm220 220h160v-160H400v160Zm0 220h160v-160H400v160ZM180-400h160v-160H180v160Zm440 0h160v-160H620v160ZM180-180h160v-160H180v160Zm440 0h160v-160H620v160Z\"/>\n",
              "  </svg>\n",
              "    </button>\n",
              "\n",
              "  <style>\n",
              "    .colab-df-container {\n",
              "      display:flex;\n",
              "      gap: 12px;\n",
              "    }\n",
              "\n",
              "    .colab-df-convert {\n",
              "      background-color: #E8F0FE;\n",
              "      border: none;\n",
              "      border-radius: 50%;\n",
              "      cursor: pointer;\n",
              "      display: none;\n",
              "      fill: #1967D2;\n",
              "      height: 32px;\n",
              "      padding: 0 0 0 0;\n",
              "      width: 32px;\n",
              "    }\n",
              "\n",
              "    .colab-df-convert:hover {\n",
              "      background-color: #E2EBFA;\n",
              "      box-shadow: 0px 1px 2px rgba(60, 64, 67, 0.3), 0px 1px 3px 1px rgba(60, 64, 67, 0.15);\n",
              "      fill: #174EA6;\n",
              "    }\n",
              "\n",
              "    .colab-df-buttons div {\n",
              "      margin-bottom: 4px;\n",
              "    }\n",
              "\n",
              "    [theme=dark] .colab-df-convert {\n",
              "      background-color: #3B4455;\n",
              "      fill: #D2E3FC;\n",
              "    }\n",
              "\n",
              "    [theme=dark] .colab-df-convert:hover {\n",
              "      background-color: #434B5C;\n",
              "      box-shadow: 0px 1px 3px 1px rgba(0, 0, 0, 0.15);\n",
              "      filter: drop-shadow(0px 1px 2px rgba(0, 0, 0, 0.3));\n",
              "      fill: #FFFFFF;\n",
              "    }\n",
              "  </style>\n",
              "\n",
              "    <script>\n",
              "      const buttonEl =\n",
              "        document.querySelector('#df-29bf8b51-6114-44af-b7b5-b0753770c7d0 button.colab-df-convert');\n",
              "      buttonEl.style.display =\n",
              "        google.colab.kernel.accessAllowed ? 'block' : 'none';\n",
              "\n",
              "      async function convertToInteractive(key) {\n",
              "        const element = document.querySelector('#df-29bf8b51-6114-44af-b7b5-b0753770c7d0');\n",
              "        const dataTable =\n",
              "          await google.colab.kernel.invokeFunction('convertToInteractive',\n",
              "                                                    [key], {});\n",
              "        if (!dataTable) return;\n",
              "\n",
              "        const docLinkHtml = 'Like what you see? Visit the ' +\n",
              "          '<a target=\"_blank\" href=https://colab.research.google.com/notebooks/data_table.ipynb>data table notebook</a>'\n",
              "          + ' to learn more about interactive tables.';\n",
              "        element.innerHTML = '';\n",
              "        dataTable['output_type'] = 'display_data';\n",
              "        await google.colab.output.renderOutput(dataTable, element);\n",
              "        const docLink = document.createElement('div');\n",
              "        docLink.innerHTML = docLinkHtml;\n",
              "        element.appendChild(docLink);\n",
              "      }\n",
              "    </script>\n",
              "  </div>\n",
              "\n",
              "\n",
              "<div id=\"df-3269edbd-52f6-4512-bcbb-f4b70cd0aa95\">\n",
              "  <button class=\"colab-df-quickchart\" onclick=\"quickchart('df-3269edbd-52f6-4512-bcbb-f4b70cd0aa95')\"\n",
              "            title=\"Suggest charts\"\n",
              "            style=\"display:none;\">\n",
              "\n",
              "<svg xmlns=\"http://www.w3.org/2000/svg\" height=\"24px\"viewBox=\"0 0 24 24\"\n",
              "     width=\"24px\">\n",
              "    <g>\n",
              "        <path d=\"M19 3H5c-1.1 0-2 .9-2 2v14c0 1.1.9 2 2 2h14c1.1 0 2-.9 2-2V5c0-1.1-.9-2-2-2zM9 17H7v-7h2v7zm4 0h-2V7h2v10zm4 0h-2v-4h2v4z\"/>\n",
              "    </g>\n",
              "</svg>\n",
              "  </button>\n",
              "\n",
              "<style>\n",
              "  .colab-df-quickchart {\n",
              "      --bg-color: #E8F0FE;\n",
              "      --fill-color: #1967D2;\n",
              "      --hover-bg-color: #E2EBFA;\n",
              "      --hover-fill-color: #174EA6;\n",
              "      --disabled-fill-color: #AAA;\n",
              "      --disabled-bg-color: #DDD;\n",
              "  }\n",
              "\n",
              "  [theme=dark] .colab-df-quickchart {\n",
              "      --bg-color: #3B4455;\n",
              "      --fill-color: #D2E3FC;\n",
              "      --hover-bg-color: #434B5C;\n",
              "      --hover-fill-color: #FFFFFF;\n",
              "      --disabled-bg-color: #3B4455;\n",
              "      --disabled-fill-color: #666;\n",
              "  }\n",
              "\n",
              "  .colab-df-quickchart {\n",
              "    background-color: var(--bg-color);\n",
              "    border: none;\n",
              "    border-radius: 50%;\n",
              "    cursor: pointer;\n",
              "    display: none;\n",
              "    fill: var(--fill-color);\n",
              "    height: 32px;\n",
              "    padding: 0;\n",
              "    width: 32px;\n",
              "  }\n",
              "\n",
              "  .colab-df-quickchart:hover {\n",
              "    background-color: var(--hover-bg-color);\n",
              "    box-shadow: 0 1px 2px rgba(60, 64, 67, 0.3), 0 1px 3px 1px rgba(60, 64, 67, 0.15);\n",
              "    fill: var(--button-hover-fill-color);\n",
              "  }\n",
              "\n",
              "  .colab-df-quickchart-complete:disabled,\n",
              "  .colab-df-quickchart-complete:disabled:hover {\n",
              "    background-color: var(--disabled-bg-color);\n",
              "    fill: var(--disabled-fill-color);\n",
              "    box-shadow: none;\n",
              "  }\n",
              "\n",
              "  .colab-df-spinner {\n",
              "    border: 2px solid var(--fill-color);\n",
              "    border-color: transparent;\n",
              "    border-bottom-color: var(--fill-color);\n",
              "    animation:\n",
              "      spin 1s steps(1) infinite;\n",
              "  }\n",
              "\n",
              "  @keyframes spin {\n",
              "    0% {\n",
              "      border-color: transparent;\n",
              "      border-bottom-color: var(--fill-color);\n",
              "      border-left-color: var(--fill-color);\n",
              "    }\n",
              "    20% {\n",
              "      border-color: transparent;\n",
              "      border-left-color: var(--fill-color);\n",
              "      border-top-color: var(--fill-color);\n",
              "    }\n",
              "    30% {\n",
              "      border-color: transparent;\n",
              "      border-left-color: var(--fill-color);\n",
              "      border-top-color: var(--fill-color);\n",
              "      border-right-color: var(--fill-color);\n",
              "    }\n",
              "    40% {\n",
              "      border-color: transparent;\n",
              "      border-right-color: var(--fill-color);\n",
              "      border-top-color: var(--fill-color);\n",
              "    }\n",
              "    60% {\n",
              "      border-color: transparent;\n",
              "      border-right-color: var(--fill-color);\n",
              "    }\n",
              "    80% {\n",
              "      border-color: transparent;\n",
              "      border-right-color: var(--fill-color);\n",
              "      border-bottom-color: var(--fill-color);\n",
              "    }\n",
              "    90% {\n",
              "      border-color: transparent;\n",
              "      border-bottom-color: var(--fill-color);\n",
              "    }\n",
              "  }\n",
              "</style>\n",
              "\n",
              "  <script>\n",
              "    async function quickchart(key) {\n",
              "      const quickchartButtonEl =\n",
              "        document.querySelector('#' + key + ' button');\n",
              "      quickchartButtonEl.disabled = true;  // To prevent multiple clicks.\n",
              "      quickchartButtonEl.classList.add('colab-df-spinner');\n",
              "      try {\n",
              "        const charts = await google.colab.kernel.invokeFunction(\n",
              "            'suggestCharts', [key], {});\n",
              "      } catch (error) {\n",
              "        console.error('Error during call to suggestCharts:', error);\n",
              "      }\n",
              "      quickchartButtonEl.classList.remove('colab-df-spinner');\n",
              "      quickchartButtonEl.classList.add('colab-df-quickchart-complete');\n",
              "    }\n",
              "    (() => {\n",
              "      let quickchartButtonEl =\n",
              "        document.querySelector('#df-3269edbd-52f6-4512-bcbb-f4b70cd0aa95 button');\n",
              "      quickchartButtonEl.style.display =\n",
              "        google.colab.kernel.accessAllowed ? 'block' : 'none';\n",
              "    })();\n",
              "  </script>\n",
              "</div>\n",
              "\n",
              "    </div>\n",
              "  </div>\n"
            ],
            "application/vnd.google.colaboratory.intrinsic+json": {
              "type": "dataframe",
              "variable_name": "df_dados",
              "summary": "{\n  \"name\": \"df_dados\",\n  \"rows\": 9517,\n  \"fields\": [\n    {\n      \"column\": \"Sexo\",\n      \"properties\": {\n        \"dtype\": \"number\",\n        \"std\": 0,\n        \"min\": 0,\n        \"max\": 1,\n        \"num_unique_values\": 2,\n        \"samples\": [\n          0,\n          1\n        ],\n        \"semantic_type\": \"\",\n        \"description\": \"\"\n      }\n    },\n    {\n      \"column\": \"UF_Cliente\",\n      \"properties\": {\n        \"dtype\": \"number\",\n        \"std\": 7,\n        \"min\": 0,\n        \"max\": 26,\n        \"num_unique_values\": 27,\n        \"samples\": [\n          14,\n          16\n        ],\n        \"semantic_type\": \"\",\n        \"description\": \"\"\n      }\n    },\n    {\n      \"column\": \"Perc_Juros\",\n      \"properties\": {\n        \"dtype\": \"number\",\n        \"std\": 3.8206516502179673,\n        \"min\": 7.0,\n        \"max\": 28.0,\n        \"num_unique_values\": 21,\n        \"samples\": [\n          23.0,\n          16.8\n        ],\n        \"semantic_type\": \"\",\n        \"description\": \"\"\n      }\n    },\n    {\n      \"column\": \"VL_Emprestimo\",\n      \"properties\": {\n        \"dtype\": \"number\",\n        \"std\": 94138.05962725624,\n        \"min\": 3500.0,\n        \"max\": 500000.0,\n        \"num_unique_values\": 61,\n        \"samples\": [\n          80000.0,\n          16000.0\n        ],\n        \"semantic_type\": \"\",\n        \"description\": \"\"\n      }\n    },\n    {\n      \"column\": \"VL_Emprestimo_ComJuros\",\n      \"properties\": {\n        \"dtype\": \"number\",\n        \"std\": 108258.76857134468,\n        \"min\": 4025.0,\n        \"max\": 575000.0,\n        \"num_unique_values\": 61,\n        \"samples\": [\n          92000.0,\n          18400.0\n        ],\n        \"semantic_type\": \"\",\n        \"description\": \"\"\n      }\n    },\n    {\n      \"column\": \"QT_Total_Parcelas_Pagas\",\n      \"properties\": {\n        \"dtype\": \"number\",\n        \"std\": 5,\n        \"min\": 0,\n        \"max\": 35,\n        \"num_unique_values\": 24,\n        \"samples\": [\n          2,\n          0\n        ],\n        \"semantic_type\": \"\",\n        \"description\": \"\"\n      }\n    },\n    {\n      \"column\": \"QT_Total_Parcelas_Pagas_EmDia\",\n      \"properties\": {\n        \"dtype\": \"number\",\n        \"std\": 4,\n        \"min\": 0,\n        \"max\": 35,\n        \"num_unique_values\": 24,\n        \"samples\": [\n          15,\n          11\n        ],\n        \"semantic_type\": \"\",\n        \"description\": \"\"\n      }\n    },\n    {\n      \"column\": \"QT_Total_Parcelas_Pagas_EmAtraso\",\n      \"properties\": {\n        \"dtype\": \"number\",\n        \"std\": 2,\n        \"min\": 0,\n        \"max\": 14,\n        \"num_unique_values\": 15,\n        \"samples\": [\n          9,\n          12\n        ],\n        \"semantic_type\": \"\",\n        \"description\": \"\"\n      }\n    },\n    {\n      \"column\": \"Qt_Renegociacao\",\n      \"properties\": {\n        \"dtype\": \"number\",\n        \"std\": 1,\n        \"min\": 0,\n        \"max\": 9,\n        \"num_unique_values\": 10,\n        \"samples\": [\n          9,\n          1\n        ],\n        \"semantic_type\": \"\",\n        \"description\": \"\"\n      }\n    },\n    {\n      \"column\": \"Estado_Civil\",\n      \"properties\": {\n        \"dtype\": \"number\",\n        \"std\": 1,\n        \"min\": 0,\n        \"max\": 4,\n        \"num_unique_values\": 5,\n        \"samples\": [\n          3,\n          2\n        ],\n        \"semantic_type\": \"\",\n        \"description\": \"\"\n      }\n    },\n    {\n      \"column\": \"Faixa_Etaria\",\n      \"properties\": {\n        \"dtype\": \"number\",\n        \"std\": 1,\n        \"min\": 0,\n        \"max\": 5,\n        \"num_unique_values\": 6,\n        \"samples\": [\n          4,\n          2\n        ],\n        \"semantic_type\": \"\",\n        \"description\": \"\"\n      }\n    },\n    {\n      \"column\": \"QT_Parcelas_Atraso\",\n      \"properties\": {\n        \"dtype\": \"number\",\n        \"std\": 5,\n        \"min\": 0,\n        \"max\": 15,\n        \"num_unique_values\": 16,\n        \"samples\": [\n          0,\n          4\n        ],\n        \"semantic_type\": \"\",\n        \"description\": \"\"\n      }\n    },\n    {\n      \"column\": \"Saldo_Devedor\",\n      \"properties\": {\n        \"dtype\": \"number\",\n        \"std\": 111050.54123204997,\n        \"min\": 0.0,\n        \"max\": 625000.0,\n        \"num_unique_values\": 7654,\n        \"samples\": [\n          34985.12,\n          23802.39\n        ],\n        \"semantic_type\": \"\",\n        \"description\": \"\"\n      }\n    },\n    {\n      \"column\": \"Total_Pago\",\n      \"properties\": {\n        \"dtype\": \"number\",\n        \"std\": 16697.758870301903,\n        \"min\": 0.0,\n        \"max\": 396385.0,\n        \"num_unique_values\": 7022,\n        \"samples\": [\n          5017.04,\n          218887.38\n        ],\n        \"semantic_type\": \"\",\n        \"description\": \"\"\n      }\n    },\n    {\n      \"column\": \"Faixa_Dias_Atraso\",\n      \"properties\": {\n        \"dtype\": \"number\",\n        \"std\": 1,\n        \"min\": 0,\n        \"max\": 6,\n        \"num_unique_values\": 7,\n        \"samples\": [\n          3,\n          6\n        ],\n        \"semantic_type\": \"\",\n        \"description\": \"\"\n      }\n    },\n    {\n      \"column\": \"Faixa_Prazo_Emprestimo\",\n      \"properties\": {\n        \"dtype\": \"number\",\n        \"std\": 0,\n        \"min\": 0,\n        \"max\": 3,\n        \"num_unique_values\": 4,\n        \"samples\": [\n          3,\n          0\n        ],\n        \"semantic_type\": \"\",\n        \"description\": \"\"\n      }\n    },\n    {\n      \"column\": \"Faixa_Prazo_Restante\",\n      \"properties\": {\n        \"dtype\": \"number\",\n        \"std\": 0,\n        \"min\": 0,\n        \"max\": 3,\n        \"num_unique_values\": 4,\n        \"samples\": [\n          3,\n          0\n        ],\n        \"semantic_type\": \"\",\n        \"description\": \"\"\n      }\n    },\n    {\n      \"column\": \"Faixa_Salarial\",\n      \"properties\": {\n        \"dtype\": \"number\",\n        \"std\": 1,\n        \"min\": 0,\n        \"max\": 7,\n        \"num_unique_values\": 8,\n        \"samples\": [\n          3,\n          4\n        ],\n        \"semantic_type\": \"\",\n        \"description\": \"\"\n      }\n    },\n    {\n      \"column\": \"Possivel_Fraude\",\n      \"properties\": {\n        \"dtype\": \"category\",\n        \"num_unique_values\": 2,\n        \"samples\": [\n          \"Sim\",\n          \"Nao\"\n        ],\n        \"semantic_type\": \"\",\n        \"description\": \"\"\n      }\n    }\n  ]\n}"
            }
          },
          "metadata": {},
          "execution_count": 55
        }
      ]
    },
    {
      "cell_type": "code",
      "source": [
        "df_dados.info()"
      ],
      "metadata": {
        "colab": {
          "base_uri": "https://localhost:8080/"
        },
        "id": "zBr4yHveKpa8",
        "outputId": "fd8a0fd6-5bc7-47cd-b0bb-06f4dffed412"
      },
      "execution_count": null,
      "outputs": [
        {
          "output_type": "stream",
          "name": "stdout",
          "text": [
            "<class 'pandas.core.frame.DataFrame'>\n",
            "RangeIndex: 9517 entries, 0 to 9516\n",
            "Data columns (total 19 columns):\n",
            " #   Column                            Non-Null Count  Dtype  \n",
            "---  ------                            --------------  -----  \n",
            " 0   Sexo                              9517 non-null   int64  \n",
            " 1   UF_Cliente                        9517 non-null   int64  \n",
            " 2   Perc_Juros                        9517 non-null   float64\n",
            " 3   VL_Emprestimo                     9517 non-null   float64\n",
            " 4   VL_Emprestimo_ComJuros            9517 non-null   float64\n",
            " 5   QT_Total_Parcelas_Pagas           9517 non-null   int64  \n",
            " 6   QT_Total_Parcelas_Pagas_EmDia     9517 non-null   int64  \n",
            " 7   QT_Total_Parcelas_Pagas_EmAtraso  9517 non-null   int64  \n",
            " 8   Qt_Renegociacao                   9517 non-null   int64  \n",
            " 9   Estado_Civil                      9517 non-null   int64  \n",
            " 10  Faixa_Etaria                      9517 non-null   int64  \n",
            " 11  QT_Parcelas_Atraso                9517 non-null   int64  \n",
            " 12  Saldo_Devedor                     9517 non-null   float64\n",
            " 13  Total_Pago                        9517 non-null   float64\n",
            " 14  Faixa_Dias_Atraso                 9517 non-null   int64  \n",
            " 15  Faixa_Prazo_Emprestimo            9517 non-null   int64  \n",
            " 16  Faixa_Prazo_Restante              9517 non-null   int64  \n",
            " 17  Faixa_Salarial                    9517 non-null   int64  \n",
            " 18  Possivel_Fraude                   9517 non-null   object \n",
            "dtypes: float64(5), int64(13), object(1)\n",
            "memory usage: 1.4+ MB\n"
          ]
        }
      ]
    },
    {
      "cell_type": "code",
      "source": [
        "#Visualizando a quantidade da variável target\n",
        "variavel_target = df_dados.Possivel_Fraude.value_counts()\n",
        "variavel_target"
      ],
      "metadata": {
        "colab": {
          "base_uri": "https://localhost:8080/"
        },
        "id": "R6xrUURKu5d5",
        "outputId": "98295872-f688-4c30-cebe-c675733bf1be"
      },
      "execution_count": null,
      "outputs": [
        {
          "output_type": "execute_result",
          "data": {
            "text/plain": [
              "Possivel_Fraude\n",
              "Nao    5035\n",
              "Sim    4482\n",
              "Name: count, dtype: int64"
            ]
          },
          "metadata": {},
          "execution_count": 57
        }
      ]
    },
    {
      "cell_type": "code",
      "source": [
        "#Separando preditoras e target\n",
        "preditoras = df_dados.iloc[:,0:18]\n",
        "target = df_dados.iloc[:,18]"
      ],
      "metadata": {
        "id": "OOciPNiFvM9F"
      },
      "execution_count": null,
      "outputs": []
    },
    {
      "cell_type": "code",
      "source": [
        "preditoras.head()"
      ],
      "metadata": {
        "colab": {
          "base_uri": "https://localhost:8080/",
          "height": 226
        },
        "id": "KeVhJ9RCvtd5",
        "outputId": "713b251d-665c-4b1e-88da-7c451b75a0e8"
      },
      "execution_count": null,
      "outputs": [
        {
          "output_type": "execute_result",
          "data": {
            "text/plain": [
              "   Sexo  UF_Cliente  Perc_Juros  VL_Emprestimo  VL_Emprestimo_ComJuros  \\\n",
              "0     1          25       23.00       80000.00                92000.00   \n",
              "1     1          10       20.00       50000.00                57500.00   \n",
              "2     1           4       18.00      100000.00               115000.00   \n",
              "3     1          10       20.00       30000.00                34500.00   \n",
              "4     1          10       20.00       60000.00                69000.00   \n",
              "\n",
              "   QT_Total_Parcelas_Pagas  QT_Total_Parcelas_Pagas_EmDia  \\\n",
              "0                       15                              9   \n",
              "1                       10                             10   \n",
              "2                       15                              5   \n",
              "3                        1                              1   \n",
              "4                       16                             16   \n",
              "\n",
              "   QT_Total_Parcelas_Pagas_EmAtraso  Qt_Renegociacao  Estado_Civil  \\\n",
              "0                                 1                0             1   \n",
              "1                                 0                0             3   \n",
              "2                                 1                0             0   \n",
              "3                                 0                0             3   \n",
              "4                                 0                0             0   \n",
              "\n",
              "   Faixa_Etaria  QT_Parcelas_Atraso  Saldo_Devedor  Total_Pago  \\\n",
              "0             4                   0       91759.97     7717.08   \n",
              "1             2                   4       53981.18     6756.59   \n",
              "2             3                   0      101150.02    17929.06   \n",
              "3             1                  13       36208.10      369.10   \n",
              "4             5                   0       60984.00    11845.24   \n",
              "\n",
              "   Faixa_Dias_Atraso  Faixa_Prazo_Emprestimo  Faixa_Prazo_Restante  \\\n",
              "0                  3                       2                     2   \n",
              "1                  6                       3                     3   \n",
              "2                  3                       3                     3   \n",
              "3                  0                       3                     3   \n",
              "4                  3                       3                     3   \n",
              "\n",
              "   Faixa_Salarial  \n",
              "0               7  \n",
              "1               3  \n",
              "2               6  \n",
              "3               3  \n",
              "4               5  "
            ],
            "text/html": [
              "\n",
              "  <div id=\"df-503691ff-9647-482b-b062-6f04a2fea893\" class=\"colab-df-container\">\n",
              "    <div>\n",
              "<style scoped>\n",
              "    .dataframe tbody tr th:only-of-type {\n",
              "        vertical-align: middle;\n",
              "    }\n",
              "\n",
              "    .dataframe tbody tr th {\n",
              "        vertical-align: top;\n",
              "    }\n",
              "\n",
              "    .dataframe thead th {\n",
              "        text-align: right;\n",
              "    }\n",
              "</style>\n",
              "<table border=\"1\" class=\"dataframe\">\n",
              "  <thead>\n",
              "    <tr style=\"text-align: right;\">\n",
              "      <th></th>\n",
              "      <th>Sexo</th>\n",
              "      <th>UF_Cliente</th>\n",
              "      <th>Perc_Juros</th>\n",
              "      <th>VL_Emprestimo</th>\n",
              "      <th>VL_Emprestimo_ComJuros</th>\n",
              "      <th>QT_Total_Parcelas_Pagas</th>\n",
              "      <th>QT_Total_Parcelas_Pagas_EmDia</th>\n",
              "      <th>QT_Total_Parcelas_Pagas_EmAtraso</th>\n",
              "      <th>Qt_Renegociacao</th>\n",
              "      <th>Estado_Civil</th>\n",
              "      <th>Faixa_Etaria</th>\n",
              "      <th>QT_Parcelas_Atraso</th>\n",
              "      <th>Saldo_Devedor</th>\n",
              "      <th>Total_Pago</th>\n",
              "      <th>Faixa_Dias_Atraso</th>\n",
              "      <th>Faixa_Prazo_Emprestimo</th>\n",
              "      <th>Faixa_Prazo_Restante</th>\n",
              "      <th>Faixa_Salarial</th>\n",
              "    </tr>\n",
              "  </thead>\n",
              "  <tbody>\n",
              "    <tr>\n",
              "      <th>0</th>\n",
              "      <td>1</td>\n",
              "      <td>25</td>\n",
              "      <td>23.00</td>\n",
              "      <td>80000.00</td>\n",
              "      <td>92000.00</td>\n",
              "      <td>15</td>\n",
              "      <td>9</td>\n",
              "      <td>1</td>\n",
              "      <td>0</td>\n",
              "      <td>1</td>\n",
              "      <td>4</td>\n",
              "      <td>0</td>\n",
              "      <td>91759.97</td>\n",
              "      <td>7717.08</td>\n",
              "      <td>3</td>\n",
              "      <td>2</td>\n",
              "      <td>2</td>\n",
              "      <td>7</td>\n",
              "    </tr>\n",
              "    <tr>\n",
              "      <th>1</th>\n",
              "      <td>1</td>\n",
              "      <td>10</td>\n",
              "      <td>20.00</td>\n",
              "      <td>50000.00</td>\n",
              "      <td>57500.00</td>\n",
              "      <td>10</td>\n",
              "      <td>10</td>\n",
              "      <td>0</td>\n",
              "      <td>0</td>\n",
              "      <td>3</td>\n",
              "      <td>2</td>\n",
              "      <td>4</td>\n",
              "      <td>53981.18</td>\n",
              "      <td>6756.59</td>\n",
              "      <td>6</td>\n",
              "      <td>3</td>\n",
              "      <td>3</td>\n",
              "      <td>3</td>\n",
              "    </tr>\n",
              "    <tr>\n",
              "      <th>2</th>\n",
              "      <td>1</td>\n",
              "      <td>4</td>\n",
              "      <td>18.00</td>\n",
              "      <td>100000.00</td>\n",
              "      <td>115000.00</td>\n",
              "      <td>15</td>\n",
              "      <td>5</td>\n",
              "      <td>1</td>\n",
              "      <td>0</td>\n",
              "      <td>0</td>\n",
              "      <td>3</td>\n",
              "      <td>0</td>\n",
              "      <td>101150.02</td>\n",
              "      <td>17929.06</td>\n",
              "      <td>3</td>\n",
              "      <td>3</td>\n",
              "      <td>3</td>\n",
              "      <td>6</td>\n",
              "    </tr>\n",
              "    <tr>\n",
              "      <th>3</th>\n",
              "      <td>1</td>\n",
              "      <td>10</td>\n",
              "      <td>20.00</td>\n",
              "      <td>30000.00</td>\n",
              "      <td>34500.00</td>\n",
              "      <td>1</td>\n",
              "      <td>1</td>\n",
              "      <td>0</td>\n",
              "      <td>0</td>\n",
              "      <td>3</td>\n",
              "      <td>1</td>\n",
              "      <td>13</td>\n",
              "      <td>36208.10</td>\n",
              "      <td>369.10</td>\n",
              "      <td>0</td>\n",
              "      <td>3</td>\n",
              "      <td>3</td>\n",
              "      <td>3</td>\n",
              "    </tr>\n",
              "    <tr>\n",
              "      <th>4</th>\n",
              "      <td>1</td>\n",
              "      <td>10</td>\n",
              "      <td>20.00</td>\n",
              "      <td>60000.00</td>\n",
              "      <td>69000.00</td>\n",
              "      <td>16</td>\n",
              "      <td>16</td>\n",
              "      <td>0</td>\n",
              "      <td>0</td>\n",
              "      <td>0</td>\n",
              "      <td>5</td>\n",
              "      <td>0</td>\n",
              "      <td>60984.00</td>\n",
              "      <td>11845.24</td>\n",
              "      <td>3</td>\n",
              "      <td>3</td>\n",
              "      <td>3</td>\n",
              "      <td>5</td>\n",
              "    </tr>\n",
              "  </tbody>\n",
              "</table>\n",
              "</div>\n",
              "    <div class=\"colab-df-buttons\">\n",
              "\n",
              "  <div class=\"colab-df-container\">\n",
              "    <button class=\"colab-df-convert\" onclick=\"convertToInteractive('df-503691ff-9647-482b-b062-6f04a2fea893')\"\n",
              "            title=\"Convert this dataframe to an interactive table.\"\n",
              "            style=\"display:none;\">\n",
              "\n",
              "  <svg xmlns=\"http://www.w3.org/2000/svg\" height=\"24px\" viewBox=\"0 -960 960 960\">\n",
              "    <path d=\"M120-120v-720h720v720H120Zm60-500h600v-160H180v160Zm220 220h160v-160H400v160Zm0 220h160v-160H400v160ZM180-400h160v-160H180v160Zm440 0h160v-160H620v160ZM180-180h160v-160H180v160Zm440 0h160v-160H620v160Z\"/>\n",
              "  </svg>\n",
              "    </button>\n",
              "\n",
              "  <style>\n",
              "    .colab-df-container {\n",
              "      display:flex;\n",
              "      gap: 12px;\n",
              "    }\n",
              "\n",
              "    .colab-df-convert {\n",
              "      background-color: #E8F0FE;\n",
              "      border: none;\n",
              "      border-radius: 50%;\n",
              "      cursor: pointer;\n",
              "      display: none;\n",
              "      fill: #1967D2;\n",
              "      height: 32px;\n",
              "      padding: 0 0 0 0;\n",
              "      width: 32px;\n",
              "    }\n",
              "\n",
              "    .colab-df-convert:hover {\n",
              "      background-color: #E2EBFA;\n",
              "      box-shadow: 0px 1px 2px rgba(60, 64, 67, 0.3), 0px 1px 3px 1px rgba(60, 64, 67, 0.15);\n",
              "      fill: #174EA6;\n",
              "    }\n",
              "\n",
              "    .colab-df-buttons div {\n",
              "      margin-bottom: 4px;\n",
              "    }\n",
              "\n",
              "    [theme=dark] .colab-df-convert {\n",
              "      background-color: #3B4455;\n",
              "      fill: #D2E3FC;\n",
              "    }\n",
              "\n",
              "    [theme=dark] .colab-df-convert:hover {\n",
              "      background-color: #434B5C;\n",
              "      box-shadow: 0px 1px 3px 1px rgba(0, 0, 0, 0.15);\n",
              "      filter: drop-shadow(0px 1px 2px rgba(0, 0, 0, 0.3));\n",
              "      fill: #FFFFFF;\n",
              "    }\n",
              "  </style>\n",
              "\n",
              "    <script>\n",
              "      const buttonEl =\n",
              "        document.querySelector('#df-503691ff-9647-482b-b062-6f04a2fea893 button.colab-df-convert');\n",
              "      buttonEl.style.display =\n",
              "        google.colab.kernel.accessAllowed ? 'block' : 'none';\n",
              "\n",
              "      async function convertToInteractive(key) {\n",
              "        const element = document.querySelector('#df-503691ff-9647-482b-b062-6f04a2fea893');\n",
              "        const dataTable =\n",
              "          await google.colab.kernel.invokeFunction('convertToInteractive',\n",
              "                                                    [key], {});\n",
              "        if (!dataTable) return;\n",
              "\n",
              "        const docLinkHtml = 'Like what you see? Visit the ' +\n",
              "          '<a target=\"_blank\" href=https://colab.research.google.com/notebooks/data_table.ipynb>data table notebook</a>'\n",
              "          + ' to learn more about interactive tables.';\n",
              "        element.innerHTML = '';\n",
              "        dataTable['output_type'] = 'display_data';\n",
              "        await google.colab.output.renderOutput(dataTable, element);\n",
              "        const docLink = document.createElement('div');\n",
              "        docLink.innerHTML = docLinkHtml;\n",
              "        element.appendChild(docLink);\n",
              "      }\n",
              "    </script>\n",
              "  </div>\n",
              "\n",
              "\n",
              "<div id=\"df-f5b9a45a-e6fa-4128-8581-b79209370eb8\">\n",
              "  <button class=\"colab-df-quickchart\" onclick=\"quickchart('df-f5b9a45a-e6fa-4128-8581-b79209370eb8')\"\n",
              "            title=\"Suggest charts\"\n",
              "            style=\"display:none;\">\n",
              "\n",
              "<svg xmlns=\"http://www.w3.org/2000/svg\" height=\"24px\"viewBox=\"0 0 24 24\"\n",
              "     width=\"24px\">\n",
              "    <g>\n",
              "        <path d=\"M19 3H5c-1.1 0-2 .9-2 2v14c0 1.1.9 2 2 2h14c1.1 0 2-.9 2-2V5c0-1.1-.9-2-2-2zM9 17H7v-7h2v7zm4 0h-2V7h2v10zm4 0h-2v-4h2v4z\"/>\n",
              "    </g>\n",
              "</svg>\n",
              "  </button>\n",
              "\n",
              "<style>\n",
              "  .colab-df-quickchart {\n",
              "      --bg-color: #E8F0FE;\n",
              "      --fill-color: #1967D2;\n",
              "      --hover-bg-color: #E2EBFA;\n",
              "      --hover-fill-color: #174EA6;\n",
              "      --disabled-fill-color: #AAA;\n",
              "      --disabled-bg-color: #DDD;\n",
              "  }\n",
              "\n",
              "  [theme=dark] .colab-df-quickchart {\n",
              "      --bg-color: #3B4455;\n",
              "      --fill-color: #D2E3FC;\n",
              "      --hover-bg-color: #434B5C;\n",
              "      --hover-fill-color: #FFFFFF;\n",
              "      --disabled-bg-color: #3B4455;\n",
              "      --disabled-fill-color: #666;\n",
              "  }\n",
              "\n",
              "  .colab-df-quickchart {\n",
              "    background-color: var(--bg-color);\n",
              "    border: none;\n",
              "    border-radius: 50%;\n",
              "    cursor: pointer;\n",
              "    display: none;\n",
              "    fill: var(--fill-color);\n",
              "    height: 32px;\n",
              "    padding: 0;\n",
              "    width: 32px;\n",
              "  }\n",
              "\n",
              "  .colab-df-quickchart:hover {\n",
              "    background-color: var(--hover-bg-color);\n",
              "    box-shadow: 0 1px 2px rgba(60, 64, 67, 0.3), 0 1px 3px 1px rgba(60, 64, 67, 0.15);\n",
              "    fill: var(--button-hover-fill-color);\n",
              "  }\n",
              "\n",
              "  .colab-df-quickchart-complete:disabled,\n",
              "  .colab-df-quickchart-complete:disabled:hover {\n",
              "    background-color: var(--disabled-bg-color);\n",
              "    fill: var(--disabled-fill-color);\n",
              "    box-shadow: none;\n",
              "  }\n",
              "\n",
              "  .colab-df-spinner {\n",
              "    border: 2px solid var(--fill-color);\n",
              "    border-color: transparent;\n",
              "    border-bottom-color: var(--fill-color);\n",
              "    animation:\n",
              "      spin 1s steps(1) infinite;\n",
              "  }\n",
              "\n",
              "  @keyframes spin {\n",
              "    0% {\n",
              "      border-color: transparent;\n",
              "      border-bottom-color: var(--fill-color);\n",
              "      border-left-color: var(--fill-color);\n",
              "    }\n",
              "    20% {\n",
              "      border-color: transparent;\n",
              "      border-left-color: var(--fill-color);\n",
              "      border-top-color: var(--fill-color);\n",
              "    }\n",
              "    30% {\n",
              "      border-color: transparent;\n",
              "      border-left-color: var(--fill-color);\n",
              "      border-top-color: var(--fill-color);\n",
              "      border-right-color: var(--fill-color);\n",
              "    }\n",
              "    40% {\n",
              "      border-color: transparent;\n",
              "      border-right-color: var(--fill-color);\n",
              "      border-top-color: var(--fill-color);\n",
              "    }\n",
              "    60% {\n",
              "      border-color: transparent;\n",
              "      border-right-color: var(--fill-color);\n",
              "    }\n",
              "    80% {\n",
              "      border-color: transparent;\n",
              "      border-right-color: var(--fill-color);\n",
              "      border-bottom-color: var(--fill-color);\n",
              "    }\n",
              "    90% {\n",
              "      border-color: transparent;\n",
              "      border-bottom-color: var(--fill-color);\n",
              "    }\n",
              "  }\n",
              "</style>\n",
              "\n",
              "  <script>\n",
              "    async function quickchart(key) {\n",
              "      const quickchartButtonEl =\n",
              "        document.querySelector('#' + key + ' button');\n",
              "      quickchartButtonEl.disabled = true;  // To prevent multiple clicks.\n",
              "      quickchartButtonEl.classList.add('colab-df-spinner');\n",
              "      try {\n",
              "        const charts = await google.colab.kernel.invokeFunction(\n",
              "            'suggestCharts', [key], {});\n",
              "      } catch (error) {\n",
              "        console.error('Error during call to suggestCharts:', error);\n",
              "      }\n",
              "      quickchartButtonEl.classList.remove('colab-df-spinner');\n",
              "      quickchartButtonEl.classList.add('colab-df-quickchart-complete');\n",
              "    }\n",
              "    (() => {\n",
              "      let quickchartButtonEl =\n",
              "        document.querySelector('#df-f5b9a45a-e6fa-4128-8581-b79209370eb8 button');\n",
              "      quickchartButtonEl.style.display =\n",
              "        google.colab.kernel.accessAllowed ? 'block' : 'none';\n",
              "    })();\n",
              "  </script>\n",
              "</div>\n",
              "\n",
              "    </div>\n",
              "  </div>\n"
            ],
            "application/vnd.google.colaboratory.intrinsic+json": {
              "type": "dataframe",
              "variable_name": "preditoras",
              "summary": "{\n  \"name\": \"preditoras\",\n  \"rows\": 9517,\n  \"fields\": [\n    {\n      \"column\": \"Sexo\",\n      \"properties\": {\n        \"dtype\": \"number\",\n        \"std\": 0,\n        \"min\": 0,\n        \"max\": 1,\n        \"num_unique_values\": 2,\n        \"samples\": [\n          0,\n          1\n        ],\n        \"semantic_type\": \"\",\n        \"description\": \"\"\n      }\n    },\n    {\n      \"column\": \"UF_Cliente\",\n      \"properties\": {\n        \"dtype\": \"number\",\n        \"std\": 7,\n        \"min\": 0,\n        \"max\": 26,\n        \"num_unique_values\": 27,\n        \"samples\": [\n          14,\n          16\n        ],\n        \"semantic_type\": \"\",\n        \"description\": \"\"\n      }\n    },\n    {\n      \"column\": \"Perc_Juros\",\n      \"properties\": {\n        \"dtype\": \"number\",\n        \"std\": 3.8206516502179673,\n        \"min\": 7.0,\n        \"max\": 28.0,\n        \"num_unique_values\": 21,\n        \"samples\": [\n          23.0,\n          16.8\n        ],\n        \"semantic_type\": \"\",\n        \"description\": \"\"\n      }\n    },\n    {\n      \"column\": \"VL_Emprestimo\",\n      \"properties\": {\n        \"dtype\": \"number\",\n        \"std\": 94138.05962725624,\n        \"min\": 3500.0,\n        \"max\": 500000.0,\n        \"num_unique_values\": 61,\n        \"samples\": [\n          80000.0,\n          16000.0\n        ],\n        \"semantic_type\": \"\",\n        \"description\": \"\"\n      }\n    },\n    {\n      \"column\": \"VL_Emprestimo_ComJuros\",\n      \"properties\": {\n        \"dtype\": \"number\",\n        \"std\": 108258.76857134468,\n        \"min\": 4025.0,\n        \"max\": 575000.0,\n        \"num_unique_values\": 61,\n        \"samples\": [\n          92000.0,\n          18400.0\n        ],\n        \"semantic_type\": \"\",\n        \"description\": \"\"\n      }\n    },\n    {\n      \"column\": \"QT_Total_Parcelas_Pagas\",\n      \"properties\": {\n        \"dtype\": \"number\",\n        \"std\": 5,\n        \"min\": 0,\n        \"max\": 35,\n        \"num_unique_values\": 24,\n        \"samples\": [\n          2,\n          0\n        ],\n        \"semantic_type\": \"\",\n        \"description\": \"\"\n      }\n    },\n    {\n      \"column\": \"QT_Total_Parcelas_Pagas_EmDia\",\n      \"properties\": {\n        \"dtype\": \"number\",\n        \"std\": 4,\n        \"min\": 0,\n        \"max\": 35,\n        \"num_unique_values\": 24,\n        \"samples\": [\n          15,\n          11\n        ],\n        \"semantic_type\": \"\",\n        \"description\": \"\"\n      }\n    },\n    {\n      \"column\": \"QT_Total_Parcelas_Pagas_EmAtraso\",\n      \"properties\": {\n        \"dtype\": \"number\",\n        \"std\": 2,\n        \"min\": 0,\n        \"max\": 14,\n        \"num_unique_values\": 15,\n        \"samples\": [\n          9,\n          12\n        ],\n        \"semantic_type\": \"\",\n        \"description\": \"\"\n      }\n    },\n    {\n      \"column\": \"Qt_Renegociacao\",\n      \"properties\": {\n        \"dtype\": \"number\",\n        \"std\": 1,\n        \"min\": 0,\n        \"max\": 9,\n        \"num_unique_values\": 10,\n        \"samples\": [\n          9,\n          1\n        ],\n        \"semantic_type\": \"\",\n        \"description\": \"\"\n      }\n    },\n    {\n      \"column\": \"Estado_Civil\",\n      \"properties\": {\n        \"dtype\": \"number\",\n        \"std\": 1,\n        \"min\": 0,\n        \"max\": 4,\n        \"num_unique_values\": 5,\n        \"samples\": [\n          3,\n          2\n        ],\n        \"semantic_type\": \"\",\n        \"description\": \"\"\n      }\n    },\n    {\n      \"column\": \"Faixa_Etaria\",\n      \"properties\": {\n        \"dtype\": \"number\",\n        \"std\": 1,\n        \"min\": 0,\n        \"max\": 5,\n        \"num_unique_values\": 6,\n        \"samples\": [\n          4,\n          2\n        ],\n        \"semantic_type\": \"\",\n        \"description\": \"\"\n      }\n    },\n    {\n      \"column\": \"QT_Parcelas_Atraso\",\n      \"properties\": {\n        \"dtype\": \"number\",\n        \"std\": 5,\n        \"min\": 0,\n        \"max\": 15,\n        \"num_unique_values\": 16,\n        \"samples\": [\n          0,\n          4\n        ],\n        \"semantic_type\": \"\",\n        \"description\": \"\"\n      }\n    },\n    {\n      \"column\": \"Saldo_Devedor\",\n      \"properties\": {\n        \"dtype\": \"number\",\n        \"std\": 111050.54123204997,\n        \"min\": 0.0,\n        \"max\": 625000.0,\n        \"num_unique_values\": 7654,\n        \"samples\": [\n          34985.12,\n          23802.39\n        ],\n        \"semantic_type\": \"\",\n        \"description\": \"\"\n      }\n    },\n    {\n      \"column\": \"Total_Pago\",\n      \"properties\": {\n        \"dtype\": \"number\",\n        \"std\": 16697.758870301903,\n        \"min\": 0.0,\n        \"max\": 396385.0,\n        \"num_unique_values\": 7022,\n        \"samples\": [\n          5017.04,\n          218887.38\n        ],\n        \"semantic_type\": \"\",\n        \"description\": \"\"\n      }\n    },\n    {\n      \"column\": \"Faixa_Dias_Atraso\",\n      \"properties\": {\n        \"dtype\": \"number\",\n        \"std\": 1,\n        \"min\": 0,\n        \"max\": 6,\n        \"num_unique_values\": 7,\n        \"samples\": [\n          3,\n          6\n        ],\n        \"semantic_type\": \"\",\n        \"description\": \"\"\n      }\n    },\n    {\n      \"column\": \"Faixa_Prazo_Emprestimo\",\n      \"properties\": {\n        \"dtype\": \"number\",\n        \"std\": 0,\n        \"min\": 0,\n        \"max\": 3,\n        \"num_unique_values\": 4,\n        \"samples\": [\n          3,\n          0\n        ],\n        \"semantic_type\": \"\",\n        \"description\": \"\"\n      }\n    },\n    {\n      \"column\": \"Faixa_Prazo_Restante\",\n      \"properties\": {\n        \"dtype\": \"number\",\n        \"std\": 0,\n        \"min\": 0,\n        \"max\": 3,\n        \"num_unique_values\": 4,\n        \"samples\": [\n          3,\n          0\n        ],\n        \"semantic_type\": \"\",\n        \"description\": \"\"\n      }\n    },\n    {\n      \"column\": \"Faixa_Salarial\",\n      \"properties\": {\n        \"dtype\": \"number\",\n        \"std\": 1,\n        \"min\": 0,\n        \"max\": 7,\n        \"num_unique_values\": 8,\n        \"samples\": [\n          3,\n          4\n        ],\n        \"semantic_type\": \"\",\n        \"description\": \"\"\n      }\n    }\n  ]\n}"
            }
          },
          "metadata": {},
          "execution_count": 59
        }
      ]
    },
    {
      "cell_type": "code",
      "source": [
        "target.head()"
      ],
      "metadata": {
        "colab": {
          "base_uri": "https://localhost:8080/"
        },
        "id": "950uXnNSvyy2",
        "outputId": "65392cdb-d8ef-47f4-ffc5-9a893a0a64c9"
      },
      "execution_count": null,
      "outputs": [
        {
          "output_type": "execute_result",
          "data": {
            "text/plain": [
              "0    Nao\n",
              "1    Nao\n",
              "2    Nao\n",
              "3    Sim\n",
              "4    Nao\n",
              "Name: Possivel_Fraude, dtype: object"
            ]
          },
          "metadata": {},
          "execution_count": 60
        }
      ]
    },
    {
      "cell_type": "code",
      "source": [
        "#Seed para reproduzir o mesmo resultado\n",
        "seed = 100\n",
        "\n",
        "\n",
        "#Balanceamento SMOTE\n",
        "balanceador = SMOTE(random_state = seed)\n",
        "\n",
        "#Aplicando balanceador\n",
        "preditoras_res, target_res = balanceador.fit_resample(preditoras,target)"
      ],
      "metadata": {
        "id": "QiNAaoiVv2mI"
      },
      "execution_count": null,
      "outputs": []
    },
    {
      "cell_type": "code",
      "source": [
        "#Visualizando o balanceamento\n",
        "plt.rcParams['figure.figsize'] = [12.00, 5.00]\n",
        "plt.rcParams['figure.autolayout'] = True\n",
        "target_res.value_counts().plot(kind='bar',title=\"Possiveis Fraudes x Não Fraudes\", color=['#1F77B4', '#FF7F0E'], rot=0);\n",
        "plt.show()"
      ],
      "metadata": {
        "colab": {
          "base_uri": "https://localhost:8080/",
          "height": 429
        },
        "id": "F5PVoOamwtOZ",
        "outputId": "cfc993f9-c2a9-4bf2-9308-56b7a1748800"
      },
      "execution_count": null,
      "outputs": [
        {
          "output_type": "display_data",
          "data": {
            "text/plain": [
              "<Figure size 1200x500 with 1 Axes>"
            ],
            "image/png": "[encoded data removed]"
          },
          "metadata": {}
        }
      ]
    },
    {
      "cell_type": "code",
      "source": [
        "#Dividindo a base em treino e teste\n",
        "X_train, X_test, y_train, y_test = train_test_split(preditoras_res, target_res, test_size= 0.2, random_state=42)"
      ],
      "metadata": {
        "id": "ly2Rzfffxf2u"
      },
      "execution_count": null,
      "outputs": []
    },
    {
      "cell_type": "markdown",
      "source": [
        "####Não normalizar nem padronizar variável preditora"
      ],
      "metadata": {
        "id": "ILY8x5Ccz2q_"
      }
    },
    {
      "cell_type": "code",
      "source": [
        "#Normalização as variáveis\n",
        "normalize = MinMaxScaler()\n",
        "X_train_norm = normalize.fit_transform(X_train)\n",
        "X_test_norm = normalize.fit_transform(X_test)"
      ],
      "metadata": {
        "id": "jAhVV-A9x9gH"
      },
      "execution_count": null,
      "outputs": []
    },
    {
      "cell_type": "code",
      "source": [
        "#Padronização das variáveis\n",
        "scaler = StandardScaler()\n",
        "X_train_std = scaler.fit_transform(X_train)\n",
        "X_test_std = scaler.fit_transform(X_test)"
      ],
      "metadata": {
        "id": "GOi-cTLlyi6h"
      },
      "execution_count": null,
      "outputs": []
    },
    {
      "cell_type": "code",
      "source": [
        "X_train_norm"
      ],
      "metadata": {
        "colab": {
          "base_uri": "https://localhost:8080/"
        },
        "id": "uQ7NC4Esz-pJ",
        "outputId": "52214411-44b0-4546-a732-b82de524fadc"
      },
      "execution_count": null,
      "outputs": [
        {
          "output_type": "execute_result",
          "data": {
            "text/plain": [
              "array([[0.        , 0.38461538, 0.61904762, ..., 1.        , 1.        ,\n",
              "        0.42857143],\n",
              "       [1.        , 0.96153846, 0.47619048, ..., 0.66666667, 0.66666667,\n",
              "        0.71428571],\n",
              "       [1.        , 0.38461538, 0.52380952, ..., 1.        , 1.        ,\n",
              "        1.        ],\n",
              "       ...,\n",
              "       [1.        , 0.96153846, 0.71428571, ..., 0.66666667, 0.66666667,\n",
              "        0.85714286],\n",
              "       [1.        , 0.88461538, 0.57142857, ..., 0.66666667, 0.66666667,\n",
              "        1.        ],\n",
              "       [1.        , 0.96153846, 0.85714286, ..., 1.        , 1.        ,\n",
              "        0.42857143]])"
            ]
          },
          "metadata": {},
          "execution_count": 66
        }
      ]
    },
    {
      "cell_type": "markdown",
      "source": [
        "#Criando e treinando os modelos"
      ],
      "metadata": {
        "id": "WbzZou6h1W9u"
      }
    },
    {
      "cell_type": "markdown",
      "source": [
        "##Random Forest"
      ],
      "metadata": {
        "id": "vC38T18m1eAL"
      }
    },
    {
      "cell_type": "code",
      "source": [
        "randomForest = RandomForestClassifier()\n"
      ],
      "metadata": {
        "id": "55tFttVm1WPg"
      },
      "execution_count": null,
      "outputs": []
    },
    {
      "cell_type": "code",
      "source": [
        "randomForest.get_params()"
      ],
      "metadata": {
        "colab": {
          "base_uri": "https://localhost:8080/"
        },
        "id": "mTUe46ll1qva",
        "outputId": "8963d66b-b6f2-4710-e3bb-69c7e4890e5c"
      },
      "execution_count": null,
      "outputs": [
        {
          "output_type": "execute_result",
          "data": {
            "text/plain": [
              "{'bootstrap': True,\n",
              " 'ccp_alpha': 0.0,\n",
              " 'class_weight': None,\n",
              " 'criterion': 'gini',\n",
              " 'max_depth': None,\n",
              " 'max_features': 'sqrt',\n",
              " 'max_leaf_nodes': None,\n",
              " 'max_samples': None,\n",
              " 'min_impurity_decrease': 0.0,\n",
              " 'min_samples_leaf': 1,\n",
              " 'min_samples_split': 2,\n",
              " 'min_weight_fraction_leaf': 0.0,\n",
              " 'n_estimators': 100,\n",
              " 'n_jobs': None,\n",
              " 'oob_score': False,\n",
              " 'random_state': None,\n",
              " 'verbose': 0,\n",
              " 'warm_start': False}"
            ]
          },
          "metadata": {},
          "execution_count": 68
        }
      ]
    },
    {
      "cell_type": "code",
      "source": [
        "#Valores Hiperparametros\n",
        "n_estimators = np.array([100,200,300])\n",
        "max_depth = np.array([10,20])\n",
        "criterion = np.array(['gini','entropy'])\n",
        "max_features = np.array(['sqrt','log2', None])\n",
        "min_samples_split = np.array([1,2,5])\n",
        "min_samples_leaf = np.array([1,2,3])\n",
        "\n",
        "#Grid de hiperparametros\n",
        "grid_parametros = dict(n_estimators = n_estimators,\n",
        "                       max_depth=max_depth,\n",
        "                       criterion=criterion,\n",
        "                       max_features=max_features,\n",
        "                       min_samples_split=min_samples_split,\n",
        "                       min_samples_leaf=min_samples_leaf)\n",
        "\n",
        "#Criando modelo base\n",
        "randomForest_base = RandomForestClassifier()\n",
        "\n",
        "#Criando o modelo com Grid de hiperparametros\n",
        "randomForest = GridSearchCV(randomForest_base, grid_parametros, cv=3, n_jobs=8)\n",
        "\n",
        "#Treinando os modelos\n",
        "inicio = time.time()\n",
        "randomForest.fit(X_train_norm, y_train)\n",
        "fim = time.time()\n",
        "\n",
        "#Visualizando os parametros treinados\n",
        "treinos_rf = pd.DataFrame(randomForest.cv_results_)\n",
        "\n",
        "#Acuracia em treino\n",
        "print(f'Acurácia em treinamento: {randomForest.best_score_:.2%}')\n",
        "print('')\n",
        "print(f'Hiperparametros Ideais: {randomForest.best_params_}')\n",
        "print('')\n",
        "print(f'Número de treinamentos realizados: ', treinos_rf.shape[0])\n",
        "print('')\n",
        "print('Tempo de treinamento do modelo: ', round(fim - inicio, 2))"
      ],
      "metadata": {
        "colab": {
          "base_uri": "https://localhost:8080/"
        },
        "id": "6ESIwuF118Wy",
        "outputId": "3c3602c1-b898-40bd-c43d-3be1bd2d1a0e"
      },
      "execution_count": null,
      "outputs": [
        {
          "output_type": "stream",
          "name": "stdout",
          "text": [
            "Acurácia em treinamento: 99.34%\n",
            "\n",
            "Hiperparametros Ideais: {'criterion': 'entropy', 'max_depth': 20, 'max_features': None, 'min_samples_leaf': 3, 'min_samples_split': 2, 'n_estimators': 200}\n",
            "\n",
            "Número de treinamentos realizados:  324\n",
            "\n",
            "Tempo de treinamento do modelo:  1007.68\n"
          ]
        }
      ]
    },
    {
      "cell_type": "code",
      "source": [
        "#Criando o classificador com Random Forest\n",
        "clf = RandomForestClassifier(n_estimators = 100, criterion = 'entropy', max_depth=20, max_features=None, min_samples_leaf=3, min_samples_split=2, n_jobs=6)\n",
        "\n",
        "#Construção do modelo\n",
        "clf = clf.fit(X_train_norm, y_train)"
      ],
      "metadata": {
        "id": "eZybRw6QAGX9"
      },
      "execution_count": null,
      "outputs": []
    },
    {
      "cell_type": "code",
      "source": [
        "#Visualizando a importância de cada variável no modelo\n",
        "plt.rcParams['figure.figsize'] = [10.00, 16.00]\n",
        "plt.rcParams['figure.autolayout'] = True\n",
        "\n",
        "importances = pd.Series(data=clf.feature_importances_, index=preditoras.columns)\n",
        "importances = importances.sort_values(ascending=False)\n",
        "sns.barplot(x=importances, y=importances.index, orient='h').set_title('Importância de variáveis')\n",
        "plt.show()\n"
      ],
      "metadata": {
        "colab": {
          "base_uri": "https://localhost:8080/",
          "height": 1000
        },
        "id": "VklVeqyIF-v8",
        "outputId": "e7e855f8-c403-45bb-892f-54956fdb17d2"
      },
      "execution_count": null,
      "outputs": [
        {
          "output_type": "display_data",
          "data": {
            "text/plain": [
              "<Figure size 1000x1600 with 1 Axes>"
            ],
            "image/png": "[encoded data removed]"
          },
          "metadata": {}
        }
      ]
    },
    {
      "cell_type": "code",
      "source": [
        "#Percentual de importância de variáveis\n",
        "importances.sort_values(ascending=False)"
      ],
      "metadata": {
        "colab": {
          "base_uri": "https://localhost:8080/"
        },
        "id": "EX9P46UbG0_v",
        "outputId": "f960107e-20a8-4ca4-aa71-f2cedc55a6a4"
      },
      "execution_count": null,
      "outputs": [
        {
          "output_type": "execute_result",
          "data": {
            "text/plain": [
              "QT_Parcelas_Atraso                 0.93\n",
              "Qt_Renegociacao                    0.03\n",
              "Saldo_Devedor                      0.01\n",
              "Total_Pago                         0.01\n",
              "Perc_Juros                         0.01\n",
              "Faixa_Dias_Atraso                  0.00\n",
              "QT_Total_Parcelas_Pagas            0.00\n",
              "QT_Total_Parcelas_Pagas_EmAtraso   0.00\n",
              "UF_Cliente                         0.00\n",
              "QT_Total_Parcelas_Pagas_EmDia      0.00\n",
              "Faixa_Salarial                     0.00\n",
              "VL_Emprestimo                      0.00\n",
              "VL_Emprestimo_ComJuros             0.00\n",
              "Faixa_Prazo_Emprestimo             0.00\n",
              "Faixa_Etaria                       0.00\n",
              "Estado_Civil                       0.00\n",
              "Faixa_Prazo_Restante               0.00\n",
              "Sexo                               0.00\n",
              "dtype: float64"
            ]
          },
          "metadata": {},
          "execution_count": 72
        }
      ]
    },
    {
      "cell_type": "code",
      "source": [
        "#\"Simulando os dados de teste\"\n",
        "scores = clf.score(X_train_norm, y_train)\n",
        "scores"
      ],
      "metadata": {
        "colab": {
          "base_uri": "https://localhost:8080/"
        },
        "id": "YyTra7PsHP9G",
        "outputId": "95e76cbf-1b4c-499d-9573-23dc7ca45255"
      },
      "execution_count": null,
      "outputs": [
        {
          "output_type": "execute_result",
          "data": {
            "text/plain": [
              "0.9978897715988083"
            ]
          },
          "metadata": {},
          "execution_count": 73
        }
      ]
    },
    {
      "cell_type": "code",
      "source": [
        "#\"Simulando os dados de teste\"\n",
        "scores = clf.score(X_test_norm, y_test)\n",
        "scores"
      ],
      "metadata": {
        "colab": {
          "base_uri": "https://localhost:8080/"
        },
        "id": "PXydphqIHvBM",
        "outputId": "382a1e0f-92b6-4741-b479-7858e4e8a212"
      },
      "execution_count": null,
      "outputs": [
        {
          "output_type": "execute_result",
          "data": {
            "text/plain": [
              "0.9870903674280039"
            ]
          },
          "metadata": {},
          "execution_count": 74
        }
      ]
    },
    {
      "cell_type": "code",
      "source": [
        "#Dicionário de Métricas e metadados\n",
        "modelo_rf = {\n",
        "    'Melhores Parametros' : randomForest.best_params_,\n",
        "    'Número de Modelos Treinados': treinos_rf.shape[0],\n",
        "    'Melhor Score': str(round(randomForest.best_score_ * 100,2))+'%'\n",
        "    }\n"
      ],
      "metadata": {
        "id": "9mAGP0OiIJZ6"
      },
      "execution_count": null,
      "outputs": []
    },
    {
      "cell_type": "code",
      "source": [
        "modelo_rf"
      ],
      "metadata": {
        "colab": {
          "base_uri": "https://localhost:8080/"
        },
        "id": "1V5lEXLIIySw",
        "outputId": "d714b6d8-19f0-44db-ce2f-bb810067485d"
      },
      "execution_count": null,
      "outputs": [
        {
          "output_type": "execute_result",
          "data": {
            "text/plain": [
              "{'Melhores Parametros': {'criterion': 'entropy',\n",
              "  'max_depth': 20,\n",
              "  'max_features': None,\n",
              "  'min_samples_leaf': 3,\n",
              "  'min_samples_split': 2,\n",
              "  'n_estimators': 200},\n",
              " 'Número de Modelos Treinados': 324,\n",
              " 'Melhor Score': '99.34%'}"
            ]
          },
          "metadata": {},
          "execution_count": 76
        }
      ]
    },
    {
      "cell_type": "markdown",
      "source": [
        "##Modelo SVM"
      ],
      "metadata": {
        "id": "zbSFtH_QKRrJ"
      }
    },
    {
      "cell_type": "code",
      "source": [
        "#Construtor do modelo SVM\n",
        "modelo_svm = SVC()"
      ],
      "metadata": {
        "id": "Z9JEbaleJ4l9"
      },
      "execution_count": null,
      "outputs": []
    },
    {
      "cell_type": "code",
      "source": [
        "#Parâmetros default\n",
        "modelo_svm.get_params()\n"
      ],
      "metadata": {
        "colab": {
          "base_uri": "https://localhost:8080/"
        },
        "id": "e1d8OQORJ9XE",
        "outputId": "d75ec330-a45b-4eae-b266-29e2e9c50600"
      },
      "execution_count": null,
      "outputs": [
        {
          "output_type": "execute_result",
          "data": {
            "text/plain": [
              "{'C': 1.0,\n",
              " 'break_ties': False,\n",
              " 'cache_size': 200,\n",
              " 'class_weight': None,\n",
              " 'coef0': 0.0,\n",
              " 'decision_function_shape': 'ovr',\n",
              " 'degree': 3,\n",
              " 'gamma': 'scale',\n",
              " 'kernel': 'rbf',\n",
              " 'max_iter': -1,\n",
              " 'probability': False,\n",
              " 'random_state': None,\n",
              " 'shrinking': True,\n",
              " 'tol': 0.001,\n",
              " 'verbose': False}"
            ]
          },
          "metadata": {},
          "execution_count": 78
        }
      ]
    },
    {
      "cell_type": "code",
      "source": [
        "#Dicionário de hiperparametros\n",
        "grid_parametros = {\n",
        "    'C': [0.1, 1, 10, 100],\n",
        "    'gamma': [1, 0.1, 0.01, 0.001],\n",
        "    'kernel':['poly', 'rbf', 'sigmoid', 'linear'],\n",
        "    'degree': [2,3,4,],\n",
        "    'coef0':[0.5, 1],\n",
        "    'decision_function_shape':['ovo', 'ovr'],\n",
        "    'max_iter':[-1,1]\n",
        "}\n",
        "svm = GridSearchCV(modelo_svm, grid_parametros, n_jobs=8)\n",
        "\n",
        "#Treinando o modelo\n",
        "inicio = time.time()\n",
        "svm.fit(X_train_norm, y_train)\n",
        "fim = time.time()\n",
        "\n",
        "#Obtendo e visualizando os parametros treinados\n",
        "treinos_svm = pd.DataFrame(svm.cv_results_)\n",
        "\n",
        "#Acuracia em treino\n",
        "\n",
        "print(f'Acurácia em treinamento: {svm.best_score_:.2f}')\n",
        "print('')\n",
        "print(f'Hiperparametros Ideais: {svm.best_params_}')\n",
        "print('')\n",
        "print(f'Número de treinamentos realizados: ' , treinos_svm.shape[0])\n",
        "print('')\n",
        "print('Tempo de treinamento do modelo: ', round(fim - inicio, 2))"
      ],
      "metadata": {
        "colab": {
          "base_uri": "https://localhost:8080/"
        },
        "id": "tJap6QRmKMsa",
        "outputId": "a0adefab-0943-4971-fe40-e36b8b20bfde"
      },
      "execution_count": null,
      "outputs": [
        {
          "output_type": "stream",
          "name": "stdout",
          "text": [
            "Acurácia em treinamento: 0.99\n",
            "\n",
            "Hiperparametros Ideais: {'C': 100, 'coef0': 0.5, 'decision_function_shape': 'ovo', 'degree': 2, 'gamma': 1, 'kernel': 'linear', 'max_iter': -1}\n",
            "\n",
            "Número de treinamentos realizados:  1536\n",
            "\n",
            "Tempo de treinamento do modelo:  4156.6\n"
          ]
        }
      ]
    },
    {
      "cell_type": "code",
      "source": [
        "modelo_svm = {\n",
        "    'Melhores Parametros' : svm.best_params_,\n",
        "    'Número de Modelos Treinados': treinos_svm.shape[0],\n",
        "    'Melhor Score': str(round(svm.best_score_ * 100,2))+'%'\n",
        "    }\n"
      ],
      "metadata": {
        "id": "9Im9wDwsMzdk"
      },
      "execution_count": null,
      "outputs": []
    },
    {
      "cell_type": "markdown",
      "source": [
        "##Modelo KNN\n"
      ],
      "metadata": {
        "id": "87dEbm_JLZKr"
      }
    },
    {
      "cell_type": "code",
      "source": [
        "#Classificador\n",
        "knn = KNeighborsClassifier()\n"
      ],
      "metadata": {
        "id": "S-5qpXzNNJed"
      },
      "execution_count": null,
      "outputs": []
    },
    {
      "cell_type": "code",
      "source": [
        "#Parametros Default\n",
        "knn.get_params()"
      ],
      "metadata": {
        "id": "aqNgxOOhNSuj",
        "colab": {
          "base_uri": "https://localhost:8080/"
        },
        "outputId": "f50313c1-564e-445a-b38b-0150feca2ef2"
      },
      "execution_count": null,
      "outputs": [
        {
          "output_type": "execute_result",
          "data": {
            "text/plain": [
              "{'algorithm': 'auto',\n",
              " 'leaf_size': 30,\n",
              " 'metric': 'minkowski',\n",
              " 'metric_params': None,\n",
              " 'n_jobs': None,\n",
              " 'n_neighbors': 5,\n",
              " 'p': 2,\n",
              " 'weights': 'uniform'}"
            ]
          },
          "metadata": {},
          "execution_count": 82
        }
      ]
    },
    {
      "cell_type": "code",
      "source": [
        "#Valores para Grid parametros\n",
        "n_neighbors = np.array([3,4,5,6,7])\n",
        "algorithm = np.array(['auto', 'ball_tree', 'kd_tree', 'brute'])\n",
        "leaf_size = np.array([30,31,32])\n",
        "metric = np.array(['minkowski', 'euclidean'])\n",
        "\n",
        "#Grid de hiperparametros\n",
        "grid_parametros = dict(n_neighbors=n_neighbors,\n",
        "                       algorithm=algorithm,\n",
        "                       leaf_size=leaf_size,\n",
        "                       metric=metric\n",
        "                       )\n",
        "\n",
        "knn = GridSearchCV(estimator=knn, param_grid=grid_parametros, n_jobs=8)\n",
        "\n",
        "#Treinando o modelo\n",
        "inicio = time.time()\n",
        "knn.fit(X_train_norm, y_train)\n",
        "fim = time.time()\n",
        "\n",
        "#Visualizando os parametros treinados\n",
        "treinos_knn = pd.DataFrame(knn.cv_results_)\n",
        "\n",
        "#Acuracia em treino\n",
        "print(f'Acurácia em treinamento: {knn.best_score_:.2f}')\n",
        "print('')\n",
        "print(f'Hiperparametros Ideais: {knn.best_params_}')\n",
        "print('')\n",
        "print(f'Número de treinamentos realizados: {treinos_knn.shape[0]}')\n",
        "print('')\n",
        "print('Tempo de treinamento do modelo: ', round(fim-inicio,2))"
      ],
      "metadata": {
        "id": "9oIXTX21NYn3",
        "colab": {
          "base_uri": "https://localhost:8080/"
        },
        "outputId": "27b746be-67b8-484e-c47d-fa649a81126a"
      },
      "execution_count": null,
      "outputs": [
        {
          "output_type": "stream",
          "name": "stdout",
          "text": [
            "Acurácia em treinamento: 0.97\n",
            "\n",
            "Hiperparametros Ideais: {'algorithm': 'auto', 'leaf_size': 30, 'metric': 'minkowski', 'n_neighbors': 7}\n",
            "\n",
            "Número de treinamentos realizados: 120\n",
            "\n",
            "Tempo de treinamento do modelo:  151.77\n"
          ]
        }
      ]
    },
    {
      "cell_type": "code",
      "source": [
        "modelo_knn = {\n",
        "    'Melhores Parametros' : knn.best_params_,\n",
        "    'Número de Modelos Treinados' : treinos_knn.shape[0],\n",
        "    'Melhor Score' : str(round(knn.best_score_ * 100,2))+'%'\n",
        "}"
      ],
      "metadata": {
        "id": "uhXE_dfhbMzZ"
      },
      "execution_count": null,
      "outputs": []
    },
    {
      "cell_type": "code",
      "source": [
        "#Gerando um dataframe com os resultados dos modelos para avaliar qual o melhor\n",
        "resumo = pd.DataFrame(\n",
        "    {\n",
        "        'Random Forest':pd.Series(modelo_rf),\n",
        "        'SVM': pd.Series(modelo_svm),\n",
        "        'KNN': pd.Series(modelo_knn)\n",
        "        })"
      ],
      "metadata": {
        "id": "RxJYqgv8vy8H"
      },
      "execution_count": null,
      "outputs": []
    },
    {
      "cell_type": "code",
      "source": [
        "resumo"
      ],
      "metadata": {
        "colab": {
          "base_uri": "https://localhost:8080/"
        },
        "id": "hUot268Kwe9O",
        "outputId": "786d77a7-384f-4be2-b835-6b6dba318495"
      },
      "execution_count": null,
      "outputs": [
        {
          "output_type": "execute_result",
          "data": {
            "text/plain": [
              "                                                                 Random Forest  \\\n",
              "Melhores Parametros          {'criterion': 'entropy', 'max_depth': 20, 'max...   \n",
              "Número de Modelos Treinados                                                324   \n",
              "Melhor Score                                                            99.34%   \n",
              "\n",
              "                                                                           SVM  \\\n",
              "Melhores Parametros          {'C': 100, 'coef0': 0.5, 'decision_function_sh...   \n",
              "Número de Modelos Treinados                                               1536   \n",
              "Melhor Score                                                            99.06%   \n",
              "\n",
              "                                                                           KNN  \n",
              "Melhores Parametros          {'algorithm': 'auto', 'leaf_size': 30, 'metric...  \n",
              "Número de Modelos Treinados                                                120  \n",
              "Melhor Score                                                            97.05%  "
            ],
            "text/html": [
              "\n",
              "  <div id=\"df-87396466-25df-43aa-816a-dabab9bdaeee\" class=\"colab-df-container\">\n",
              "    <div>\n",
              "<style scoped>\n",
              "    .dataframe tbody tr th:only-of-type {\n",
              "        vertical-align: middle;\n",
              "    }\n",
              "\n",
              "    .dataframe tbody tr th {\n",
              "        vertical-align: top;\n",
              "    }\n",
              "\n",
              "    .dataframe thead th {\n",
              "        text-align: right;\n",
              "    }\n",
              "</style>\n",
              "<table border=\"1\" class=\"dataframe\">\n",
              "  <thead>\n",
              "    <tr style=\"text-align: right;\">\n",
              "      <th></th>\n",
              "      <th>Random Forest</th>\n",
              "      <th>SVM</th>\n",
              "      <th>KNN</th>\n",
              "    </tr>\n",
              "  </thead>\n",
              "  <tbody>\n",
              "    <tr>\n",
              "      <th>Melhores Parametros</th>\n",
              "      <td>{'criterion': 'entropy', 'max_depth': 20, 'max...</td>\n",
              "      <td>{'C': 100, 'coef0': 0.5, 'decision_function_sh...</td>\n",
              "      <td>{'algorithm': 'auto', 'leaf_size': 30, 'metric...</td>\n",
              "    </tr>\n",
              "    <tr>\n",
              "      <th>Número de Modelos Treinados</th>\n",
              "      <td>324</td>\n",
              "      <td>1536</td>\n",
              "      <td>120</td>\n",
              "    </tr>\n",
              "    <tr>\n",
              "      <th>Melhor Score</th>\n",
              "      <td>99.34%</td>\n",
              "      <td>99.06%</td>\n",
              "      <td>97.05%</td>\n",
              "    </tr>\n",
              "  </tbody>\n",
              "</table>\n",
              "</div>\n",
              "    <div class=\"colab-df-buttons\">\n",
              "\n",
              "  <div class=\"colab-df-container\">\n",
              "    <button class=\"colab-df-convert\" onclick=\"convertToInteractive('df-87396466-25df-43aa-816a-dabab9bdaeee')\"\n",
              "            title=\"Convert this dataframe to an interactive table.\"\n",
              "            style=\"display:none;\">\n",
              "\n",
              "  <svg xmlns=\"http://www.w3.org/2000/svg\" height=\"24px\" viewBox=\"0 -960 960 960\">\n",
              "    <path d=\"M120-120v-720h720v720H120Zm60-500h600v-160H180v160Zm220 220h160v-160H400v160Zm0 220h160v-160H400v160ZM180-400h160v-160H180v160Zm440 0h160v-160H620v160ZM180-180h160v-160H180v160Zm440 0h160v-160H620v160Z\"/>\n",
              "  </svg>\n",
              "    </button>\n",
              "\n",
              "  <style>\n",
              "    .colab-df-container {\n",
              "      display:flex;\n",
              "      gap: 12px;\n",
              "    }\n",
              "\n",
              "    .colab-df-convert {\n",
              "      background-color: #E8F0FE;\n",
              "      border: none;\n",
              "      border-radius: 50%;\n",
              "      cursor: pointer;\n",
              "      display: none;\n",
              "      fill: #1967D2;\n",
              "      height: 32px;\n",
              "      padding: 0 0 0 0;\n",
              "      width: 32px;\n",
              "    }\n",
              "\n",
              "    .colab-df-convert:hover {\n",
              "      background-color: #E2EBFA;\n",
              "      box-shadow: 0px 1px 2px rgba(60, 64, 67, 0.3), 0px 1px 3px 1px rgba(60, 64, 67, 0.15);\n",
              "      fill: #174EA6;\n",
              "    }\n",
              "\n",
              "    .colab-df-buttons div {\n",
              "      margin-bottom: 4px;\n",
              "    }\n",
              "\n",
              "    [theme=dark] .colab-df-convert {\n",
              "      background-color: #3B4455;\n",
              "      fill: #D2E3FC;\n",
              "    }\n",
              "\n",
              "    [theme=dark] .colab-df-convert:hover {\n",
              "      background-color: #434B5C;\n",
              "      box-shadow: 0px 1px 3px 1px rgba(0, 0, 0, 0.15);\n",
              "      filter: drop-shadow(0px 1px 2px rgba(0, 0, 0, 0.3));\n",
              "      fill: #FFFFFF;\n",
              "    }\n",
              "  </style>\n",
              "\n",
              "    <script>\n",
              "      const buttonEl =\n",
              "        document.querySelector('#df-87396466-25df-43aa-816a-dabab9bdaeee button.colab-df-convert');\n",
              "      buttonEl.style.display =\n",
              "        google.colab.kernel.accessAllowed ? 'block' : 'none';\n",
              "\n",
              "      async function convertToInteractive(key) {\n",
              "        const element = document.querySelector('#df-87396466-25df-43aa-816a-dabab9bdaeee');\n",
              "        const dataTable =\n",
              "          await google.colab.kernel.invokeFunction('convertToInteractive',\n",
              "                                                    [key], {});\n",
              "        if (!dataTable) return;\n",
              "\n",
              "        const docLinkHtml = 'Like what you see? Visit the ' +\n",
              "          '<a target=\"_blank\" href=https://colab.research.google.com/notebooks/data_table.ipynb>data table notebook</a>'\n",
              "          + ' to learn more about interactive tables.';\n",
              "        element.innerHTML = '';\n",
              "        dataTable['output_type'] = 'display_data';\n",
              "        await google.colab.output.renderOutput(dataTable, element);\n",
              "        const docLink = document.createElement('div');\n",
              "        docLink.innerHTML = docLinkHtml;\n",
              "        element.appendChild(docLink);\n",
              "      }\n",
              "    </script>\n",
              "  </div>\n",
              "\n",
              "\n",
              "<div id=\"df-0c85bb2f-4e43-4cd7-a79b-879466dcbb0f\">\n",
              "  <button class=\"colab-df-quickchart\" onclick=\"quickchart('df-0c85bb2f-4e43-4cd7-a79b-879466dcbb0f')\"\n",
              "            title=\"Suggest charts\"\n",
              "            style=\"display:none;\">\n",
              "\n",
              "<svg xmlns=\"http://www.w3.org/2000/svg\" height=\"24px\"viewBox=\"0 0 24 24\"\n",
              "     width=\"24px\">\n",
              "    <g>\n",
              "        <path d=\"M19 3H5c-1.1 0-2 .9-2 2v14c0 1.1.9 2 2 2h14c1.1 0 2-.9 2-2V5c0-1.1-.9-2-2-2zM9 17H7v-7h2v7zm4 0h-2V7h2v10zm4 0h-2v-4h2v4z\"/>\n",
              "    </g>\n",
              "</svg>\n",
              "  </button>\n",
              "\n",
              "<style>\n",
              "  .colab-df-quickchart {\n",
              "      --bg-color: #E8F0FE;\n",
              "      --fill-color: #1967D2;\n",
              "      --hover-bg-color: #E2EBFA;\n",
              "      --hover-fill-color: #174EA6;\n",
              "      --disabled-fill-color: #AAA;\n",
              "      --disabled-bg-color: #DDD;\n",
              "  }\n",
              "\n",
              "  [theme=dark] .colab-df-quickchart {\n",
              "      --bg-color: #3B4455;\n",
              "      --fill-color: #D2E3FC;\n",
              "      --hover-bg-color: #434B5C;\n",
              "      --hover-fill-color: #FFFFFF;\n",
              "      --disabled-bg-color: #3B4455;\n",
              "      --disabled-fill-color: #666;\n",
              "  }\n",
              "\n",
              "  .colab-df-quickchart {\n",
              "    background-color: var(--bg-color);\n",
              "    border: none;\n",
              "    border-radius: 50%;\n",
              "    cursor: pointer;\n",
              "    display: none;\n",
              "    fill: var(--fill-color);\n",
              "    height: 32px;\n",
              "    padding: 0;\n",
              "    width: 32px;\n",
              "  }\n",
              "\n",
              "  .colab-df-quickchart:hover {\n",
              "    background-color: var(--hover-bg-color);\n",
              "    box-shadow: 0 1px 2px rgba(60, 64, 67, 0.3), 0 1px 3px 1px rgba(60, 64, 67, 0.15);\n",
              "    fill: var(--button-hover-fill-color);\n",
              "  }\n",
              "\n",
              "  .colab-df-quickchart-complete:disabled,\n",
              "  .colab-df-quickchart-complete:disabled:hover {\n",
              "    background-color: var(--disabled-bg-color);\n",
              "    fill: var(--disabled-fill-color);\n",
              "    box-shadow: none;\n",
              "  }\n",
              "\n",
              "  .colab-df-spinner {\n",
              "    border: 2px solid var(--fill-color);\n",
              "    border-color: transparent;\n",
              "    border-bottom-color: var(--fill-color);\n",
              "    animation:\n",
              "      spin 1s steps(1) infinite;\n",
              "  }\n",
              "\n",
              "  @keyframes spin {\n",
              "    0% {\n",
              "      border-color: transparent;\n",
              "      border-bottom-color: var(--fill-color);\n",
              "      border-left-color: var(--fill-color);\n",
              "    }\n",
              "    20% {\n",
              "      border-color: transparent;\n",
              "      border-left-color: var(--fill-color);\n",
              "      border-top-color: var(--fill-color);\n",
              "    }\n",
              "    30% {\n",
              "      border-color: transparent;\n",
              "      border-left-color: var(--fill-color);\n",
              "      border-top-color: var(--fill-color);\n",
              "      border-right-color: var(--fill-color);\n",
              "    }\n",
              "    40% {\n",
              "      border-color: transparent;\n",
              "      border-right-color: var(--fill-color);\n",
              "      border-top-color: var(--fill-color);\n",
              "    }\n",
              "    60% {\n",
              "      border-color: transparent;\n",
              "      border-right-color: var(--fill-color);\n",
              "    }\n",
              "    80% {\n",
              "      border-color: transparent;\n",
              "      border-right-color: var(--fill-color);\n",
              "      border-bottom-color: var(--fill-color);\n",
              "    }\n",
              "    90% {\n",
              "      border-color: transparent;\n",
              "      border-bottom-color: var(--fill-color);\n",
              "    }\n",
              "  }\n",
              "</style>\n",
              "\n",
              "  <script>\n",
              "    async function quickchart(key) {\n",
              "      const quickchartButtonEl =\n",
              "        document.querySelector('#' + key + ' button');\n",
              "      quickchartButtonEl.disabled = true;  // To prevent multiple clicks.\n",
              "      quickchartButtonEl.classList.add('colab-df-spinner');\n",
              "      try {\n",
              "        const charts = await google.colab.kernel.invokeFunction(\n",
              "            'suggestCharts', [key], {});\n",
              "      } catch (error) {\n",
              "        console.error('Error during call to suggestCharts:', error);\n",
              "      }\n",
              "      quickchartButtonEl.classList.remove('colab-df-spinner');\n",
              "      quickchartButtonEl.classList.add('colab-df-quickchart-complete');\n",
              "    }\n",
              "    (() => {\n",
              "      let quickchartButtonEl =\n",
              "        document.querySelector('#df-0c85bb2f-4e43-4cd7-a79b-879466dcbb0f button');\n",
              "      quickchartButtonEl.style.display =\n",
              "        google.colab.kernel.accessAllowed ? 'block' : 'none';\n",
              "    })();\n",
              "  </script>\n",
              "</div>\n",
              "\n",
              "  <div id=\"id_28e0fef6-a32e-4fcc-9326-c2aeff9c0691\">\n",
              "    <style>\n",
              "      .colab-df-generate {\n",
              "        background-color: #E8F0FE;\n",
              "        border: none;\n",
              "        border-radius: 50%;\n",
              "        cursor: pointer;\n",
              "        display: none;\n",
              "        fill: #1967D2;\n",
              "        height: 32px;\n",
              "        padding: 0 0 0 0;\n",
              "        width: 32px;\n",
              "      }\n",
              "\n",
              "      .colab-df-generate:hover {\n",
              "        background-color: #E2EBFA;\n",
              "        box-shadow: 0px 1px 2px rgba(60, 64, 67, 0.3), 0px 1px 3px 1px rgba(60, 64, 67, 0.15);\n",
              "        fill: #174EA6;\n",
              "      }\n",
              "\n",
              "      [theme=dark] .colab-df-generate {\n",
              "        background-color: #3B4455;\n",
              "        fill: #D2E3FC;\n",
              "      }\n",
              "\n",
              "      [theme=dark] .colab-df-generate:hover {\n",
              "        background-color: #434B5C;\n",
              "        box-shadow: 0px 1px 3px 1px rgba(0, 0, 0, 0.15);\n",
              "        filter: drop-shadow(0px 1px 2px rgba(0, 0, 0, 0.3));\n",
              "        fill: #FFFFFF;\n",
              "      }\n",
              "    </style>\n",
              "    <button class=\"colab-df-generate\" onclick=\"generateWithVariable('resumo')\"\n",
              "            title=\"Generate code using this dataframe.\"\n",
              "            style=\"display:none;\">\n",
              "\n",
              "  <svg xmlns=\"http://www.w3.org/2000/svg\" height=\"24px\"viewBox=\"0 0 24 24\"\n",
              "       width=\"24px\">\n",
              "    <path d=\"M7,19H8.4L18.45,9,17,7.55,7,17.6ZM5,21V16.75L18.45,3.32a2,2,0,0,1,2.83,0l1.4,1.43a1.91,1.91,0,0,1,.58,1.4,1.91,1.91,0,0,1-.58,1.4L9.25,21ZM18.45,9,17,7.55Zm-12,3A5.31,5.31,0,0,0,4.9,8.1,5.31,5.31,0,0,0,1,6.5,5.31,5.31,0,0,0,4.9,4.9,5.31,5.31,0,0,0,6.5,1,5.31,5.31,0,0,0,8.1,4.9,5.31,5.31,0,0,0,12,6.5,5.46,5.46,0,0,0,6.5,12Z\"/>\n",
              "  </svg>\n",
              "    </button>\n",
              "    <script>\n",
              "      (() => {\n",
              "      const buttonEl =\n",
              "        document.querySelector('#id_28e0fef6-a32e-4fcc-9326-c2aeff9c0691 button.colab-df-generate');\n",
              "      buttonEl.style.display =\n",
              "        google.colab.kernel.accessAllowed ? 'block' : 'none';\n",
              "\n",
              "      buttonEl.onclick = () => {\n",
              "        google.colab.notebook.generateWithVariable('resumo');\n",
              "      }\n",
              "      })();\n",
              "    </script>\n",
              "  </div>\n",
              "\n",
              "    </div>\n",
              "  </div>\n"
            ],
            "application/vnd.google.colaboratory.intrinsic+json": {
              "type": "dataframe",
              "variable_name": "resumo",
              "summary": "{\n  \"name\": \"resumo\",\n  \"rows\": 3,\n  \"fields\": [\n    {\n      \"column\": \"Random Forest\",\n      \"properties\": {\n        \"dtype\": \"object\",\n        \"semantic_type\": \"\",\n        \"description\": \"\"\n      }\n    },\n    {\n      \"column\": \"SVM\",\n      \"properties\": {\n        \"dtype\": \"object\",\n        \"semantic_type\": \"\",\n        \"description\": \"\"\n      }\n    },\n    {\n      \"column\": \"KNN\",\n      \"properties\": {\n        \"dtype\": \"object\",\n        \"semantic_type\": \"\",\n        \"description\": \"\"\n      }\n    }\n  ]\n}"
            }
          },
          "metadata": {},
          "execution_count": 86
        }
      ]
    }
  ]
}